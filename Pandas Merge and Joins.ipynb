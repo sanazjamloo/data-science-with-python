{
 "cells": [
  {
   "cell_type": "code",
   "execution_count": 1,
   "id": "5dff605a",
   "metadata": {},
   "outputs": [],
   "source": [
    "import pandas as pd\n"
   ]
  },
  {
   "cell_type": "code",
   "execution_count": 2,
   "id": "0ef3aab2",
   "metadata": {},
   "outputs": [
    {
     "name": "stdout",
     "output_type": "stream",
     "text": [
      "   id    Name subject_id\n",
      "0   1    Alex       sub1\n",
      "1   2     Amy       sub2\n",
      "2   3   Allen       sub4\n",
      "3   4   Alice       sub5\n",
      "4   5  Ayoung       sub6\n",
      "   id   Name subject_id\n",
      "0   1  Billy       sub2\n",
      "1   2  Brian       sub4\n",
      "2   3  Bryce       sub3\n",
      "3   4   Bran       sub6\n",
      "4   5  Betty       sub5\n"
     ]
    }
   ],
   "source": [
    "# Merging an joining two dataframes on a key.\n",
    "\n",
    "Df1 = pd.DataFrame({\n",
    "    'id': [1,2,3,4,5],\n",
    "    'Name': ['Alex', 'Amy', 'Allen', 'Alice', 'Ayoung'],\n",
    "    'subject_id': ['sub1','sub2','sub4','sub5','sub6']\n",
    "})\n",
    "\n",
    "Df2 = pd.DataFrame({\n",
    "    'id': [1,2,3,4,5],\n",
    "    'Name': ['Billy', 'Brian', 'Bryce', 'Bran', 'Betty'],\n",
    "    'subject_id': ['sub2','sub4','sub3','sub6','sub5']\n",
    "})\n",
    "print(Df1)\n",
    "print(Df2)"
   ]
  },
  {
   "cell_type": "code",
   "execution_count": 3,
   "id": "4c79b2ba",
   "metadata": {},
   "outputs": [
    {
     "name": "stdout",
     "output_type": "stream",
     "text": [
      "   id    Name subject_id\n",
      "0   1    Alex       sub1\n",
      "1   2     Amy       sub2\n",
      "2   3   Allen       sub4\n",
      "3   4   Alice       sub5\n",
      "4   5  Ayoung       sub6\n",
      "0   1   Billy       sub2\n",
      "1   2   Brian       sub4\n",
      "2   3   Bryce       sub3\n",
      "3   4    Bran       sub6\n",
      "4   5   Betty       sub5\n"
     ]
    }
   ],
   "source": [
    "# Concatination ---> combining the two dataframes vertically\n",
    "# To use concat function, the number of the columns must be the same in both dataframes.\n",
    "df3 = pd.concat([Df1,Df2])\n",
    "print(df3)"
   ]
  },
  {
   "cell_type": "code",
   "execution_count": 7,
   "id": "418833a3",
   "metadata": {},
   "outputs": [
    {
     "name": "stdout",
     "output_type": "stream",
     "text": [
      "   id    Name subject_id\n",
      "0   1    Alex       sub1\n",
      "1   2     Amy       sub2\n",
      "2   3   Allen       sub4\n",
      "3   4   Alice       sub5\n",
      "4   5  Ayoung       sub6\n",
      "   id   Name subject_id\n",
      "0   1  Billy       sub2\n",
      "1   2  Brian       sub4\n",
      "2   3  Bryce       sub3\n",
      "3   4   Bran       sub6\n",
      "4   5  Betty       sub5\n"
     ]
    }
   ],
   "source": [
    "# Merging and joining two dataframes\n",
    "import pandas as pd\n",
    "\n",
    "left = pd.DataFrame({\n",
    "    'id': [1,2,3,4,5],\n",
    "    'Name': ['Alex', 'Amy', 'Allen', 'Alice', 'Ayoung'],\n",
    "    'subject_id': ['sub1','sub2','sub4','sub5','sub6']\n",
    "})\n",
    "\n",
    "right = pd.DataFrame({\n",
    "    'id': [1,2,3,4,5],\n",
    "    'Name': ['Billy', 'Brian', 'Bryce', 'Bran', 'Betty'],\n",
    "    'subject_id': ['sub2','sub4','sub3','sub6','sub5']\n",
    "})\n",
    "\n",
    "print(left.to_string())\n",
    "print(right.to_string())\n"
   ]
  },
  {
   "cell_type": "code",
   "execution_count": 8,
   "id": "f8c21a5e",
   "metadata": {},
   "outputs": [
    {
     "name": "stdout",
     "output_type": "stream",
     "text": [
      "   id_x  Name_x subject_id  id_y Name_y\n",
      "0     2     Amy       sub2     1  Billy\n",
      "1     3   Allen       sub4     2  Brian\n",
      "2     4   Alice       sub5     5  Betty\n",
      "3     5  Ayoung       sub6     4   Bran\n"
     ]
    }
   ],
   "source": [
    "# To merge two datafarmes we need at least one common column.\n",
    "print(pd.merge(left, right,on='subject_id', how='inner'))"
   ]
  },
  {
   "cell_type": "code",
   "execution_count": 15,
   "id": "f97733e4",
   "metadata": {},
   "outputs": [
    {
     "name": "stdout",
     "output_type": "stream",
     "text": [
      "Empty DataFrame\n",
      "Columns: [id, Name_x, subject_id, Name_y]\n",
      "Index: []\n"
     ]
    }
   ],
   "source": [
    "# Merge Two DataFrames on Multiple keys\n",
    "\n",
    "import pandas as pd\n",
    "\n",
    "left = pd.DataFrame({\n",
    "    'id': [1,2,3,4,5],\n",
    "    'Name': ['Alex', 'Amy', 'Allen', 'Alice', 'Ayoung'],\n",
    "    'subject_id': ['sub1','sub2','sub4','sub5','sub6']\n",
    "})\n",
    "\n",
    "right = pd.DataFrame({\n",
    "    'id': [1,2,3,4,5],\n",
    "    'Name': ['Billy', 'Brian', 'Bryce', 'Bran', 'Betty'],\n",
    "    'subject_id': ['sub2','sub4','sub3','sub6','sub5']\n",
    "})\n",
    "\n",
    "print(pd.merge(left,right,on=['id','subject_id'], how='inner'))"
   ]
  },
  {
   "cell_type": "code",
   "execution_count": 19,
   "id": "9ac4f6d2",
   "metadata": {},
   "outputs": [
    {
     "name": "stdout",
     "output_type": "stream",
     "text": [
      "   id    Name subject_id\n",
      "0   1    Alex       sub1\n",
      "1   2     Amy       sub2\n",
      "2   3   Allen       sub4\n",
      "3   4   Alice       sub5\n",
      "4   5  Ayoung       sub6\n",
      "   id   Name subject_id\n",
      "0   1  Billy       sub2\n",
      "1   2  Brian       sub4\n",
      "2   3  Bryce       sub3\n",
      "3   4   Bran       sub6\n",
      "4   5  Betty       sub5\n",
      "   id_x  Name_x subject_id  id_y Name_y\n",
      "0   1.0    Alex       sub1   NaN    NaN\n",
      "1   2.0     Amy       sub2   1.0  Billy\n",
      "2   3.0   Allen       sub4   2.0  Brian\n",
      "3   4.0   Alice       sub5   5.0  Betty\n",
      "4   5.0  Ayoung       sub6   4.0   Bran\n",
      "5   NaN     NaN       sub3   3.0  Bryce\n",
      "   id_x  Name_x subject_id  id_y Name_y\n",
      "0     1    Alex       sub1   NaN    NaN\n",
      "1     2     Amy       sub2   1.0  Billy\n",
      "2     3   Allen       sub4   2.0  Brian\n",
      "3     4   Alice       sub5   5.0  Betty\n",
      "4     5  Ayoung       sub6   4.0   Bran\n",
      "   id_x  Name_x subject_id  id_y Name_y\n",
      "0   2.0     Amy       sub2     1  Billy\n",
      "1   3.0   Allen       sub4     2  Brian\n",
      "2   NaN     NaN       sub3     3  Bryce\n",
      "3   5.0  Ayoung       sub6     4   Bran\n",
      "4   4.0   Alice       sub5     5  Betty\n"
     ]
    }
   ],
   "source": [
    "# Left and Right joins\n",
    "\n",
    "import pandas as pd\n",
    "\n",
    "left = pd.DataFrame({\n",
    "    'id': [1,2,3,4,5],\n",
    "    'Name': ['Alex', 'Amy', 'Allen', 'Alice', 'Ayoung'],\n",
    "    'subject_id': ['sub1','sub2','sub4','sub5','sub6']\n",
    "})\n",
    "\n",
    "right = pd.DataFrame({\n",
    "    'id': [1,2,3,4,5],\n",
    "    'Name': ['Billy', 'Brian', 'Bryce', 'Bran', 'Betty'],\n",
    "    'subject_id': ['sub2','sub4','sub3','sub6','sub5']\n",
    "})\n",
    "\n",
    "print(left)\n",
    "print(right)\n",
    "\n",
    "\n",
    "print(pd.merge(left, right,on='subject_id', how='outer')) # will return non-matching items along with matching ones.\n",
    "\n"
   ]
  },
  {
   "cell_type": "code",
   "execution_count": 20,
   "id": "1f4ed7fe",
   "metadata": {},
   "outputs": [
    {
     "name": "stdout",
     "output_type": "stream",
     "text": [
      "   id_x  Name_x subject_id  id_y Name_y\n",
      "0     1    Alex       sub1   NaN    NaN\n",
      "1     2     Amy       sub2   1.0  Billy\n",
      "2     3   Allen       sub4   2.0  Brian\n",
      "3     4   Alice       sub5   5.0  Betty\n",
      "4     5  Ayoung       sub6   4.0   Bran\n"
     ]
    }
   ],
   "source": [
    "print(pd.merge(left, right,on='subject_id', how='left'))"
   ]
  },
  {
   "cell_type": "code",
   "execution_count": 21,
   "id": "7e907320",
   "metadata": {},
   "outputs": [
    {
     "name": "stdout",
     "output_type": "stream",
     "text": [
      "   id_x  Name_x subject_id  id_y Name_y\n",
      "0   2.0     Amy       sub2     1  Billy\n",
      "1   3.0   Allen       sub4     2  Brian\n",
      "2   NaN     NaN       sub3     3  Bryce\n",
      "3   5.0  Ayoung       sub6     4   Bran\n",
      "4   4.0   Alice       sub5     5  Betty\n"
     ]
    }
   ],
   "source": [
    "print(pd.merge(left, right,on='subject_id', how='right'))"
   ]
  },
  {
   "cell_type": "code",
   "execution_count": null,
   "id": "658daf69",
   "metadata": {},
   "outputs": [],
   "source": []
  }
 ],
 "metadata": {
  "kernelspec": {
   "display_name": "Python 3 (ipykernel)",
   "language": "python",
   "name": "python3"
  },
  "language_info": {
   "codemirror_mode": {
    "name": "ipython",
    "version": 3
   },
   "file_extension": ".py",
   "mimetype": "text/x-python",
   "name": "python",
   "nbconvert_exporter": "python",
   "pygments_lexer": "ipython3",
   "version": "3.9.7"
  }
 },
 "nbformat": 4,
 "nbformat_minor": 5
}
