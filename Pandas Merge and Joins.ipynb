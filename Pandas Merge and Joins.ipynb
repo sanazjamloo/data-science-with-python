{
 "cells": [
  {
   "cell_type": "code",
   "execution_count": 1,
   "id": "6b8d8962",
   "metadata": {},
   "outputs": [],
   "source": [
    "import pandas as pd\n"
   ]
  },
  {
   "cell_type": "code",
   "execution_count": null,
   "id": "e21d40dc",
   "metadata": {},
   "outputs": [],
   "source": [
    "# Merging an joining two dataframes on a key.\n",
    "\n",
    "Df1 = pd.DataFrame({\n",
    "    'id': [1,2,3,4,5],\n",
    "    'Name': ['Alex', 'Amy', 'Allen', 'Alice', 'Ayoung'],\n",
    "    'subject_id': ['sub1','sub2','sub4','sub5','sub6']\n",
    "})"
   ]
  },
  {
   "cell_type": "code",
   "execution_count": null,
   "id": "37f3103d",
   "metadata": {},
   "outputs": [],
   "source": []
  },
  {
   "cell_type": "code",
   "execution_count": null,
   "id": "a8924394",
   "metadata": {},
   "outputs": [],
   "source": [
    "# Concatination---> joining vertically\n",
    "df3 = pd.concat([Df1,Df2])\n",
    "print(df3)"
   ]
  },
  {
   "cell_type": "code",
   "execution_count": null,
   "id": "4d7cfe93",
   "metadata": {},
   "outputs": [],
   "source": [
    "#"
   ]
  },
  {
   "cell_type": "code",
   "execution_count": null,
   "id": "bef45150",
   "metadata": {},
   "outputs": [],
   "source": [
    "# To merge two datafarmes we need at least one common column.\n",
    "print(pd.merge(left, right,on='subject_id', how='inner'))"
   ]
  }
 ],
 "metadata": {
  "kernelspec": {
   "display_name": "Python 3 (ipykernel)",
   "language": "python",
   "name": "python3"
  },
  "language_info": {
   "codemirror_mode": {
    "name": "ipython",
    "version": 3
   },
   "file_extension": ".py",
   "mimetype": "text/x-python",
   "name": "python",
   "nbconvert_exporter": "python",
   "pygments_lexer": "ipython3",
   "version": "3.9.7"
  }
 },
 "nbformat": 4,
 "nbformat_minor": 5
}
