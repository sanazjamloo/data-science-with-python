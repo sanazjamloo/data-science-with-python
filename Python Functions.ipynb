{
 "cells": [
  {
   "cell_type": "code",
   "execution_count": 2,
   "id": "7dd25ba9",
   "metadata": {},
   "outputs": [
    {
     "name": "stdout",
     "output_type": "stream",
     "text": [
      "Hello, inside the function\n",
      "Hello, inside the function\n"
     ]
    }
   ],
   "source": [
    "# Define the function\n",
    "\n",
    "def greet():\n",
    "    print(\"Hello, inside the function\")\n",
    "    \n",
    "    \n",
    "greet() # Call/invoke the function to use it.  \n",
    "greet()"
   ]
  },
  {
   "cell_type": "code",
   "execution_count": 5,
   "id": "5895ef08",
   "metadata": {},
   "outputs": [
    {
     "name": "stdout",
     "output_type": "stream",
     "text": [
      "Result is  6\n",
      "Result is  756\n"
     ]
    }
   ],
   "source": [
    "# We can pass arguments inside the functions. Arguments are data we give it to our function.\n",
    "\n",
    "# Python function arguments/parameters/attributes\n",
    "def add(num1, num2):\n",
    "    result = num1 + num2\n",
    "    print(\"Result is \", result)\n",
    "    \n",
    "add(2,4) # have to pass two arguments when calling back the function\n",
    "add(456,300)"
   ]
  },
  {
   "cell_type": "code",
   "execution_count": 8,
   "id": "ed969d0b",
   "metadata": {},
   "outputs": [
    {
     "name": "stdout",
     "output_type": "stream",
     "text": [
      "48\n"
     ]
    }
   ],
   "source": [
    "# Return statement, should always be at the end of function \n",
    "\n",
    "def add(num1, num2):\n",
    "    result = num1 + num2\n",
    "    return result\n",
    "\n",
    "out = add(43,5) #storing the result in a variable so we can reuse it. \n",
    "print(out)"
   ]
  },
  {
   "cell_type": "code",
   "execution_count": null,
   "id": "4b7968f8",
   "metadata": {},
   "outputs": [],
   "source": [
    "# Types of arguments in Python functions\n",
    "\"\"\"\"\n",
    "1. Required Positional Arguments: it is mandatory to pass the arguments.\n",
    "2. Keyword Args\n",
    "3. Arbitrary Args\n",
    "4. Default Args\n",
    "5. Key-Arbitrry Args\n",
    "\"\"\"\""
   ]
  },
  {
   "cell_type": "code",
   "execution_count": 10,
   "id": "ee18e75d",
   "metadata": {},
   "outputs": [
    {
     "name": "stdout",
     "output_type": "stream",
     "text": [
      "Enter your name:Sasha\n",
      "Enter your age:34\n",
      "Hi, Sasha your age is 34\n",
      "Hi, 34 your age is Sasha\n"
     ]
    }
   ],
   "source": [
    "# 1. Required Positional Arguments\n",
    "\n",
    "uname = input(\"Enter your name:\")\n",
    "uage = input(\"Enter your age:\")\n",
    "\n",
    "def func1(name, age):\n",
    "    print(f\"Hi, {name} your age is {age}\")\n",
    "\n",
    "func1(uname, uage)\n",
    "func1(uage,uname)"
   ]
  },
  {
   "cell_type": "code",
   "execution_count": 13,
   "id": "9a35700a",
   "metadata": {},
   "outputs": [
    {
     "name": "stdout",
     "output_type": "stream",
     "text": [
      "Enter your name:Rosa\n",
      "Enter your age:34\n",
      "Hi, Rosa your age is 34\n",
      "Hi, Rosa your age is 34\n"
     ]
    }
   ],
   "source": [
    "# 2. Keyword Args\n",
    "\n",
    "uname = input(\"Enter your name:\")\n",
    "uage = input(\"Enter your age:\")\n",
    "\n",
    "def func2(name, age):\n",
    "    print(f\"Hi, {name} your age is {age}\")\n",
    "\n",
    "func2(name=uname, age=uage)\n",
    "func2(age=uage, name=uname)"
   ]
  },
  {
   "cell_type": "code",
   "execution_count": 15,
   "id": "1dda0b14",
   "metadata": {},
   "outputs": [
    {
     "name": "stdout",
     "output_type": "stream",
     "text": [
      "Hi Sasha\n",
      "Hi Sanaz\n",
      "Hi Rosa\n",
      "Hi Nika\n"
     ]
    }
   ],
   "source": [
    "# 3. Arbitrary Args are useful when we have many values to pass. Any number of values. Syntax with *.\n",
    "\n",
    "def func3 (*names): \n",
    "    for name in names:\n",
    "        print(\"Hi\", name)\n",
    "        \n",
    "func3([\"Sasha\", \"Sanaz\", \"Rosa\", \"Nika\"])\n",
    "\n"
   ]
  },
  {
   "cell_type": "code",
   "execution_count": 17,
   "id": "294a7d7c",
   "metadata": {},
   "outputs": [
    {
     "name": "stdout",
     "output_type": "stream",
     "text": [
      "Hi, Sasha age 36\n",
      "Hi, Nika age 20\n"
     ]
    }
   ],
   "source": [
    "# 4. Default Args will return the default value given in the function definition.\n",
    "\n",
    "def func4(name, age=20):\n",
    "    print(f\"Hi, {name} age {age}\")\n",
    "    \n",
    "func4(\"Sasha\", 36)\n",
    "func4(\"Nika\") # no value is provided for age but it'll print the default value for age which is 20. "
   ]
  },
  {
   "cell_type": "code",
   "execution_count": 18,
   "id": "8888fb4f",
   "metadata": {},
   "outputs": [
    {
     "name": "stdout",
     "output_type": "stream",
     "text": [
      "10\n",
      "20\n",
      "(30, 40)\n",
      "{'name': 'Sasha', 'country': 'USA'}\n"
     ]
    }
   ],
   "source": [
    "# 5. Key-Arbitrry Args: when we have key/value pairs or dictionaries in the arguments we can use key-arbitrary arguments.\n",
    "\n",
    "def func7(arg1, arg2, *arg3,**keyargs):\n",
    "    print(arg1)\n",
    "    print(arg2)\n",
    "    print(arg3)\n",
    "    print(keyargs)\n",
    "    \n",
    "func7(10,20,30,40, name=\"Sasha\", country=\"USA\")"
   ]
  },
  {
   "cell_type": "code",
   "execution_count": 44,
   "id": "79cb21b5",
   "metadata": {},
   "outputs": [
    {
     "name": "stdout",
     "output_type": "stream",
     "text": [
      "140216281404048\n",
      "100\n",
      "140216281400784\n"
     ]
    }
   ],
   "source": [
    "# Scope of the variables: where we can access those variables.\n",
    "# Two scopes: global,local\n",
    "\n",
    "a = 100         #this is a global variable. Can be used anywhere in the function\n",
    "def func8():\n",
    "    b = 200     # this is a local variable becasue it cannot be accessed outside of the function.\n",
    "    #print(b)\n",
    "    print(id(b)) # this is the memory address of local variable\n",
    "    \n",
    "func8()\n",
    "print(a)\n",
    "#print(b)\n",
    "print(id(a))"
   ]
  },
  {
   "cell_type": "code",
   "execution_count": 20,
   "id": "46f69ec1",
   "metadata": {},
   "outputs": [
    {
     "name": "stdout",
     "output_type": "stream",
     "text": [
      "200\n",
      "140216281404048\n",
      "100\n",
      "140216281400784\n"
     ]
    }
   ],
   "source": [
    "a = 100         #this is a global variable. Can be used anywhere in the function\n",
    "def func9():\n",
    "    global a    # this gives us access to a global variable inside a local scope\n",
    "    a = 200     # this is a local variable becasue it cannot be accessed outside of the function.\n",
    "    print(a)\n",
    "    print(id(a)) # this is the memory address of local variable\n",
    "    \n",
    "func8()\n",
    "print(a)         \n",
    "print(id(a))"
   ]
  },
  {
   "cell_type": "code",
   "execution_count": 27,
   "id": "2f6ab9e9",
   "metadata": {},
   "outputs": [
    {
     "name": "stdout",
     "output_type": "stream",
     "text": [
      "123\n"
     ]
    }
   ],
   "source": [
    "# Python Lambda functions: single line body, no name(annonymous function), default return.\n",
    "# No direct use for lambda but there are some advanced functions that lambda can be used in them.\n",
    "# syntax: lambda arguments:expression(arg_values)\n",
    "\n",
    "def add(num1, num2):\n",
    "    result = num1 + num2\n",
    "    return result\n",
    "\n",
    "var = lambda num1,num2:num1+num2\n",
    "print(var(45,78))\n"
   ]
  },
  {
   "cell_type": "code",
   "execution_count": 30,
   "id": "a415327a",
   "metadata": {},
   "outputs": [
    {
     "name": "stdout",
     "output_type": "stream",
     "text": [
      "[78, 96, 32, 84, 98, 78]\n"
     ]
    }
   ],
   "source": [
    "# Advanced functions: filter(),map(), reduce()\n",
    "# Segregate even values from a list\n",
    "\n",
    "def even_lst(lst):\n",
    "    even = []\n",
    "    for i in lst:\n",
    "        if i%2 == 0:\n",
    "            even.append(i)\n",
    "    return even\n",
    "print(even_lst([78,96,32,57,84,51,263,98,78,17,19]))"
   ]
  },
  {
   "cell_type": "code",
   "execution_count": 36,
   "id": "d203a4b0",
   "metadata": {},
   "outputs": [
    {
     "name": "stdout",
     "output_type": "stream",
     "text": [
      "[78, 96, 32, 84, 98, 78]\n",
      "[57, 51, 263, 17, 19]\n"
     ]
    }
   ],
   "source": [
    "# Filter Function filter(lambda expression, collection)\n",
    "# lambda being used with filter () function\n",
    "\n",
    "lst = [78,96,32,57,84,51,263,98,78,17,19]\n",
    "even = list(filter(lambda i:i%2==0,lst))\n",
    "odd = list(filter(lambda i:i%2!=0,lst))\n",
    "print(even)\n",
    "print(odd)"
   ]
  },
  {
   "cell_type": "code",
   "execution_count": 39,
   "id": "8fb2d880",
   "metadata": {},
   "outputs": [
    {
     "name": "stdout",
     "output_type": "stream",
     "text": [
      "[1728, 46656, 941192, 91125, 1728]\n"
     ]
    }
   ],
   "source": [
    "# Map() function is the opposite of filter function. \n",
    "\n",
    "lst = [12,36,98,45,12]\n",
    "# To get cube of the items in the list\n",
    "cube = list(map(lambda i:i**3, lst))\n",
    "print(cube)"
   ]
  },
  {
   "cell_type": "code",
   "execution_count": 41,
   "id": "c95de069",
   "metadata": {},
   "outputs": [
    {
     "name": "stdout",
     "output_type": "stream",
     "text": [
      "Total sales of the week is: 26514\n"
     ]
    }
   ],
   "source": [
    "# Reduce function(Aggregations)\n",
    "# It's not used so much because Numpy is much more advanced and popular. \n",
    "\n",
    "\n",
    "from functools import reduce\n",
    "sales = [4500, 2563,7854,3698,7899]\n",
    "total_sales = reduce(lambda x,y:x+y, sales) # x is the individual value in the list that we are passin, y is the intermediate number that we are adding it to the sum of the previous number. \n",
    "print(\"Total sales of the week is:\", total_sales)\n"
   ]
  },
  {
   "cell_type": "code",
   "execution_count": 45,
   "id": "eadf7cc5",
   "metadata": {},
   "outputs": [
    {
     "name": "stdout",
     "output_type": "stream",
     "text": [
      "<class 'int'>\n"
     ]
    }
   ],
   "source": [
    "age = 20\n",
    "print(type(age))"
   ]
  },
  {
   "cell_type": "code",
   "execution_count": null,
   "id": "1252bedf",
   "metadata": {},
   "outputs": [],
   "source": []
  }
 ],
 "metadata": {
  "kernelspec": {
   "display_name": "Python 3 (ipykernel)",
   "language": "python",
   "name": "python3"
  },
  "language_info": {
   "codemirror_mode": {
    "name": "ipython",
    "version": 3
   },
   "file_extension": ".py",
   "mimetype": "text/x-python",
   "name": "python",
   "nbconvert_exporter": "python",
   "pygments_lexer": "ipython3",
   "version": "3.9.7"
  }
 },
 "nbformat": 4,
 "nbformat_minor": 5
}
