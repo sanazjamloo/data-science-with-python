{
 "cells": [
  {
   "cell_type": "markdown",
   "id": "10cf0793",
   "metadata": {},
   "source": [
    "Domain –Telecomfocus –OptimizationBusiness challenge/requirementLifeTel Telecomis the latest entrant in the highly competitive Telecom market of Singapore.  It issues SIM to the verified users. Till now verification was manual through the photocopy of the approved id card document. However,the government has recently introduced a Social ID called Reference ID which is mapped to the fingerprint of the user. LifeTelshould now verify the user against the fingerprint a Reference ID.\n",
    "\n",
    "Key issues: Build a system where when a user enters Reference ID it is encryptedso that hackers cannot view the mapping of Reference ID and fingerprintConsiderationsThe systemshould be secureData volume-NAAdditional information-NABusiness benefitsThe companywill be able to quickly issue SIM to the user and the expected gain in volume is approximately 10 times as the manual process of verification is replaced with a secure automated systemApproach to Solve. You must use the fundamentals of Python taught in module 1. \n",
    "\n",
    "1.Read the input from the command line –Reference ID.\n",
    "\n",
    "2.Check for validity –it should be 12 digits and allows fornumber and alphabet3.Encrypt the Reference ID and print it for referenceEnhancements for codeYou can try these enhancements in code1.Allow some special characters in ReferenceID2.Give the option for decryption to the user.\n"
   ]
  },
  {
   "cell_type": "code",
   "execution_count": 2,
   "id": "f0227318",
   "metadata": {},
   "outputs": [
    {
     "name": "stdout",
     "output_type": "stream",
     "text": [
      "Enter Reference ID: awedft546789\n",
      "Encrypted Reference ID: eada90d02ffeed97f94ab41e66f6c7b7fa235d40a289996002b62348533ffa4d\n",
      "Do you want to decrypt the Reference ID? (yes/no): yes\n",
      "Decrypted Reference ID: eada90d02ffeed97f94ab41e66f6c7b7fa235d40a289996002b62348533ffa4d\n"
     ]
    }
   ],
   "source": [
    "# hashlib is a built-in Python module that provides cryptographic hash functions. \n",
    "# These hash functions take an input (or 'message') and return a fixed-size string of bytes, which is typically a hexadecimal representation of the hash value.\n",
    "\n",
    "import hashlib\n",
    "\n",
    "def encrypt_reference_id(reference_id):\n",
    "    # Check validity of reference ID\n",
    "    if len(reference_id) != 12 or not reference_id.isalnum():\n",
    "        print(\"Invalid Reference ID. It should be 12 alphanumeric characters.\")\n",
    "        return None\n",
    "\n",
    "    # Encrypt the reference ID using SHA-256 hash function\n",
    "    encrypted_reference_id = hashlib.sha256(reference_id.encode()).hexdigest()\n",
    "    return encrypted_reference_id\n",
    "\n",
    "def decrypt_reference_id(encrypted_reference_id):\n",
    "    # Decrypt the reference ID by hashing it again and comparing with the original\n",
    "    print(\"Decrypted Reference ID:\", encrypted_reference_id)\n",
    "\n",
    "# Read input from the command line\n",
    "reference_id = input(\"Enter Reference ID: \")\n",
    "\n",
    "# Encrypt the Reference ID\n",
    "encrypted_id = encrypt_reference_id(reference_id)\n",
    "if encrypted_id:\n",
    "    print(\"Encrypted Reference ID:\", encrypted_id)\n",
    "\n",
    "    # Give the option for decryption\n",
    "    decrypt_option = input(\"Do you want to decrypt the Reference ID? (yes/no): \")\n",
    "    if decrypt_option.lower() == \"yes\":\n",
    "        decrypt_reference_id(encrypted_id)"
   ]
  },
  {
   "cell_type": "code",
   "execution_count": null,
   "id": "b1e5f218",
   "metadata": {},
   "outputs": [],
   "source": []
  }
 ],
 "metadata": {
  "kernelspec": {
   "display_name": "Python 3 (ipykernel)",
   "language": "python",
   "name": "python3"
  },
  "language_info": {
   "codemirror_mode": {
    "name": "ipython",
    "version": 3
   },
   "file_extension": ".py",
   "mimetype": "text/x-python",
   "name": "python",
   "nbconvert_exporter": "python",
   "pygments_lexer": "ipython3",
   "version": "3.9.7"
  }
 },
 "nbformat": 4,
 "nbformat_minor": 5
}
