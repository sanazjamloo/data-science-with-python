{
 "cells": [
  {
   "cell_type": "markdown",
   "id": "e7d415c2",
   "metadata": {},
   "source": [
    "Domain –Banking Marketing\n",
    "\n",
    "– Business Optimization\n",
    "\n",
    "Challenge/requirement Bank of Portugal runs a marketing campaign to offer loans to clients.The loans offered to only clients with particular professions. A list of successful campaigns(with client data) is given in the attached dataset. You have to come up with a program that reads the file and builds a set of unique profession lists and gives input profession of the client.\n",
    "\n",
    "–The system tells whether the client is eligible to be approached for a marketing campaign. Key issues:\n",
    "-Tele Caller can only make x number of cold calls in a day. Hence to increase her effectiveness only eligible customers should be called. \n",
    "Considerations: The current system does not differentiate clients based on age and profession. Data volume 447 records in bank-data.csv. \n",
    "Additional information: The company can achieve between 15% to 20% higher conversion by targeting the right clients.\n",
    "\n",
    "Approach to Solve: You have to use the fundamentals of Python taught in module 2.\n",
    "\n",
    "1. Read file bank-data.csv\n",
    "2. Build a set of unique jobs\n",
    "3. Read the input from the command line –profession\n",
    "4. Check if the profession is on the list\n",
    "5. Print whether the client is eligible\n"
   ]
  },
  {
   "cell_type": "code",
   "execution_count": 26,
   "id": "fea59b38",
   "metadata": {},
   "outputs": [],
   "source": [
    "import pandas as pd\n",
    "import numpy as np\n",
    "import matplotlib.pyplot as plt\n",
    "import seaborn as sns"
   ]
  },
  {
   "cell_type": "code",
   "execution_count": 24,
   "id": "0502ecd3",
   "metadata": {},
   "outputs": [
    {
     "name": "stdout",
     "output_type": "stream",
     "text": [
      "Top Ten:    age          job   marital    y\n",
      "0   20      student    single  yes\n",
      "1   32   management    single  yes\n",
      "2   49   technician   married  yes\n",
      "3   32  blue-collar   married  yes\n",
      "4   33   management   married  yes\n",
      "5   61       admin.   married  yes\n",
      "6   45  blue-collar  divorced  yes\n",
      "7   34   technician   married  yes\n",
      "8   37   management   married  yes\n",
      "9   27       admin.  divorced  yes\n",
      "========================================\n",
      "Shape: (447, 4)\n",
      "========================================\n",
      "<class 'pandas.core.frame.DataFrame'>\n",
      "RangeIndex: 447 entries, 0 to 446\n",
      "Data columns (total 4 columns):\n",
      " #   Column   Non-Null Count  Dtype \n",
      "---  ------   --------------  ----- \n",
      " 0   age      447 non-null    int64 \n",
      " 1   job      447 non-null    object\n",
      " 2   marital  447 non-null    object\n",
      " 3   y        447 non-null    object\n",
      "dtypes: int64(1), object(3)\n",
      "memory usage: 14.1+ KB\n",
      "Info: None\n",
      "========================================\n",
      "Describe:               age\n",
      "count  447.000000\n",
      "mean    39.413870\n",
      "std     10.038539\n",
      "min     19.000000\n",
      "25%     32.000000\n",
      "50%     37.000000\n",
      "75%     47.000000\n",
      "max     80.000000\n",
      "========================================\n",
      "Missing Values: age        0\n",
      "job        0\n",
      "marital    0\n",
      "y          0\n",
      "dtype: int64\n"
     ]
    }
   ],
   "source": [
    "df = pd.read_csv(\"bank-data.csv\")\n",
    "print(\"Top Ten:\", df.head(10))\n",
    "print(\"========================================\")\n",
    "print(\"Shape:\", df.shape)\n",
    "print(\"========================================\")\n",
    "print(\"Info:\", df.info())\n",
    "print(\"========================================\")\n",
    "print(\"Describe:\", df.describe())\n",
    "print(\"========================================\")\n",
    "print(\"Missing Values:\", df.isnull().sum())"
   ]
  },
  {
   "cell_type": "code",
   "execution_count": 10,
   "id": "ea06148f",
   "metadata": {},
   "outputs": [
    {
     "name": "stdout",
     "output_type": "stream",
     "text": [
      "['student' 'management' 'technician' 'blue-collar' 'admin.' 'services'\n",
      " 'self-employed' 'entrepreneur' 'housemaid']\n"
     ]
    }
   ],
   "source": [
    "# Find unique values in Job column\n",
    "unique_jobs = df['job'].unique()\n",
    "\n",
    "# Print the unique values\n",
    "print(unique_jobs)"
   ]
  },
  {
   "cell_type": "code",
   "execution_count": null,
   "id": "cb14ce2f",
   "metadata": {},
   "outputs": [],
   "source": [
    "import csv\n",
    "\n",
    "def check_eligibility():\n",
    "    file_name = \"bank-data.csv\"\n",
    "    unique_professions = set()\n",
    "    \n",
    "    with open(file_name, 'r') as file:\n",
    "        reader = csv.reader(file)\n",
    "        next(reader)  # Skip header row\n",
    "        for row in reader:\n",
    "            unique_professions.add(row[1])  # Assuming 'job' is the second column\n",
    "            \n",
    "    profession = input(\"Enter the profession of the client: \")\n",
    "    \n",
    "    if profession in unique_professions:\n",
    "        print(\"The client is eligible for the marketing campaign.\")\n",
    "    else:\n",
    "        print(\"The client is not eligible for the marketing campaign.\")\n",
    "\n",
    "check_eligibility()"
   ]
  },
  {
   "cell_type": "code",
   "execution_count": 56,
   "id": "c3b8607d",
   "metadata": {},
   "outputs": [],
   "source": []
  },
  {
   "cell_type": "code",
   "execution_count": null,
   "id": "eb731574",
   "metadata": {},
   "outputs": [],
   "source": []
  }
 ],
 "metadata": {
  "kernelspec": {
   "display_name": "Python 3 (ipykernel)",
   "language": "python",
   "name": "python3"
  },
  "language_info": {
   "codemirror_mode": {
    "name": "ipython",
    "version": 3
   },
   "file_extension": ".py",
   "mimetype": "text/x-python",
   "name": "python",
   "nbconvert_exporter": "python",
   "pygments_lexer": "ipython3",
   "version": "3.9.7"
  }
 },
 "nbformat": 4,
 "nbformat_minor": 5
}
