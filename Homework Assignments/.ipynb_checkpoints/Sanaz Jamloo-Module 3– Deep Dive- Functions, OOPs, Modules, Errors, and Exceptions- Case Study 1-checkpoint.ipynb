{
 "cells": [
  {
   "cell_type": "markdown",
   "id": "2cf92e34",
   "metadata": {},
   "source": [
    "1. A Robot moves in a Plane starting from the origin point (0,0). The robot can move UP, DOWN, LEFT, or RIGHT. The trace of Robot movement is as given following: UP 5 DOWN 3 LEFT 3 RIGHT 2. The numbers after directions are steps.  Write a program to compute the distance current position after a sequence of movements. Hint: Use the math module. "
   ]
  },
  {
   "cell_type": "code",
   "execution_count": null,
   "id": "b401ccf4",
   "metadata": {},
   "outputs": [],
   "source": []
  },
  {
   "cell_type": "markdown",
   "id": "2bf89a51",
   "metadata": {},
   "source": [
    "2. Data of XYZ company is stored in the sorted list. Write a program for searching specific data from that list. Hint: Use if/elif to deal with conditions. "
   ]
  },
  {
   "cell_type": "code",
   "execution_count": 2,
   "id": "e6e7caf3",
   "metadata": {},
   "outputs": [
    {
     "name": "stdout",
     "output_type": "stream",
     "text": [
      "Target 7 found at index 6.\n",
      "Target 11 does not exist in the list.\n"
     ]
    }
   ],
   "source": [
    "# Using in() and index() built-in functions\n",
    "\n",
    "\n",
    "def search(sorted_list, target):\n",
    "    if target in sorted_list:\n",
    "        return f\"Target {target} found at index {sorted_list.index(target)}.\"\n",
    "    else:\n",
    "        return f\"Target {target} does not exist in the list.\"\n",
    "    \n",
    "sorted_list = [1, 2, 3, 4, 5, 6, 7, 8, 9, 10]\n",
    "target = 7\n",
    "print(search(sorted_list, target))\n",
    "\n",
    "target = 11\n",
    "print(search(sorted_list, target))"
   ]
  },
  {
   "cell_type": "markdown",
   "id": "cf64455b",
   "metadata": {},
   "source": [
    "3. Weather forecasting organization wants to show whether is it day or night. So, write a program for such an organization to find whether is it dark outside or not. Hint: Use the time module. "
   ]
  },
  {
   "cell_type": "code",
   "execution_count": null,
   "id": "34084dee",
   "metadata": {},
   "outputs": [],
   "source": []
  },
  {
   "cell_type": "markdown",
   "id": "ebbf3e21",
   "metadata": {},
   "source": [
    "4. Write a program to find the distance between two locations when their latitude and longitudes are given. Hint: Use the math module. "
   ]
  },
  {
   "cell_type": "code",
   "execution_count": null,
   "id": "8609e37a",
   "metadata": {},
   "outputs": [],
   "source": []
  }
 ],
 "metadata": {
  "kernelspec": {
   "display_name": "Python 3 (ipykernel)",
   "language": "python",
   "name": "python3"
  },
  "language_info": {
   "codemirror_mode": {
    "name": "ipython",
    "version": 3
   },
   "file_extension": ".py",
   "mimetype": "text/x-python",
   "name": "python",
   "nbconvert_exporter": "python",
   "pygments_lexer": "ipython3",
   "version": "3.9.7"
  }
 },
 "nbformat": 4,
 "nbformat_minor": 5
}
