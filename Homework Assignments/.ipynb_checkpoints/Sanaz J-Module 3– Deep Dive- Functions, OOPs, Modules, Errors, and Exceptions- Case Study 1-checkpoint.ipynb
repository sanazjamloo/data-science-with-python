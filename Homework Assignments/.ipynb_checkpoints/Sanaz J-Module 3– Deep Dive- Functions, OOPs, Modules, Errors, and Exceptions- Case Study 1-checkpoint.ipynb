{
 "cells": [
  {
   "cell_type": "markdown",
   "id": "2cf92e34",
   "metadata": {},
   "source": [
    "1. A Robot moves in a Plane starting from the origin point (0,0). The robot can move UP, DOWN, LEFT, or RIGHT. The trace of Robot movement is as given following: UP 5 DOWN 3 LEFT 3 RIGHT 2. The numbers after directions are steps.  Write a program to compute the distance current position after a sequence of movements. Hint: Use the math module. "
   ]
  },
  {
   "cell_type": "code",
   "execution_count": 4,
   "id": "b401ccf4",
   "metadata": {},
   "outputs": [
    {
     "name": "stdout",
     "output_type": "stream",
     "text": [
      "Distance from the origin after the sequence of movements: 2.23606797749979\n"
     ]
    }
   ],
   "source": [
    "# Keeping track of the robot's movements and then calculating the distance from the origin point.\n",
    "import math\n",
    "\n",
    "def calculate_distance(movement):\n",
    "    x = 0\n",
    "    y = 0\n",
    "    \n",
    "    for movement in movements:\n",
    "        direction, steps, = movement.split()\n",
    "        steps = int(steps)\n",
    "        \n",
    "        if direction == 'UP':\n",
    "            y+= steps\n",
    "        elif direction == 'DOWN':\n",
    "            y-= steps\n",
    "        elif direction == 'LEFT':\n",
    "            x-= steps\n",
    "        elif direction == 'RIGHT':\n",
    "            x+= steps\n",
    "            \n",
    "            \n",
    "    distance = math.sqrt(x**2 + y**2)\n",
    "    return distance\n",
    "\n",
    "\n",
    "# Test\n",
    "movements = [\"UP 5\", \"DOWN 3\", \"LEFT 3\", \"RIGHT 2\"]\n",
    "distance = calculate_distance(movements)\n",
    "print(\"Distance from the origin after the sequence of movements:\", distance)"
   ]
  },
  {
   "cell_type": "markdown",
   "id": "2bf89a51",
   "metadata": {},
   "source": [
    "2. Data of XYZ company is stored in the sorted list. Write a program for searching specific data from that list. Hint: Use if/elif to deal with conditions. "
   ]
  },
  {
   "cell_type": "code",
   "execution_count": 2,
   "id": "e6e7caf3",
   "metadata": {},
   "outputs": [
    {
     "name": "stdout",
     "output_type": "stream",
     "text": [
      "Target 7 found at index 6.\n",
      "Target 11 does not exist in the list.\n"
     ]
    }
   ],
   "source": [
    "# Using in() and index() built-in functions\n",
    "\n",
    "\n",
    "def search(sorted_list, target):\n",
    "    if target in sorted_list:\n",
    "        return f\"Target {target} found at index {sorted_list.index(target)}.\"\n",
    "    else:\n",
    "        return f\"Target {target} does not exist in the list.\"\n",
    "    \n",
    "sorted_list = [1, 2, 3, 4, 5, 6, 7, 8, 9, 10]\n",
    "target = 7\n",
    "print(search(sorted_list, target))\n",
    "\n",
    "target = 11\n",
    "print(search(sorted_list, target))"
   ]
  },
  {
   "cell_type": "markdown",
   "id": "cf64455b",
   "metadata": {},
   "source": [
    "3. Weather forecasting organization wants to show whether is it day or night. So, write a program for such an organization to find whether is it dark outside or not. Hint: Use the time module. "
   ]
  },
  {
   "cell_type": "code",
   "execution_count": 6,
   "id": "34084dee",
   "metadata": {},
   "outputs": [
    {
     "name": "stdout",
     "output_type": "stream",
     "text": [
      "It is currently light outside.\n"
     ]
    }
   ],
   "source": [
    "import datetime\n",
    "import pytz\n",
    "\n",
    "def is_dark():\n",
    "    # Set my timezone\n",
    "    timezone = pytz.timezone('US/Pacific')       \n",
    "    \n",
    "    \n",
    "    # Get current time\n",
    "    now = datetime.datetime.now(timezone)\n",
    "    \n",
    "    # Get sunrise and sunset times for today\n",
    "    sunrise = datetime.datetime(now.year, now.month, now.day, 6, 0, tzinfo=timezone)  # Assuming sunrise is at 6:00 AM\n",
    "    sunset = datetime.datetime(now.year, now.month, now.day, 18, 0, tzinfo=timezone)  # Assuming sunset is at 6:00 PM\n",
    "    \n",
    "    # Check if it is currently dark outside\n",
    "    if now < sunrise or now > sunset:\n",
    "        return True\n",
    "    else:\n",
    "        return False\n",
    "\n",
    "# Test:\n",
    "if is_dark():\n",
    "    print(\"It is currently dark outside.\")\n",
    "else:\n",
    "    print(\"It is currently light outside.\")"
   ]
  },
  {
   "cell_type": "markdown",
   "id": "ebbf3e21",
   "metadata": {},
   "source": [
    "4. Write a program to find the distance between two locations when their latitude and longitudes are given. Hint: Use the math module. "
   ]
  },
  {
   "cell_type": "code",
   "execution_count": 7,
   "id": "8609e37a",
   "metadata": {},
   "outputs": [
    {
     "name": "stdout",
     "output_type": "stream",
     "text": [
      "Distance between San Francisco and Los Angeles: 559.254352757278 km\n"
     ]
    }
   ],
   "source": [
    "import math\n",
    "\n",
    "def equirectangular(lat1, lon1, lat2, lon2):\n",
    "    # Radius of the Earth in kilometers\n",
    "    R = 6371.0 \n",
    "    \n",
    "    # Convert latitude and longitude from degrees to radians\n",
    "    lat1 = math.radians(lat1)\n",
    "    lon1 = math.radians(lon1)\n",
    "    lat2 = math.radians(lat2)\n",
    "    lon2 = math.radians(lon2)\n",
    "    \n",
    "    # Calculate differences in latitude and longitude\n",
    "    dlat = lat2 - lat1\n",
    "    dlon = lon2 - lon1\n",
    "    \n",
    "    # Equirectangular approximation\n",
    "    x = dlon * math.cos((lat1 + lat2) / 2)\n",
    "    y = dlat\n",
    "    \n",
    "    # Calculate distance\n",
    "    distance = R * math.sqrt(x**2 + y**2)\n",
    "    \n",
    "    return distance\n",
    "\n",
    "# Test:\n",
    "lat1, lon1 = 37.7749, -122.4194  # Latitude and longitude of San Francisco, CA\n",
    "lat2, lon2 = 34.0522, -118.2437  # Latitude and longitude of Los Angeles, CA\n",
    "\n",
    "distance = equirectangular(lat1, lon1, lat2, lon2)\n",
    "print(\"Distance between San Francisco and Los Angeles:\", distance, \"km\")"
   ]
  },
  {
   "cell_type": "markdown",
   "id": "7803b9ab",
   "metadata": {},
   "source": [
    "5. Design software for bank systems. There should be options like cash withdrawal, cash credit, and a change password. According to user input, the software should provide the required output. Hint: Use if else statements and functions. "
   ]
  },
  {
   "cell_type": "code",
   "execution_count": 8,
   "id": "a91ffb1b",
   "metadata": {},
   "outputs": [
    {
     "name": "stdout",
     "output_type": "stream",
     "text": [
      "\n",
      "Banking System Menu:\n",
      "1. Withdraw Money\n",
      "2. Deposit Money\n",
      "3. Change Password\n",
      "4. Exit\n",
      "Please choose an option (1-4): 1\n",
      "Enter the amount to withdraw: 20\n",
      "Withdrew $20.0. Remaining balance is $980.0.\n",
      "\n",
      "Banking System Menu:\n",
      "1. Withdraw Money\n",
      "2. Deposit Money\n",
      "3. Change Password\n",
      "4. Exit\n",
      "Please choose an option (1-4): 4\n",
      "Exiting the banking system.\n"
     ]
    }
   ],
   "source": [
    "class BankAccount:\n",
    "    def __init__(self, initial_balance=0, password='password123'):  #constructor method\n",
    "        self.balance = initial_balance\n",
    "        self.password = password\n",
    "\n",
    "    def deposit(self, amount):\n",
    "        if amount > 0:\n",
    "            self.balance += amount\n",
    "            print(f\"Deposited ${amount}. New balance is ${self.balance}.\")\n",
    "        else:\n",
    "            print(\"Invalid deposit amount.\")\n",
    "\n",
    "    def withdraw(self, amount):\n",
    "        if amount > 0 and amount <= self.balance:\n",
    "            self.balance -= amount\n",
    "            print(f\"Withdrew ${amount}. Remaining balance is ${self.balance}.\")\n",
    "        else:\n",
    "            print(\"Invalid or insufficient funds for withdrawal.\")\n",
    "\n",
    "    def change_password(self, old_password, new_password):\n",
    "        if old_password == self.password:\n",
    "            self.password = new_password\n",
    "            print(\"Password changed successfully.\")\n",
    "        else:\n",
    "            print(\"Incorrect password. Password change failed.\")\n",
    "\n",
    "def main():\n",
    "    # Create a bank account instance\n",
    "    account = BankAccount(1000)  # Starting balance of $1000\n",
    "\n",
    "    while True:\n",
    "        print(\"\\nBanking System Menu:\")\n",
    "        print(\"1. Withdraw Money\")\n",
    "        print(\"2. Deposit Money\")\n",
    "        print(\"3. Change Password\")\n",
    "        print(\"4. Exit\")\n",
    "        user_choice = input(\"Please choose an option (1-4): \")\n",
    "\n",
    "        if user_choice == '1':\n",
    "            amount = float(input(\"Enter the amount to withdraw: \"))\n",
    "            account.withdraw(amount)\n",
    "        elif user_choice == '2':\n",
    "            amount = float(input(\"Enter the amount to deposit: \"))\n",
    "            account.deposit(amount)\n",
    "        elif user_choice == '3':\n",
    "            old_password = input(\"Enter your old password: \")\n",
    "            new_password = input(\"Enter your new password: \")\n",
    "            account.change_password(old_password, new_password)\n",
    "        elif user_choice == '4':\n",
    "            print(\"Exiting the banking system.\")\n",
    "            break\n",
    "        else:\n",
    "            print(\"Invalid option, please try again.\")\n",
    "\n",
    "if __name__ == \"__main__\":\n",
    "    main()"
   ]
  },
  {
   "cell_type": "markdown",
   "id": "1fda993b",
   "metadata": {},
   "source": [
    "6. Write a program that will find all such numbers which are divisible by 7 but are not a multiple of 5, between 2000 and 3200 (both included). The numbers obtained should be printed in a comma-separated sequence on a single line. "
   ]
  },
  {
   "cell_type": "code",
   "execution_count": 9,
   "id": "d89f78e2",
   "metadata": {},
   "outputs": [
    {
     "name": "stdout",
     "output_type": "stream",
     "text": [
      "2002,2009,2016,2023,2037,2044,2051,2058,2072,2079,2086,2093,2107,2114,2121,2128,2142,2149,2156,2163,2177,2184,2191,2198,2212,2219,2226,2233,2247,2254,2261,2268,2282,2289,2296,2303,2317,2324,2331,2338,2352,2359,2366,2373,2387,2394,2401,2408,2422,2429,2436,2443,2457,2464,2471,2478,2492,2499,2506,2513,2527,2534,2541,2548,2562,2569,2576,2583,2597,2604,2611,2618,2632,2639,2646,2653,2667,2674,2681,2688,2702,2709,2716,2723,2737,2744,2751,2758,2772,2779,2786,2793,2807,2814,2821,2828,2842,2849,2856,2863,2877,2884,2891,2898,2912,2919,2926,2933,2947,2954,2961,2968,2982,2989,2996,3003,3017,3024,3031,3038,3052,3059,3066,3073,3087,3094,3101,3108,3122,3129,3136,3143,3157,3164,3171,3178,3192,3199\n"
     ]
    }
   ],
   "source": [
    "# List to store the numbers that meet the condition\n",
    "numbers = []\n",
    "\n",
    "# Loop through the range from 2000 to 3200, inclusive\n",
    "for i in range(2000, 3201):\n",
    "    # Check if the number is divisible by 7 and not a multiple of 5\n",
    "    if i % 7 == 0 and i % 5 != 0:\n",
    "        numbers.append(str(i))  # Convert number to string and add to list\n",
    "\n",
    "# Join all numbers in the list with a comma and print them\n",
    "print(\",\".join(numbers))"
   ]
  },
  {
   "cell_type": "markdown",
   "id": "3e23e763",
   "metadata": {},
   "source": [
    "7. Write a program that can compute the factorial of a given number. Use recursion to find it.  Hint: Suppose the following input is supplied to the program: 8 Then, the output should be: 40320 "
   ]
  },
  {
   "cell_type": "code",
   "execution_count": 10,
   "id": "74cac245",
   "metadata": {},
   "outputs": [
    {
     "name": "stdout",
     "output_type": "stream",
     "text": [
      "Enter a number to find its factorial: 4\n",
      "The factorial of 4 is 24\n"
     ]
    }
   ],
   "source": [
    "def factorial(n):\n",
    "    # Base case: if n is 0 or 1, the factorial is 1\n",
    "    if n == 0 or n == 1:\n",
    "        return 1\n",
    "    # Recursive case: n * factorial of n-1\n",
    "    else:\n",
    "        return n * factorial(n-1)\n",
    "\n",
    "# Example usage\n",
    "num = int(input(\"Enter a number to find its factorial: \"))\n",
    "result = factorial(num)\n",
    "print(f\"The factorial of {num} is {result}\")"
   ]
  },
  {
   "cell_type": "markdown",
   "id": "7bfe5ab9",
   "metadata": {},
   "source": [
    "8. Write a program that calculates and prints the value according to the given formula: Q = Square root of [(2 * C * D)/H] Following are the fixed values of C and H: C is 50. H is 30. D is the variable whose values should be input to your program in a commaseparated sequence.  Example: Let us assume the following comma-separated input sequence is given to the program: 100,150,180 The output of the program should be: 18,22,24 "
   ]
  },
  {
   "cell_type": "code",
   "execution_count": 11,
   "id": "44ca2444",
   "metadata": {},
   "outputs": [
    {
     "name": "stdout",
     "output_type": "stream",
     "text": [
      "Enter values of D separated by commas: 100,150,180\n",
      "18,22,24\n"
     ]
    }
   ],
   "source": [
    "import math\n",
    "\n",
    "def calculate_q(d_values):\n",
    "    C = 50\n",
    "    H = 30\n",
    "    results = []\n",
    "    for D in d_values:\n",
    "        Q = math.sqrt((2 * C * D) / H)\n",
    "        results.append(int(Q))  # Append the integer part of Q to results\n",
    "    return results\n",
    "\n",
    "# Input from the user\n",
    "input_sequence = input(\"Enter values of D separated by commas: \")\n",
    "d_values = list(map(int, input_sequence.split(',')))\n",
    "\n",
    "# Calculate Q for each D\n",
    "result = calculate_q(d_values)\n",
    "\n",
    "# Print results comma-separated\n",
    "print(\",\".join(map(str, result)))"
   ]
  },
  {
   "cell_type": "markdown",
   "id": "fc053cb8",
   "metadata": {},
   "source": [
    "9. Write a program that takes 2 digits, X, Y as input and generates a 2-dimensional array. The element value in the i-th row and j-th column of the array should be i*j. Note: i=0,1.., X-1; j=0,1,¡-Y-1. Example: Suppose the following inputs are given to the program: 3,5 Then, the output of the program should be: [[0, 0, 0, 0, 0], [0, 1, 2, 3, 4], [0, 2, 4, 6, 8]]  "
   ]
  },
  {
   "cell_type": "code",
   "execution_count": 12,
   "id": "22dfae14",
   "metadata": {},
   "outputs": [
    {
     "name": "stdout",
     "output_type": "stream",
     "text": [
      "Enter the number of rows: 3\n",
      "Enter the number of columns: 5\n",
      "[[0, 0, 0, 0, 0], [0, 1, 2, 3, 4], [0, 2, 4, 6, 8]]\n"
     ]
    }
   ],
   "source": [
    "def generate_2d_array(X, Y):\n",
    "    # Create a 2D array using nested list\n",
    "    # Outer list comprehension iterates over rows (i)\n",
    "    # Inner list comprehension iterates over columns (j)\n",
    "    return [[i * j for j in range(Y)] for i in range(X)]\n",
    "\n",
    "# Input from the user\n",
    "X = int(input(\"Enter the number of rows: \"))\n",
    "Y = int(input(\"Enter the number of columns: \"))\n",
    "\n",
    "# Generate the 2D array\n",
    "array = generate_2d_array(X, Y)\n",
    "\n",
    "# Print the array\n",
    "print(array)"
   ]
  },
  {
   "cell_type": "markdown",
   "id": "b6ddc9ef",
   "metadata": {},
   "source": [
    "10. Write a program that accepts a comma-separated sequence of words as input and prints the words in a comma-separated sequence after sorting them alphabetically.  Suppose the following input is supplied to the program:     without,hello,bag,world Then, the output should be: bag,hello,without,world "
   ]
  },
  {
   "cell_type": "code",
   "execution_count": 14,
   "id": "066939f9",
   "metadata": {},
   "outputs": [
    {
     "name": "stdout",
     "output_type": "stream",
     "text": [
      "Enter a comma-separated sequence of words: without,hello,bag,world\n",
      "bag,hello,without,world\n"
     ]
    }
   ],
   "source": [
    "# Get input from the user\n",
    "input_sequence = input(\"Enter a comma-separated sequence of words: \")\n",
    "\n",
    "# Split the input sequence into individual words\n",
    "words = input_sequence.split(',')\n",
    "\n",
    "# Sort the words alphabetically\n",
    "sorted_words = sorted(words)\n",
    "\n",
    "# Join the sorted words into a comma-separated string\n",
    "output_sequence = ','.join(sorted_words)\n",
    "\n",
    "# Print the sorted sequence\n",
    "print(output_sequence)"
   ]
  },
  {
   "cell_type": "markdown",
   "id": "36423ff9",
   "metadata": {},
   "source": [
    "11. Write a program that accepts sequence of lines as input and prints the lines after making all characters in the sentence capitalized.  Suppose the following input is supplied to the program: Hello world Practice makes perfect Then, the output should be: HELLO WORLD PRACTICE MAKES PERFECT "
   ]
  },
  {
   "cell_type": "code",
   "execution_count": 15,
   "id": "57ea89ee",
   "metadata": {},
   "outputs": [
    {
     "name": "stdout",
     "output_type": "stream",
     "text": [
      "Enter lines (leave blank and press enter to stop):\n",
      "Hello world Practice makes perfect \n",
      "\n",
      "HELLO WORLD PRACTICE MAKES PERFECT \n"
     ]
    }
   ],
   "source": [
    "# Create an empty list to store the lines\n",
    "lines = []\n",
    "\n",
    "# Prompt for entering lines until an empty line is entered\n",
    "print(\"Enter lines (leave blank and press enter to stop):\")\n",
    "while True:\n",
    "    line = input()\n",
    "    if not line:\n",
    "        break\n",
    "    lines.append(line.upper())  # Append the capitalized line\n",
    "\n",
    "# Print the capitalized lines\n",
    "for line in lines:\n",
    "    print(line)"
   ]
  },
  {
   "cell_type": "markdown",
   "id": "8f8973fe",
   "metadata": {},
   "source": [
    "12. Write a program that accepts a sequence of whitespace-separated words as input and prints the words after removing all duplicate words and sorting them alphanumerically.  Suppose the following input is supplied to the program: hello world and practice makes perfect and hello world again Then, the output should be: again and hello makes perfect practice world "
   ]
  },
  {
   "cell_type": "code",
   "execution_count": 16,
   "id": "789050d0",
   "metadata": {},
   "outputs": [
    {
     "name": "stdout",
     "output_type": "stream",
     "text": [
      "Enter a sequence of whitespace-separated words: hello world and practice makes perfect and hello world again\n",
      "again and hello makes perfect practice world\n"
     ]
    }
   ],
   "source": [
    "# Get input from the user\n",
    "input_sequence = input(\"Enter a sequence of whitespace-separated words: \")\n",
    "\n",
    "# Split the input sequence into individual words\n",
    "words = input_sequence.split()\n",
    "\n",
    "# Remove duplicates by converting the list to a set\n",
    "unique_words = set(words)\n",
    "\n",
    "# Sort the unique words alphabetically\n",
    "sorted_unique_words = sorted(unique_words)\n",
    "\n",
    "# Print the sorted unique words\n",
    "print(\" \".join(sorted_unique_words))"
   ]
  },
  {
   "cell_type": "markdown",
   "id": "fa238d74",
   "metadata": {},
   "source": [
    "13. Write a program that accepts a sequence of comma separated 4 digit binary numbers as its input and then check whether they are divisible by 5 or not. The numbers that are divisible by 5 are to be printed in a comma-separated sequence. Example: 0100,0011,1010,1001 Then the output should be: 1010 "
   ]
  },
  {
   "cell_type": "code",
   "execution_count": 17,
   "id": "20548c94",
   "metadata": {},
   "outputs": [
    {
     "name": "stdout",
     "output_type": "stream",
     "text": [
      "Enter comma-separated 4-digit binary numbers: 0100,0011,1010,1001\n",
      "1010\n"
     ]
    }
   ],
   "source": [
    "# Get input from the user\n",
    "binary_numbers = input(\"Enter comma-separated 4-digit binary numbers: \")\n",
    "\n",
    "# Split the input into individual binary numbers\n",
    "numbers = binary_numbers.split(',')\n",
    "\n",
    "# Create an empty list to store binary numbers divisible by 5\n",
    "divisible_by_5 = []\n",
    "\n",
    "# Check each binary number for divisibility by 5\n",
    "for num in numbers:\n",
    "    # Convert binary number to decimal\n",
    "    decimal_num = int(num, 2)\n",
    "    # Check if the decimal number is divisible by 5\n",
    "    if decimal_num % 5 == 0:\n",
    "        divisible_by_5.append(num)\n",
    "\n",
    "# Join the divisible binary numbers into a comma-separated string\n",
    "output = ' '.join(divisible_by_5)\n",
    "\n",
    "# Print the result\n",
    "print(output)"
   ]
  },
  {
   "cell_type": "markdown",
   "id": "3ed8d347",
   "metadata": {},
   "source": [
    "14. Write a program that accepts a sentence and calculates the number of upper case letters and lower case letters. Suppose the following input is supplied to the program: Hello world! Then, the output should be: UPPER CASE 1 LOWER CASE 9 "
   ]
  },
  {
   "cell_type": "code",
   "execution_count": 18,
   "id": "040ade16",
   "metadata": {},
   "outputs": [
    {
     "name": "stdout",
     "output_type": "stream",
     "text": [
      "Enter a sentence: hello world\n",
      "UPPER CASE 0\n",
      "LOWER CASE 10\n"
     ]
    }
   ],
   "source": [
    "# Get input from the user\n",
    "sentence = input(\"Enter a sentence: \")\n",
    "\n",
    "# Initialize counters for uppercase and lowercase letters\n",
    "upper_count = 0\n",
    "lower_count = 0\n",
    "\n",
    "# Iterate through each character in the sentence\n",
    "for char in sentence:\n",
    "    # Check if the character is uppercase\n",
    "    if char.isupper():\n",
    "        upper_count += 1\n",
    "    # Check if the character is lowercase\n",
    "    elif char.islower():\n",
    "        lower_count += 1\n",
    "\n",
    "# Print the counts of uppercase and lowercase letters\n",
    "print(\"UPPER CASE\", upper_count)\n",
    "print(\"LOWER CASE\", lower_count)"
   ]
  },
  {
   "cell_type": "markdown",
   "id": "99844d70",
   "metadata": {},
   "source": [
    "15. Give an example of the fsum and sum function of the math library"
   ]
  },
  {
   "cell_type": "code",
   "execution_count": 19,
   "id": "c645f99c",
   "metadata": {},
   "outputs": [
    {
     "name": "stdout",
     "output_type": "stream",
     "text": [
      "Using sum(): 1.5\n",
      "Using math.fsum(): 1.5\n"
     ]
    }
   ],
   "source": [
    "import math\n",
    "\n",
    "# Example list of numbers\n",
    "numbers = [0.1, 0.2, 0.3, 0.4, 0.5]\n",
    "\n",
    "# Using the sum() function\n",
    "total_sum = sum(numbers)\n",
    "print(\"Using sum():\", total_sum)  # Output: 1.5\n",
    "\n",
    "# Using the math.fsum() function\n",
    "total_fsum = math.fsum(numbers)\n",
    "print(\"Using math.fsum():\", total_fsum)  # Output: 1.5"
   ]
  },
  {
   "cell_type": "code",
   "execution_count": null,
   "id": "aa7e47ee",
   "metadata": {},
   "outputs": [],
   "source": []
  }
 ],
 "metadata": {
  "kernelspec": {
   "display_name": "Python 3 (ipykernel)",
   "language": "python",
   "name": "python3"
  },
  "language_info": {
   "codemirror_mode": {
    "name": "ipython",
    "version": 3
   },
   "file_extension": ".py",
   "mimetype": "text/x-python",
   "name": "python",
   "nbconvert_exporter": "python",
   "pygments_lexer": "ipython3",
   "version": "3.9.7"
  }
 },
 "nbformat": 4,
 "nbformat_minor": 5
}
