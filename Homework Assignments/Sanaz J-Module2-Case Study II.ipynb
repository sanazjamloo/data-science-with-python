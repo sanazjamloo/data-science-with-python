{
 "cells": [
  {
   "cell_type": "markdown",
   "id": "1abbd599",
   "metadata": {},
   "source": [
    "1.What is the output of the following code?\n",
    "nums =set([1,1,2,3,3,3,4,4])print(len(nums))\n",
    "Hint:Set consists of aunique element.\n",
    "    \n"
   ]
  },
  {
   "cell_type": "code",
   "execution_count": 1,
   "id": "fb0e387b",
   "metadata": {},
   "outputs": [
    {
     "name": "stdout",
     "output_type": "stream",
     "text": [
      "4\n"
     ]
    }
   ],
   "source": [
    "nums =set([1,1,2,3,3,3,4,4])\n",
    "print(len(nums))\n",
    "\n",
    "# The output is 4 because this set includes four unique items. "
   ]
  },
  {
   "cell_type": "markdown",
   "id": "78b5326b",
   "metadata": {},
   "source": [
    "2.What will be the output?\n",
    "d ={\"john\":40, \"peter\":45}\n",
    "print(list(d.keys()))\n",
    "Hint:d.keys()isthefunctionthatwillshowkeys.\n",
    "    \n",
    "    \n",
    "    \n"
   ]
  },
  {
   "cell_type": "code",
   "execution_count": 2,
   "id": "c8e2a9a0",
   "metadata": {},
   "outputs": [
    {
     "name": "stdout",
     "output_type": "stream",
     "text": [
      "['john', 'peter']\n"
     ]
    }
   ],
   "source": [
    "d ={\"john\":40, \"peter\":45} \n",
    "print(list(d.keys()))\n",
    "\n",
    "# The output is ['john', 'peter']"
   ]
  },
  {
   "cell_type": "markdown",
   "id": "ae601c87",
   "metadata": {},
   "source": [
    "3.A website requires a user to input a username and password to register. Write a program to check the validity of the password given by the user. Following are the criteria for checking password:1. At least 1 letter between [a-z]2. At least 1 number between [0-9]1. At least 1 letter between [A-Z]3. At least 1 character from [$#@]4. Minimum length of transaction password: 65. Maximum length of transaction password: 12Hint: In the case of input data being supplied to the question, it should be assumed to be a console input.\n",
    "\n",
    "\n",
    "\n",
    "\n"
   ]
  },
  {
   "cell_type": "code",
   "execution_count": 3,
   "id": "8b4f82fb",
   "metadata": {},
   "outputs": [
    {
     "name": "stdout",
     "output_type": "stream",
     "text": [
      "Enter your password: asemane*abi20\n",
      "Invalid password\n"
     ]
    }
   ],
   "source": [
    "import re\n",
    "\n",
    "def check_password(password):\n",
    "    # Check if the password satisfies all the criteria\n",
    "    if re.match(r\"^(?=.*[a-z])(?=.*[A-Z])(?=.*\\d)(?=.*[$#@]).{6,12}$\", password):\n",
    "        return True\n",
    "    else:\n",
    "        return False\n",
    "\n",
    "# Get input from the user\n",
    "password = input(\"Enter your password: \")\n",
    "\n",
    "# Check the validity of the password\n",
    "if check_password(password):\n",
    "    print(\"Valid password\")\n",
    "else:\n",
    "    print(\"Invalid password\")"
   ]
  },
  {
   "cell_type": "markdown",
   "id": "b091d783",
   "metadata": {},
   "source": [
    "4.Write a for loop that prints all elements of a list and their position in the list.a = [4,7,3,2,5,9] Hint: Use Loop to iterate through list elements.\n"
   ]
  },
  {
   "cell_type": "code",
   "execution_count": 4,
   "id": "6950ee93",
   "metadata": {},
   "outputs": [
    {
     "name": "stdout",
     "output_type": "stream",
     "text": [
      "Element: 4, Position: 0\n",
      "Element: 7, Position: 1\n",
      "Element: 3, Position: 2\n",
      "Element: 2, Position: 3\n",
      "Element: 5, Position: 4\n",
      "Element: 9, Position: 5\n"
     ]
    }
   ],
   "source": [
    "a = [4, 7, 3, 2, 5, 9]\n",
    "\n",
    "# Iterate through the list using a for loop\n",
    "for i, num in enumerate(a):\n",
    "    print(f\"Element: {num}, Position: {i}\")"
   ]
  },
  {
   "cell_type": "code",
   "execution_count": null,
   "id": "f7d39239",
   "metadata": {},
   "outputs": [],
   "source": []
  }
 ],
 "metadata": {
  "kernelspec": {
   "display_name": "Python 3 (ipykernel)",
   "language": "python",
   "name": "python3"
  },
  "language_info": {
   "codemirror_mode": {
    "name": "ipython",
    "version": 3
   },
   "file_extension": ".py",
   "mimetype": "text/x-python",
   "name": "python",
   "nbconvert_exporter": "python",
   "pygments_lexer": "ipython3",
   "version": "3.9.7"
  }
 },
 "nbformat": 4,
 "nbformat_minor": 5
}
