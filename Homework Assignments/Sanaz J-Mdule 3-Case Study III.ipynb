{
 "cells": [
  {
   "cell_type": "markdown",
   "id": "083565a3",
   "metadata": {},
   "source": [
    "Business challenge/requirement \n",
    "\n",
    "GoodsKart—the largest eCommercecompany in Indonesia with revenue of $2B+ acquired another eCommercecompany FairDeal. FairDeal has its own IT system to maintain records of customers, sales,etc.For the ease of maintenance and cost savings GoodsKart is integrating customer databases of both organizations hence customer data of FairDeal has to be converted in GoodsKart Customer Format. Key issues GoodsKart customer data has more fields than in FairDeal customer data. Hence FairDeal data needs to be split and stored in GoodsKart Customer Object-Oriented Data Structure. \n",
    "\n",
    "Considerations: The system should convert the data at run time \n",
    "Data volume-NA\n",
    "Additional information-NA\n",
    "Business benefits GoodsKart can eventually sunset the IT systems of FairDeal and reduce IT cost by 20-30% \n",
    "\n",
    "Approach to Solve:\n",
    "You have to use the fundamentals of Python taught in module 2.\n",
    "\n",
    "1. Read FairDealCustomerData.csv\n",
    "2. Name field contains full name –use a regular expression to separate title, first name, last name\n",
    "3. Store the data in Customer Class\n",
    "4. Create Custom Exception - Customer Not Allowed Exception\n",
    "5.Pass a customer to function \"createOrder\" and throw CustomerNotAllowedException in case of blacklisted value is 1\n",
    "\n"
   ]
  },
  {
   "cell_type": "code",
   "execution_count": 1,
   "id": "1f32bc99",
   "metadata": {},
   "outputs": [],
   "source": [
    "import pandas as pd"
   ]
  },
  {
   "cell_type": "code",
   "execution_count": 6,
   "id": "9ba0b694",
   "metadata": {},
   "outputs": [],
   "source": [
    "df = pd.read_csv('FairDealCustomerData.csv')"
   ]
  },
  {
   "cell_type": "code",
   "execution_count": 7,
   "id": "85c3cefa",
   "metadata": {},
   "outputs": [
    {
     "name": "stdout",
     "output_type": "stream",
     "text": [
      "        Braund      Mr. Owen Harris   1\n",
      "0    Heikkinen          Miss. Laina   0\n",
      "1        Allen    Mr. William Henry   0\n",
      "2        Moran            Mr. James   0\n",
      "3     McCarthy        Mr. Timothy J   0\n",
      "4      Bonnell      Miss. Elizabeth   0\n",
      "5    Andersson     Mr. Anders Johan   0\n",
      "6     Williams   Mr. Charles Eugene   1\n",
      "7   Masselmani          Mrs. Fatima   0\n",
      "8       Fynney         Mr. Joseph J   0\n",
      "9      Beesley         Mr. Lawrence   0\n",
      "========================================\n",
      "Shape: (531, 3)\n",
      "========================================\n",
      "<class 'pandas.core.frame.DataFrame'>\n",
      "RangeIndex: 531 entries, 0 to 530\n",
      "Data columns (total 3 columns):\n",
      " #   Column             Non-Null Count  Dtype \n",
      "---  ------             --------------  ----- \n",
      " 0    Braund            531 non-null    object\n",
      " 1    Mr. Owen Harris   531 non-null    object\n",
      " 2   1                  531 non-null    int64 \n",
      "dtypes: int64(1), object(2)\n",
      "memory usage: 12.6+ KB\n",
      "Info: None\n",
      "========================================\n",
      "Describe:                 1\n",
      "count  531.000000\n",
      "mean     0.141243\n",
      "std      0.348600\n",
      "min      0.000000\n",
      "25%      0.000000\n",
      "50%      0.000000\n",
      "75%      0.000000\n",
      "max      1.000000\n",
      "========================================\n",
      "Missing Values:  Braund              0\n",
      " Mr. Owen Harris     0\n",
      "1                    0\n",
      "dtype: int64\n"
     ]
    }
   ],
   "source": [
    "print(df.head(10))\n",
    "print(\"========================================\")\n",
    "print(\"Shape:\", df.shape)\n",
    "print(\"========================================\")\n",
    "print(\"Info:\", df.info())\n",
    "print(\"========================================\")\n",
    "print(\"Describe:\", df.describe())\n",
    "print(\"========================================\")\n",
    "print(\"Missing Values:\", df.isnull().sum())"
   ]
  },
  {
   "cell_type": "code",
   "execution_count": 19,
   "id": "2aec60c6",
   "metadata": {},
   "outputs": [
    {
     "name": "stdout",
     "output_type": "stream",
     "text": [
      "Conversion error: Invalid data format in CSV file\n"
     ]
    }
   ],
   "source": [
    "import csv\n",
    "import re\n",
    "\n",
    "class Customer:\n",
    "    def __init__(self, title, first_name, last_name, email, phone):\n",
    "        self.title = title\n",
    "        self.first_name = first_name\n",
    "        self.last_name = last_name\n",
    "        self.email = email\n",
    "        self.phone = phone\n",
    "\n",
    "class ConversionError(Exception):\n",
    "    pass\n",
    "    filename = 'FairDealCustomerData.csv' \n",
    "def convert_customer_data(filename):\n",
    "    customers = []\n",
    "   \n",
    "    try:\n",
    "        with open(filename, 'r') as file:\n",
    "            reader = csv.reader(file)\n",
    "            for row in reader:\n",
    "                if len(row) != 5:\n",
    "                    raise ConversionError(\"Invalid data format in CSV file\")\n",
    "                title, first_name, last_name = re.match(r'(\\w+)\\. (\\w+) (\\w+)', row[0]).groups()\n",
    "                email = row[1]\n",
    "                phone = row[2]\n",
    "                customers.append(Customer(title, first_name, last_name, email, phone))\n",
    "        return customers\n",
    "    except FileNotFoundError:\n",
    "        raise ConversionError(\"File not found\")\n",
    "\n",
    "# Usage\n",
    "try:\n",
    "    customers = convert_customer_data('FairDealCustomerData.csv')\n",
    "    for customer in customers:\n",
    "        print(customer.__dict__)\n",
    "except ConversionError as e:\n",
    "    print(\"Conversion error:\", e)"
   ]
  },
  {
   "cell_type": "code",
   "execution_count": null,
   "id": "b26c75e7",
   "metadata": {},
   "outputs": [],
   "source": []
  }
 ],
 "metadata": {
  "kernelspec": {
   "display_name": "Python 3 (ipykernel)",
   "language": "python",
   "name": "python3"
  },
  "language_info": {
   "codemirror_mode": {
    "name": "ipython",
    "version": 3
   },
   "file_extension": ".py",
   "mimetype": "text/x-python",
   "name": "python",
   "nbconvert_exporter": "python",
   "pygments_lexer": "ipython3",
   "version": "3.9.7"
  }
 },
 "nbformat": 4,
 "nbformat_minor": 5
}
