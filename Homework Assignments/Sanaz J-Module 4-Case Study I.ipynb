{
 "cells": [
  {
   "cell_type": "markdown",
   "id": "899bdc5e",
   "metadata": {},
   "source": [
    "1. Extract data from the given SalaryGender CSV file and store the data from each column in a separate NumPy array.\n"
   ]
  },
  {
   "cell_type": "code",
   "execution_count": 1,
   "id": "4cf9ee5d",
   "metadata": {},
   "outputs": [],
   "source": [
    "import numpy as np\n"
   ]
  },
  {
   "cell_type": "code",
   "execution_count": 2,
   "id": "c11ea221",
   "metadata": {},
   "outputs": [
    {
     "name": "stdout",
     "output_type": "stream",
     "text": [
      "Salary: [140.   30.   35.1  30.   80. ]\n",
      "Gender: [1 0 0 1 0]\n",
      "Age: [47 65 56 23 53]\n",
      "PhD: [1 1 0 0 1]\n"
     ]
    }
   ],
   "source": [
    "# Load the CSV file using numpy.genfromtxt()\n",
    "data = np.genfromtxt('SalaryGender.csv', delimiter=',', names=True, dtype=None)\n",
    "\n",
    "# Extract data from each column into separate NumPy arrays\n",
    "salary = data['Salary']\n",
    "gender = data['Gender']\n",
    "age = data['Age']\n",
    "phd = data['PhD']\n",
    "\n",
    "# Print the first few elements of each array\n",
    "print(\"Salary:\", salary[:5])\n",
    "print(\"Gender:\", gender[:5])\n",
    "print(\"Age:\", age[:5])\n",
    "print(\"PhD:\", phd[:5])"
   ]
  },
  {
   "cell_type": "markdown",
   "id": "ebdf97d8",
   "metadata": {},
   "source": [
    "2.Find:\n",
    "1. The number of men with a PhD\n",
    "2. The number of women with a PhD"
   ]
  },
  {
   "cell_type": "code",
   "execution_count": 6,
   "id": "d2d5bcc2",
   "metadata": {},
   "outputs": [
    {
     "name": "stdout",
     "output_type": "stream",
     "text": [
      "Number of men with a PhD: 24\n",
      "Number of women with a PhD: 15\n"
     ]
    }
   ],
   "source": [
    "# Filter data for men with a PhD\n",
    "men_with_phd = data[(data['Gender'] == 1) & (data['PhD'] == 1)]\n",
    "\n",
    "# Count the number of men with a PhD\n",
    "num_men_with_phd = len(men_with_phd)\n",
    "\n",
    "print(\"Number of men with a PhD:\", num_men_with_phd)\n",
    "\n",
    "\n",
    "# Filter data for women with a PhD\n",
    "women_with_phd = data[(data['Gender'] == 0) & (data['PhD'] == 1)]\n",
    "\n",
    "# Count the number of women with a PhD\n",
    "num_women_with_phd = len(women_with_phd)\n",
    "\n",
    "print(\"Number of women with a PhD:\", num_women_with_phd)\n"
   ]
  },
  {
   "cell_type": "markdown",
   "id": "f8c1027e",
   "metadata": {},
   "source": [
    "3. Use SalaryGender CSV file. Store the “Age” and “Ph.D.” columns in one DataFrame and delete the data of all people who don’t have a PhD."
   ]
  },
  {
   "cell_type": "code",
   "execution_count": 7,
   "id": "fbec8fed",
   "metadata": {},
   "outputs": [
    {
     "name": "stdout",
     "output_type": "stream",
     "text": [
      "[(140. , 1, 47, 1) ( 30. , 0, 65, 1) ( 80. , 0, 53, 1) (125. , 1, 44, 1)\n",
      " ( 51. , 1, 63, 1) (150. , 1, 60, 1) ( 84. , 0, 47, 1) (190. , 1, 66, 1)\n",
      " ( 74. , 1, 45, 1) ( 15.2, 1, 66, 1) ( 28.6, 1, 36, 1) ( 72. , 0, 51, 1)\n",
      " ( 81. , 1, 65, 1) (100. , 0, 45, 1) ( 90. , 0, 52, 1) ( 90. , 0, 54, 1)\n",
      " ( 63. , 1, 34, 1) ( 92. , 0, 58, 1) (106. , 1, 77, 1) ( 32. , 0, 48, 1)\n",
      " ( 55. , 1, 49, 1) ( 28. , 0, 65, 1) ( 84. , 0, 49, 1) (160. , 1, 61, 1)\n",
      " ( 65. , 0, 43, 1) (102. , 1, 66, 1) ( 55. , 1, 56, 1) (152. , 1, 71, 1)\n",
      " ( 30. , 1, 69, 1) (120. , 1, 58, 1) ( 36. , 1, 32, 1) ( 96. , 1, 33, 1)\n",
      " ( 38. , 0, 32, 1) ( 72. , 1, 42, 1) ( 41. , 0, 51, 1) ( 89. , 1, 71, 1)\n",
      " ( 52. , 1, 55, 1) ( 66. , 0, 55, 1) (152. , 1, 56, 1)]\n"
     ]
    }
   ],
   "source": [
    "# Extract the 'Age' and 'PhD' columns into separate NumPy arrays\n",
    "age = data['Age']\n",
    "phd = data['PhD']\n",
    "\n",
    "# Filter the data to keep only the rows where 'PhD' is 1 (i.e., people who have a PhD)\n",
    "phd_indices = np.where(phd == 1)\n",
    "age_phd_data = data[phd_indices]\n",
    "\n",
    "print(age_phd_data)"
   ]
  },
  {
   "cell_type": "markdown",
   "id": "c6e0dc00",
   "metadata": {},
   "source": [
    "4. Calculate the total number of people who have a Ph.D.degreefrom the SalaryGender CSV file."
   ]
  },
  {
   "cell_type": "code",
   "execution_count": 8,
   "id": "8f51b40e",
   "metadata": {},
   "outputs": [
    {
     "name": "stdout",
     "output_type": "stream",
     "text": [
      "Total number of people with a Ph.D. degree: 39\n"
     ]
    }
   ],
   "source": [
    " # Count the number of occurrences where 'PhD' is 1 (i.e., people who have a Ph.D. degree)\n",
    "total_phd = np.count_nonzero(phd == 1)\n",
    "\n",
    "print(\"Total number of people with a Ph.D. degree:\", total_phd)"
   ]
  },
  {
   "cell_type": "markdown",
   "id": "d457be08",
   "metadata": {},
   "source": [
    "5. How  do  you  Count  The  Number  Of  Times  Each  Value  Appears  In  An  Array  Of Integers?[0, 5, 4, 0, 4, 4, 3, 0, 0, 5, 2, 1,1, 9]Answer should be array([4, 2, 1, 1, 3, 2, 0, 0, 0, 1]) which means 0 comes 4 times, 1 comes 2 times, 2 comes 1 time, 3 comes 1 time and so on."
   ]
  },
  {
   "cell_type": "code",
   "execution_count": 9,
   "id": "69b483bd",
   "metadata": {},
   "outputs": [
    {
     "name": "stdout",
     "output_type": "stream",
     "text": [
      "[4 2 1 1 3 2 0 0 0 1]\n"
     ]
    }
   ],
   "source": [
    "# Define the array of integers\n",
    "array = np.array([0, 5, 4, 0, 4, 4, 3, 0, 0, 5, 2, 1, 1, 9])\n",
    "\n",
    "# Use numpy.bincount() to count the occurrences of each value\n",
    "counts = np.bincount(array)\n",
    "\n",
    "print(counts)"
   ]
  },
  {
   "cell_type": "markdown",
   "id": "a5980817",
   "metadata": {},
   "source": [
    "6. Create a numpy array [[0, 1, 2],[ 3, 4, 5],[ 6, 7, 8],[ 9,10, 11]]) and filter the elements greater than 5."
   ]
  },
  {
   "cell_type": "code",
   "execution_count": 10,
   "id": "5e568284",
   "metadata": {},
   "outputs": [
    {
     "name": "stdout",
     "output_type": "stream",
     "text": [
      "[ 6  7  8  9 10 11]\n"
     ]
    }
   ],
   "source": [
    "# Create the numpy array\n",
    "arr = np.array([[0, 1, 2], [3, 4, 5], [6, 7, 8], [9, 10, 11]])\n",
    "\n",
    "# Filter the elements greater than 5\n",
    "filtered_arr = arr[arr > 5]\n",
    "\n",
    "print(filtered_arr)"
   ]
  },
  {
   "cell_type": "markdown",
   "id": "931ba3ca",
   "metadata": {},
   "source": [
    "7. Create a numpy array having NaN (Not a Number) and print it.array([ nan,   1.,   2.,  nan,   3.,   4.,   5.])Print the same array omitting all elements which are nan."
   ]
  },
  {
   "cell_type": "code",
   "execution_count": 11,
   "id": "64d93d78",
   "metadata": {},
   "outputs": [
    {
     "name": "stdout",
     "output_type": "stream",
     "text": [
      "[1. 2. 3. 4. 5.]\n"
     ]
    }
   ],
   "source": [
    "# Create the numpy array with NaN values\n",
    "arr = np.array([np.nan, 1., 2., np.nan, 3., 4., 5.])\n",
    "\n",
    "# Filter out the NaN values\n",
    "filtered_arr = arr[~np.isnan(arr)]\n",
    "\n",
    "print(filtered_arr)"
   ]
  },
  {
   "cell_type": "markdown",
   "id": "cc6e4536",
   "metadata": {},
   "source": [
    "8.Create  a  10x10  array  with  random  values  and  find  the  minimum  and  maximum values.\n"
   ]
  },
  {
   "cell_type": "code",
   "execution_count": 12,
   "id": "e1d6b043",
   "metadata": {},
   "outputs": [
    {
     "name": "stdout",
     "output_type": "stream",
     "text": [
      "Minimum value: 0.004980775379779923\n",
      "Maximum value: 0.9897295925173951\n"
     ]
    }
   ],
   "source": [
    "# Create a 10x10 array with random values between 0 and 1\n",
    "array = np.random.rand(10, 10)\n",
    "\n",
    "# Find the minimum and maximum values\n",
    "min_value = np.min(array)\n",
    "max_value = np.max(array)\n",
    "\n",
    "print(\"Minimum value:\", min_value)\n",
    "print(\"Maximum value:\", max_value)"
   ]
  },
  {
   "cell_type": "markdown",
   "id": "c52f1816",
   "metadata": {},
   "source": [
    "9.Create a random vector of size 30 and find the mean value."
   ]
  },
  {
   "cell_type": "code",
   "execution_count": 13,
   "id": "fdaf5781",
   "metadata": {},
   "outputs": [
    {
     "name": "stdout",
     "output_type": "stream",
     "text": [
      "Mean value: 0.4639492204068985\n"
     ]
    }
   ],
   "source": [
    "random_vector = np.random.rand(30)\n",
    "\n",
    "# Find the mean value\n",
    "mean_value = np.mean(random_vector)\n",
    "\n",
    "print(\"Mean value:\", mean_value)"
   ]
  },
  {
   "cell_type": "markdown",
   "id": "065ddae3",
   "metadata": {},
   "source": [
    "10. Create a numpy array having elements 0 to 10 And negate all the elements between 3 and 9."
   ]
  },
  {
   "cell_type": "code",
   "execution_count": 14,
   "id": "d33a2509",
   "metadata": {},
   "outputs": [
    {
     "name": "stdout",
     "output_type": "stream",
     "text": [
      "[ 0  1  2  3 -4 -5 -6 -7 -8  9 10]\n"
     ]
    }
   ],
   "source": [
    "arr = np.arange(11)\n",
    "\n",
    "# Negate the elements between 3 and 9\n",
    "arr[(arr > 3) & (arr < 9)] *= -1\n",
    "\n",
    "print(arr)"
   ]
  },
  {
   "cell_type": "markdown",
   "id": "8bd2e773",
   "metadata": {},
   "source": [
    "11. Create a random array of 3 rows and 3 columns and sort it according to 1stcolumn, 2ndcolumn,or 3rdcolumn."
   ]
  },
  {
   "cell_type": "code",
   "execution_count": 15,
   "id": "4b521ca5",
   "metadata": {},
   "outputs": [
    {
     "name": "stdout",
     "output_type": "stream",
     "text": [
      "Original array:\n",
      "[[0.68665177 0.10159502 0.5821328 ]\n",
      " [0.92570917 0.69590305 0.18426557]\n",
      " [0.36867839 0.10725995 0.08882793]]\n",
      "\n",
      "Sorted array based on column 1 :\n",
      "[[0.36867839 0.10725995 0.08882793]\n",
      " [0.68665177 0.10159502 0.5821328 ]\n",
      " [0.92570917 0.69590305 0.18426557]]\n"
     ]
    }
   ],
   "source": [
    "array = np.random.rand(3, 3)\n",
    "\n",
    "# Define the column index to sort by (0 for the 1st column, 1 for the 2nd column, 2 for the 3rd column)\n",
    "column_index = 0\n",
    "\n",
    "# Sort the array based on the specified column\n",
    "sorted_array = array[array[:, column_index].argsort()]\n",
    "\n",
    "print(\"Original array:\")\n",
    "print(array)\n",
    "print(\"\\nSorted array based on column\", column_index + 1, \":\")\n",
    "print(sorted_array)\n"
   ]
  },
  {
   "cell_type": "markdown",
   "id": "d105a21e",
   "metadata": {},
   "source": [
    "12. Create a four dimensions array to get the sum over the last two axesat once."
   ]
  },
  {
   "cell_type": "code",
   "execution_count": null,
   "id": "5eb4859d",
   "metadata": {},
   "outputs": [],
   "source": [
    "array = np.random.rand(2, 3, 4, 5)\n",
    "\n",
    "# Get the sum over the last two axes at once\n",
    "sum_over_last_two_axes = np.sum(array, axis=(-2, -1))\n",
    "\n",
    "print(\"Original array shape:\", array.shape)\n",
    "print(\"Sum over the last two axes shape:\", sum_over_last_two_axes.shape)\n",
    "print(\"Sum over the last two axes:\")\n",
    "print(sum_over_last_two_axes)"
   ]
  }
 ],
 "metadata": {
  "kernelspec": {
   "display_name": "Python 3 (ipykernel)",
   "language": "python",
   "name": "python3"
  },
  "language_info": {
   "codemirror_mode": {
    "name": "ipython",
    "version": 3
   },
   "file_extension": ".py",
   "mimetype": "text/x-python",
   "name": "python",
   "nbconvert_exporter": "python",
   "pygments_lexer": "ipython3",
   "version": "3.9.7"
  }
 },
 "nbformat": 4,
 "nbformat_minor": 5
}
