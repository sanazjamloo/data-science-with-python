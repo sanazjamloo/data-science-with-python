{
 "cells": [
  {
   "cell_type": "code",
   "execution_count": null,
   "id": "679f1bb5",
   "metadata": {},
   "outputs": [],
   "source": [
    "# Cleaning Data Using Pandas\n",
    "#1. Null values\n",
    "#2. Duplicate rows\n",
    "#3. Wrong data format\n",
    "#4. Wrong data or outlier"
   ]
  },
  {
   "cell_type": "code",
   "execution_count": 3,
   "id": "d6e87625",
   "metadata": {},
   "outputs": [
    {
     "name": "stdout",
     "output_type": "stream",
     "text": [
      "   Duration          Date  Pulse  Maxpulse  Calories Gender\n",
      "0        60  '2020/12/01'    110       130     409.1      M\n",
      "1        60  '2020/12/02'    117       145     479.0      F\n",
      "2        60  '2020/12/03'    103       135     340.0      F\n",
      "3        45  '2020/12/04'    109       175     282.4      F\n",
      "4        45  '2020/12/05'    117       148     406.0    NaN\n",
      "5        60  '2020/12/06'    102       127     300.0      M\n",
      "6        60  '2020/12/06'    102       127     300.0      M\n",
      "7       450  '2020/12/08'    104       134     253.3      M\n",
      "8        30  '2020/12/09'    109       133     195.1    NaN\n",
      "9        60  '2020/12/06'    102       127     300.0      M\n",
      "(36, 6)\n"
     ]
    }
   ],
   "source": [
    "#1. Null Values: Remove(rows), Replacement(mean, mode)\n",
    "import pandas as pd\n",
    "\n",
    "df = pd.read_csv(\"dirtydata.csv\")\n",
    "print(df.head(10))\n",
    "print(df.shape)"
   ]
  },
  {
   "cell_type": "code",
   "execution_count": 5,
   "id": "2c78d22a",
   "metadata": {},
   "outputs": [
    {
     "name": "stdout",
     "output_type": "stream",
     "text": [
      "Duration    0\n",
      "Date        1\n",
      "Pulse       0\n",
      "Maxpulse    0\n",
      "Calories    2\n",
      "Gender      5\n",
      "dtype: int64\n"
     ]
    }
   ],
   "source": [
    "# Detecting null values\n",
    "print(df.isnull().sum())"
   ]
  },
  {
   "cell_type": "code",
   "execution_count": 7,
   "id": "f13a9ca5",
   "metadata": {},
   "outputs": [
    {
     "name": "stdout",
     "output_type": "stream",
     "text": [
      "    Duration          Date  Pulse  Maxpulse  Calories Gender\n",
      "0         60  '2020/12/01'    110       130     409.1      M\n",
      "1         60  '2020/12/02'    117       145     479.0      F\n",
      "2         60  '2020/12/03'    103       135     340.0      F\n",
      "3         45  '2020/12/04'    109       175     282.4      F\n",
      "5         60  '2020/12/06'    102       127     300.0      M\n",
      "6         60  '2020/12/06'    102       127     300.0      M\n",
      "7        450  '2020/12/08'    104       134     253.3      M\n",
      "9         60  '2020/12/06'    102       127     300.0      M\n",
      "10        60  '2020/12/10'     98       124     269.0      F\n",
      "11        60  '2020/12/11'    103       147     329.3      F\n",
      "12        60  '2020/12/12'    100       120     250.7      M\n",
      "13        60  '2020/12/12'    100       120     250.7      F\n",
      "14        60  '2020/12/13'    106       128     345.3      M\n",
      "15        60  '2020/12/12'    100       120     250.7      F\n",
      "16        60  '2020/12/14'    104       132     379.3      F\n",
      "17        60  '2020/12/15'     98       123     275.0      F\n",
      "18        60  '2020/12/16'     98       120     215.2      M\n",
      "19        60  '2020/12/17'    100       120     300.0      M\n",
      "21        60  '2020/12/19'    103       123     323.0      F\n",
      "22        45  '2020/12/20'     97       125     243.0      F\n",
      "23        60  '2020/12/21'    108       131     364.2      F\n",
      "26        45  '2020/12/24'    105       132     246.0      M\n",
      "27        60  '2020/12/25'    102       126     334.5      M\n",
      "28        60      20201226    100       120     250.0      M\n",
      "29        60  '2020/12/27'     92       118     241.0      F\n",
      "31        60  '2020/12/29'    100       132     280.0      M\n",
      "32        60  '2020/12/30'    102       129     380.3      F\n",
      "33        60  '2020/12/31'     92       115     243.0      F\n",
      "34        60  '2020/12/30'    102       129     380.3      F\n"
     ]
    }
   ],
   "source": [
    "# Removing null values\n",
    "df.dropna(inplace=True)\n",
    "print(df)"
   ]
  },
  {
   "cell_type": "code",
   "execution_count": 9,
   "id": "5c48c8ed",
   "metadata": {},
   "outputs": [
    {
     "name": "stdout",
     "output_type": "stream",
     "text": [
      "(29, 6)\n"
     ]
    }
   ],
   "source": [
    "print(df.shape)"
   ]
  },
  {
   "cell_type": "code",
   "execution_count": 15,
   "id": "3595bf47",
   "metadata": {},
   "outputs": [
    {
     "name": "stdout",
     "output_type": "stream",
     "text": [
      "<class 'pandas.core.frame.DataFrame'>\n",
      "RangeIndex: 36 entries, 0 to 35\n",
      "Data columns (total 6 columns):\n",
      " #   Column    Non-Null Count  Dtype  \n",
      "---  ------    --------------  -----  \n",
      " 0   Duration  36 non-null     int64  \n",
      " 1   Date      35 non-null     object \n",
      " 2   Pulse     36 non-null     int64  \n",
      " 3   Maxpulse  36 non-null     int64  \n",
      " 4   Calories  34 non-null     float64\n",
      " 5   Gender    31 non-null     object \n",
      "dtypes: float64(1), int64(3), object(2)\n",
      "memory usage: 1.8+ KB\n",
      "None\n",
      "Duration    0\n",
      "Date        1\n",
      "Pulse       0\n",
      "Maxpulse    0\n",
      "Calories    2\n",
      "Gender      5\n",
      "dtype: int64\n",
      "         Duration       Pulse    Maxpulse    Calories\n",
      "count   36.000000   36.000000   36.000000   34.000000\n",
      "mean    67.500000  102.777778  127.694444  301.129412\n",
      "std     65.970773    7.544577   12.358501   63.683819\n",
      "min     30.000000   90.000000  101.000000  195.100000\n",
      "25%     60.000000  100.000000  120.000000  250.700000\n",
      "50%     60.000000  102.000000  127.000000  291.200000\n",
      "75%     60.000000  104.250000  132.000000  338.625000\n",
      "max    450.000000  130.000000  175.000000  479.000000\n"
     ]
    }
   ],
   "source": [
    "#Replacing null values\n",
    "# Numerical cols: replace with mean value\n",
    "# Objects(string) cols: replace with mode\n",
    "\n",
    "df = pd.read_csv(\"dirtydata.csv\")\n",
    "print(df.info())\n",
    "print(df.isnull().sum())\n",
    "print(df.describe())"
   ]
  },
  {
   "cell_type": "code",
   "execution_count": 16,
   "id": "b0fc8f38",
   "metadata": {},
   "outputs": [],
   "source": [
    "df['Calories']=df['Calories'].fillna(df['Calories'].mean())"
   ]
  },
  {
   "cell_type": "code",
   "execution_count": 17,
   "id": "acf1502b",
   "metadata": {},
   "outputs": [
    {
     "name": "stdout",
     "output_type": "stream",
     "text": [
      "    Duration          Date  Pulse  Maxpulse    Calories Gender\n",
      "0         60  '2020/12/01'    110       130  409.100000      M\n",
      "1         60  '2020/12/02'    117       145  479.000000      F\n",
      "2         60  '2020/12/03'    103       135  340.000000      F\n",
      "3         45  '2020/12/04'    109       175  282.400000      F\n",
      "4         45  '2020/12/05'    117       148  406.000000    NaN\n",
      "5         60  '2020/12/06'    102       127  300.000000      M\n",
      "6         60  '2020/12/06'    102       127  300.000000      M\n",
      "7        450  '2020/12/08'    104       134  253.300000      M\n",
      "8         30  '2020/12/09'    109       133  195.100000    NaN\n",
      "9         60  '2020/12/06'    102       127  300.000000      M\n",
      "10        60  '2020/12/10'     98       124  269.000000      F\n",
      "11        60  '2020/12/11'    103       147  329.300000      F\n",
      "12        60  '2020/12/12'    100       120  250.700000      M\n",
      "13        60  '2020/12/12'    100       120  250.700000      F\n",
      "14        60  '2020/12/13'    106       128  345.300000      M\n",
      "15        60  '2020/12/12'    100       120  250.700000      F\n",
      "16        60  '2020/12/14'    104       132  379.300000      F\n",
      "17        60  '2020/12/15'     98       123  275.000000      F\n",
      "18        60  '2020/12/16'     98       120  215.200000      M\n",
      "19        60  '2020/12/17'    100       120  300.000000      M\n",
      "20        45  '2020/12/18'     90       112  301.129412      F\n",
      "21        60  '2020/12/19'    103       123  323.000000      F\n",
      "22        45  '2020/12/20'     97       125  243.000000      F\n",
      "23        60  '2020/12/21'    108       131  364.200000      F\n",
      "24        45           NaN    100       119  282.000000      M\n",
      "25        60  '2020/12/23'    130       101  300.000000    NaN\n",
      "26        45  '2020/12/24'    105       132  246.000000      M\n",
      "27        60  '2020/12/25'    102       126  334.500000      M\n",
      "28        60      20201226    100       120  250.000000      M\n",
      "29        60  '2020/12/27'     92       118  241.000000      F\n",
      "30        60  '2020/12/28'    103       132  301.129412    NaN\n",
      "31        60  '2020/12/29'    100       132  280.000000      M\n",
      "32        60  '2020/12/30'    102       129  380.300000      F\n",
      "33        60  '2020/12/31'     92       115  243.000000      F\n",
      "34        60  '2020/12/30'    102       129  380.300000      F\n",
      "35        60  '2020/12/27'     92       118  241.000000    NaN\n"
     ]
    }
   ],
   "source": [
    "print(df)"
   ]
  },
  {
   "cell_type": "code",
   "execution_count": 20,
   "id": "1d637b46",
   "metadata": {},
   "outputs": [
    {
     "name": "stdout",
     "output_type": "stream",
     "text": [
      "         Duration       Pulse    Maxpulse    Calories\n",
      "count   36.000000   36.000000   36.000000   36.000000\n",
      "mean    67.500000  102.777778  127.694444  301.129412\n",
      "std     65.970773    7.544577   12.358501   61.837518\n",
      "min     30.000000   90.000000  101.000000  195.100000\n",
      "25%     60.000000  100.000000  120.000000  250.700000\n",
      "50%     60.000000  102.000000  127.000000  300.000000\n",
      "75%     60.000000  104.250000  132.000000  335.875000\n",
      "max    450.000000  130.000000  175.000000  479.000000\n"
     ]
    }
   ],
   "source": [
    "print(df.describe())"
   ]
  },
  {
   "cell_type": "code",
   "execution_count": null,
   "id": "ada8b929",
   "metadata": {},
   "outputs": [],
   "source": [
    "# By replacing the null values with mean and mode, we help keep the central tendency of the data intact. "
   ]
  },
  {
   "cell_type": "code",
   "execution_count": 24,
   "id": "d4879027",
   "metadata": {},
   "outputs": [],
   "source": [
    "df['Gender']=df['Gender'].fillna(df['Gender'].mode()[0]) #[0] the first mode value, or the most popular value in the df\n",
    "\n",
    "\n",
    "\n"
   ]
  },
  {
   "cell_type": "code",
   "execution_count": 25,
   "id": "9350bf99",
   "metadata": {},
   "outputs": [
    {
     "data": {
      "text/plain": [
       "F    22\n",
       "M    14\n",
       "Name: Gender, dtype: int64"
      ]
     },
     "execution_count": 25,
     "metadata": {},
     "output_type": "execute_result"
    }
   ],
   "source": [
    "# To get most popular value\n",
    "df['Gender'].value_counts()"
   ]
  },
  {
   "cell_type": "code",
   "execution_count": 26,
   "id": "8ecdff0f",
   "metadata": {},
   "outputs": [
    {
     "name": "stdout",
     "output_type": "stream",
     "text": [
      "Duration    0\n",
      "Date        1\n",
      "Pulse       0\n",
      "Maxpulse    0\n",
      "Calories    0\n",
      "Gender      0\n",
      "dtype: int64\n"
     ]
    }
   ],
   "source": [
    "print(df.isnull().sum())"
   ]
  },
  {
   "cell_type": "code",
   "execution_count": 27,
   "id": "ac41cfe9",
   "metadata": {},
   "outputs": [],
   "source": [
    "df.dropna(inplace=True)"
   ]
  },
  {
   "cell_type": "code",
   "execution_count": 28,
   "id": "06b368ec",
   "metadata": {},
   "outputs": [
    {
     "name": "stdout",
     "output_type": "stream",
     "text": [
      "Duration    0\n",
      "Date        0\n",
      "Pulse       0\n",
      "Maxpulse    0\n",
      "Calories    0\n",
      "Gender      0\n",
      "dtype: int64\n"
     ]
    }
   ],
   "source": [
    "print(df.isnull().sum())"
   ]
  },
  {
   "cell_type": "code",
   "execution_count": 31,
   "id": "311efbd0",
   "metadata": {},
   "outputs": [
    {
     "name": "stdout",
     "output_type": "stream",
     "text": [
      "(35, 6)\n"
     ]
    }
   ],
   "source": [
    "print(df.shape)"
   ]
  },
  {
   "cell_type": "code",
   "execution_count": null,
   "id": "607c7f92",
   "metadata": {},
   "outputs": [],
   "source": [
    "df.drop([28,axis=0,inplace=])"
   ]
  },
  {
   "cell_type": "code",
   "execution_count": 34,
   "id": "dd0fcbef",
   "metadata": {},
   "outputs": [
    {
     "name": "stdout",
     "output_type": "stream",
     "text": [
      "0     False\n",
      "1     False\n",
      "2     False\n",
      "3     False\n",
      "4     False\n",
      "5     False\n",
      "6      True\n",
      "7     False\n",
      "8     False\n",
      "9      True\n",
      "10    False\n",
      "11    False\n",
      "12    False\n",
      "13    False\n",
      "14    False\n",
      "15     True\n",
      "16    False\n",
      "17    False\n",
      "18    False\n",
      "19    False\n",
      "20    False\n",
      "21    False\n",
      "22    False\n",
      "23    False\n",
      "25    False\n",
      "26    False\n",
      "27    False\n",
      "28    False\n",
      "29    False\n",
      "30    False\n",
      "31    False\n",
      "32    False\n",
      "33    False\n",
      "34     True\n",
      "35     True\n",
      "dtype: bool\n",
      "5\n"
     ]
    }
   ],
   "source": [
    "# Handling duplicate items\n",
    "print(df.duplicated())\n",
    "print(df.duplicated().sum())"
   ]
  },
  {
   "cell_type": "code",
   "execution_count": 35,
   "id": "e21ff003",
   "metadata": {},
   "outputs": [],
   "source": [
    "# We have to drop/delete the duplicate items\n",
    "df.drop_duplicates(inplace=True) "
   ]
  },
  {
   "cell_type": "code",
   "execution_count": 36,
   "id": "0e3b76d4",
   "metadata": {},
   "outputs": [
    {
     "name": "stdout",
     "output_type": "stream",
     "text": [
      "(30, 6)\n"
     ]
    }
   ],
   "source": [
    "print(df.shape)"
   ]
  },
  {
   "cell_type": "code",
   "execution_count": 37,
   "id": "4a74066f",
   "metadata": {},
   "outputs": [
    {
     "name": "stdout",
     "output_type": "stream",
     "text": [
      "0\n"
     ]
    }
   ],
   "source": [
    "print(df.duplicated().sum())"
   ]
  },
  {
   "cell_type": "code",
   "execution_count": null,
   "id": "614273b4",
   "metadata": {},
   "outputs": [],
   "source": [
    "df[\"Date\"]= pd.to_datetime(df[\"Date\"])\n",
    "print(df)"
   ]
  },
  {
   "cell_type": "code",
   "execution_count": null,
   "id": "4c28ca74",
   "metadata": {},
   "outputs": [],
   "source": [
    "print(df.info())"
   ]
  },
  {
   "cell_type": "code",
   "execution_count": null,
   "id": "dc0eb307",
   "metadata": {},
   "outputs": [],
   "source": [
    "df.to_csv(\"Cleaned_data.csv\")"
   ]
  }
 ],
 "metadata": {
  "kernelspec": {
   "display_name": "Python 3 (ipykernel)",
   "language": "python",
   "name": "python3"
  },
  "language_info": {
   "codemirror_mode": {
    "name": "ipython",
    "version": 3
   },
   "file_extension": ".py",
   "mimetype": "text/x-python",
   "name": "python",
   "nbconvert_exporter": "python",
   "pygments_lexer": "ipython3",
   "version": "3.9.7"
  }
 },
 "nbformat": 4,
 "nbformat_minor": 5
}
