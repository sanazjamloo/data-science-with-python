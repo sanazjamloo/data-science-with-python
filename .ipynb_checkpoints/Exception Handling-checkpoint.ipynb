{
 "cells": [
  {
   "cell_type": "code",
   "execution_count": 1,
   "id": "2fcbc9e8",
   "metadata": {},
   "outputs": [
    {
     "name": "stdout",
     "output_type": "stream",
     "text": [
      "Enter a number var1:100\n",
      "Enter a number var2:2\n",
      "50.0\n"
     ]
    }
   ],
   "source": [
    "# Handling unpredictable errors/run-time errors/exceptions\n",
    "\n",
    "var1 = int(input(\"Enter a number var1:\"))\n",
    "var2 = int(input(\"Enter a number var2:\"))\n",
    "var3 = var1/var2\n",
    "print(var3)"
   ]
  },
  {
   "cell_type": "code",
   "execution_count": null,
   "id": "29ad1bab",
   "metadata": {},
   "outputs": [],
   "source": [
    "# Handle Exception: try-except block, finally else block\n",
    "\n",
    "import sys     # will show you what was the exception\n",
    "try:\n",
    "    var1 = int(input(\"Enter a number var1:\"))\n",
    "    var2 = int(input(\"Enter a number var2:\"))\n",
    "    var3 = var1/var2\n",
    "    print(var3)\n",
    "except:\n",
    "    print(\"Some exception happened, please try again later.\")\n",
    "    print(sys.exc_info())\n",
    "    print(\"Enter valid numbers!\")\n",
    "    var1 = int(input(\"Enter a number var1:\"))\n",
    "    var2 = int(input(\"Enter a number var2:\"))\n",
    "    var3 = var1/var2\n",
    "    print(var3)\n",
    "else:\n",
    "    print(\"No exception.\")\n",
    "finally:\n",
    "    print(\"Always Excecuting\")"
   ]
  },
  {
   "cell_type": "code",
   "execution_count": null,
   "id": "60148ffa",
   "metadata": {},
   "outputs": [],
   "source": [
    "# Multiple except block\n",
    "\n",
    "try:\n",
    "    var1 = 10\n",
    "    var2 = 0\n",
    "    if var2== 0:\n",
    "        raise ZeroDivisionError\n",
    "    list1 = [1,2,3]\n",
    "    list1[1]=var1/var2\n",
    "    print(list1[2])"
   ]
  }
 ],
 "metadata": {
  "kernelspec": {
   "display_name": "Python 3 (ipykernel)",
   "language": "python",
   "name": "python3"
  },
  "language_info": {
   "codemirror_mode": {
    "name": "ipython",
    "version": 3
   },
   "file_extension": ".py",
   "mimetype": "text/x-python",
   "name": "python",
   "nbconvert_exporter": "python",
   "pygments_lexer": "ipython3",
   "version": "3.9.7"
  }
 },
 "nbformat": 4,
 "nbformat_minor": 5
}
