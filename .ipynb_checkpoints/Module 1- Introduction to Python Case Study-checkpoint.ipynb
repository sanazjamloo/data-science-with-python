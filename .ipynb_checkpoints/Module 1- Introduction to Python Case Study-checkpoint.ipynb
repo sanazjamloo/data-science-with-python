{
 "cells": [
  {
   "cell_type": "markdown",
   "id": "c6c52b50",
   "metadata": {},
   "source": [
    "1. Write a program that will find factors of the given number and find whether the factor is even or odd. \n",
    "Hint: Use Loop with if-else statements "
   ]
  },
  {
   "cell_type": "code",
   "execution_count": 10,
   "id": "953485ef",
   "metadata": {},
   "outputs": [
    {
     "name": "stdout",
     "output_type": "stream",
     "text": [
      "Enter a number: 10\n",
      "Factors of 10 are:\n",
      "1 is odd.\n",
      "2 is even.\n",
      "5 is odd.\n",
      "10 is even.\n"
     ]
    }
   ],
   "source": [
    "# In Python, factoring means breaking down a number into its prime factors. \n",
    "# A prime factor is a number that can only be divided by itself and 1.\n",
    "\n",
    "number = int(input(\"Enter a number: \"))\n",
    "print(\"Factors of\", number, \"are:\")\n",
    "factors = []\n",
    "\n",
    "for i in range(1, number + 1):\n",
    "    if number % i == 0:\n",
    "        factors.append(i)\n",
    "        if i % 2 == 0:\n",
    "            print(i, \"is even.\")\n",
    "        else:\n",
    "            print(i, \"is odd.\")\n",
    "            "
   ]
  },
  {
   "cell_type": "markdown",
   "id": "d4419263",
   "metadata": {},
   "source": [
    "2. Write a code that accepts a sequence of words as input and prints the words in a sequence after sorting them alphabetically. Hint: In the case of input data being supplied to the question, it should be assumed to be a console input. "
   ]
  },
  {
   "cell_type": "code",
   "execution_count": 15,
   "id": "30692351",
   "metadata": {},
   "outputs": [
    {
     "name": "stdout",
     "output_type": "stream",
     "text": [
      "Enter a sequence of words separated by space: me you him her us \n",
      "['me', 'you', 'him', 'her', 'us']\n",
      "Sorted words: her, him, me, us, you\n"
     ]
    }
   ],
   "source": [
    "words = input(\"Enter a sequence of words separated by comma: \")\n",
    "\n",
    "# Split the input into individual words to sort easily\n",
    "word_list = words.split()\n",
    "print(word_list)\n",
    "\n",
    "# Sort the words alphabetically\n",
    "sorted_words = sorted(word_list)\n",
    "\n",
    "print(\"Sorted words:\", \", \".join(sorted_words))"
   ]
  },
  {
   "cell_type": "markdown",
   "id": "031609ca",
   "metadata": {},
   "source": [
    "3. Write a program, which will find all the numbers between 1000 and 3000 (both included) such that each digit of a number is an even number. The numbers obtained should be printed in a comma-separated sequence on a single line. "
   ]
  },
  {
   "cell_type": "code",
   "execution_count": 23,
   "id": "7b06931b",
   "metadata": {},
   "outputs": [
    {
     "name": "stdout",
     "output_type": "stream",
     "text": [
      "2000,2002,2004,2006,2008,2020,2022,2024,2026,2028,2040,2042,2044,2046,2048,2060,2062,2064,2066,2068,2080,2082,2084,2086,2088,2200,2202,2204,2206,2208,2220,2222,2224,2226,2228,2240,2242,2244,2246,2248,2260,2262,2264,2266,2268,2280,2282,2284,2286,2288,2400,2402,2404,2406,2408,2420,2422,2424,2426,2428,2440,2442,2444,2446,2448,2460,2462,2464,2466,2468,2480,2482,2484,2486,2488,2600,2602,2604,2606,2608,2620,2622,2624,2626,2628,2640,2642,2644,2646,2648,2660,2662,2664,2666,2668,2680,2682,2684,2686,2688,2800,2802,2804,2806,2808,2820,2822,2824,2826,2828,2840,2842,2844,2846,2848,2860,2862,2864,2866,2868,2880,2882,2884,2886,2888\n"
     ]
    }
   ],
   "source": [
    "values = []\n",
    "for i in range(1000, 3001):\n",
    "    s = str(i)\n",
    "    if (int(s[0])%2 == 0) and (int(s[1])%2 == 0) and (int(s[2])%2 == 0) and (int(s[3])%2 == 0):\n",
    "        values.append(s)\n",
    "print (\",\".join(values))"
   ]
  },
  {
   "cell_type": "markdown",
   "id": "ee717ac7",
   "metadata": {},
   "source": [
    "4. Write a program that accepts a sentence and calculates the number of letters and digits. Suppose if the entered string is: Python0325 Then the output will be: LETTERS: 6 DIGITS:4 Hint: Use built-in functions of string. "
   ]
  },
  {
   "cell_type": "code",
   "execution_count": 28,
   "id": "d5b7027e",
   "metadata": {},
   "outputs": [
    {
     "name": "stdout",
     "output_type": "stream",
     "text": [
      "Enter a sentence: Python0325\n",
      "LETTERS 6\n",
      "DIGITS 4\n"
     ]
    }
   ],
   "source": [
    "sentence = input(\"Enter a sentence: \")\n",
    "letter, digit = 0,0\n",
    "\n",
    "for i in sentence:\n",
    "    if i.isalpha():\n",
    "        letter += 1\n",
    "    elif i.isnumeric(): \n",
    "        digit +=1\n",
    "print(f\"LETTERS {letter}\\nDIGITS {digit}\")\n",
    "        "
   ]
  },
  {
   "cell_type": "markdown",
   "id": "04abf444",
   "metadata": {},
   "source": [
    "5. Design a code that will find whether the given number is a Palindrome number or not. Hint: Use built-in functions of string. "
   ]
  },
  {
   "cell_type": "code",
   "execution_count": 30,
   "id": "a3a76a3a",
   "metadata": {},
   "outputs": [
    {
     "name": "stdout",
     "output_type": "stream",
     "text": [
      "Enter a number:12\n",
      "Nope, not a palindrome.\n"
     ]
    }
   ],
   "source": [
    "number = input(\"Enter a number:\")\n",
    "if number == number[::-1]:\n",
    "    print(\"Yes its a palindrome!\")\n",
    "else: \n",
    "    print(\"Nope, not a palindrome.\")"
   ]
  },
  {
   "cell_type": "code",
   "execution_count": null,
   "id": "4f001f1f",
   "metadata": {},
   "outputs": [],
   "source": []
  }
 ],
 "metadata": {
  "kernelspec": {
   "display_name": "Python 3 (ipykernel)",
   "language": "python",
   "name": "python3"
  },
  "language_info": {
   "codemirror_mode": {
    "name": "ipython",
    "version": 3
   },
   "file_extension": ".py",
   "mimetype": "text/x-python",
   "name": "python",
   "nbconvert_exporter": "python",
   "pygments_lexer": "ipython3",
   "version": "3.9.7"
  }
 },
 "nbformat": 4,
 "nbformat_minor": 5
}
