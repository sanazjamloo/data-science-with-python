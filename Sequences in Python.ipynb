{
 "cells": [
  {
   "cell_type": "code",
   "execution_count": null,
   "id": "e1f4c230",
   "metadata": {},
   "outputs": [],
   "source": [
    "# Sequences or collection data types/built-in data structures\n",
    "# Sequences: list, tuple, set, dictionary(dict)\n",
    "# Ordered/ unordered(index) collection\n",
    "# Mutable/immutable\n",
    "# Duplicates allowed or not\n",
    "\n",
    "\n",
    "# list[]: ordered(index), mutable,duplicates allowed \n",
    "# tuple(): ordered(index), immutable, duplicates allowed\n",
    "# set{}: unordered, mutable, does NOT allow duplicates\n",
    "# dict{}: {key:value}: unordered, keys are immutable, values are mutable"
   ]
  },
  {
   "cell_type": "code",
   "execution_count": 4,
   "id": "121065d3",
   "metadata": {},
   "outputs": [
    {
     "name": "stdout",
     "output_type": "stream",
     "text": [
      "<class 'list'>\n",
      "3\n"
     ]
    }
   ],
   "source": [
    "# Python List. List is not an array.Multiple data types are allowed in a list.\n",
    "lst = [45,36,98,75, 45,12]\n",
    "lst = ['zero', 1,2,3,6.5, \"Sasha\",[10,20,30]]\n",
    "print(type(lst))\n",
    "print(lst[0]) #index"
   ]
  },
  {
   "cell_type": "code",
   "execution_count": 5,
   "id": "6b141359",
   "metadata": {},
   "outputs": [
    {
     "name": "stdout",
     "output_type": "stream",
     "text": [
      "['zero', 1, 2, 3, 6.5, 'Sasha', [10, 20, 30]]\n"
     ]
    }
   ],
   "source": [
    "print(lst)"
   ]
  },
  {
   "cell_type": "code",
   "execution_count": 6,
   "id": "722c2584",
   "metadata": {},
   "outputs": [],
   "source": [
    "# Updating/chaning the values in the list\n",
    "lst[1]=100"
   ]
  },
  {
   "cell_type": "code",
   "execution_count": 7,
   "id": "8336f097",
   "metadata": {},
   "outputs": [
    {
     "name": "stdout",
     "output_type": "stream",
     "text": [
      "['zero', 100, 2, 3, 6.5, 'Sasha', [10, 20, 30]]\n"
     ]
    }
   ],
   "source": [
    "print(lst)"
   ]
  },
  {
   "cell_type": "code",
   "execution_count": 8,
   "id": "787aa405",
   "metadata": {},
   "outputs": [
    {
     "name": "stdout",
     "output_type": "stream",
     "text": [
      "index:0, item:zero\n",
      "index:1, item:100\n",
      "index:2, item:2\n",
      "index:3, item:3\n",
      "index:4, item:6.5\n",
      "index:5, item:Sasha\n",
      "index:6, item:[10, 20, 30]\n"
     ]
    }
   ],
   "source": [
    "# Iterate through the list\n",
    "indx = 0\n",
    "for item in lst:\n",
    "    print(f\"index:{indx}, item:{item}\")\n",
    "    indx+=1"
   ]
  },
  {
   "cell_type": "code",
   "execution_count": 9,
   "id": "0070ebd6",
   "metadata": {},
   "outputs": [
    {
     "name": "stdout",
     "output_type": "stream",
     "text": [
      "Total items:  7\n"
     ]
    }
   ],
   "source": [
    "print(\"Total items: \",len(lst))"
   ]
  },
  {
   "cell_type": "code",
   "execution_count": 16,
   "id": "4bb639ba",
   "metadata": {},
   "outputs": [
    {
     "name": "stdout",
     "output_type": "stream",
     "text": [
      "[34, 56, 78, 98, 55]\n",
      "[15, 56, 98]\n",
      "[15, 34, 56, 78]\n",
      "77\n"
     ]
    }
   ],
   "source": [
    "# Slicing [start:stop:step] stop is never included\n",
    "lst = [15, 34, 56, 78, 98, 55, 32, 77, 43, 21]\n",
    "print(lst[1:6])\n",
    "print(lst[0:6:2])\n",
    "print(lst[:4])\n",
    "print(lst[-3]) #negative indexing"
   ]
  },
  {
   "cell_type": "code",
   "execution_count": 13,
   "id": "e1b9efb4",
   "metadata": {},
   "outputs": [
    {
     "name": "stdout",
     "output_type": "stream",
     "text": [
      "[21, 43, 77, 32, 55, 98, 78, 56, 34, 15]\n"
     ]
    }
   ],
   "source": [
    "# Reverse the entire list\n",
    "print(lst[::-1])"
   ]
  },
  {
   "cell_type": "code",
   "execution_count": 19,
   "id": "dfb4f06a",
   "metadata": {},
   "outputs": [
    {
     "name": "stdout",
     "output_type": "stream",
     "text": [
      "15\n",
      "34\n",
      "56\n",
      "78\n",
      "98\n",
      "55\n",
      "32\n",
      "77\n",
      "43\n",
      "21\n"
     ]
    }
   ],
   "source": [
    "for i in lst:\n",
    "    print(i)"
   ]
  },
  {
   "cell_type": "code",
   "execution_count": 24,
   "id": "249ef482",
   "metadata": {},
   "outputs": [
    {
     "name": "stdout",
     "output_type": "stream",
     "text": [
      "['__add__', '__class__', '__class_getitem__', '__contains__', '__delattr__', '__delitem__', '__dir__', '__doc__', '__eq__', '__format__', '__ge__', '__getattribute__', '__getitem__', '__gt__', '__hash__', '__iadd__', '__imul__', '__init__', '__init_subclass__', '__iter__', '__le__', '__len__', '__lt__', '__mul__', '__ne__', '__new__', '__reduce__', '__reduce_ex__', '__repr__', '__reversed__', '__rmul__', '__setattr__', '__setitem__', '__sizeof__', '__str__', '__subclasshook__', 'append', 'clear', 'copy', 'count', 'extend', 'index', 'insert', 'pop', 'remove', 'reverse', 'sort']\n"
     ]
    },
    {
     "ename": "TypeError",
     "evalue": "'builtin_function_or_method' object is not iterable",
     "output_type": "error",
     "traceback": [
      "\u001b[0;31m---------------------------------------------------------------------------\u001b[0m",
      "\u001b[0;31mTypeError\u001b[0m                                 Traceback (most recent call last)",
      "\u001b[0;32m/var/folders/32/3mlyxgs95z78k4fjtv38hkvw0000gn/T/ipykernel_61839/3078201049.py\u001b[0m in \u001b[0;36m<module>\u001b[0;34m\u001b[0m\n\u001b[1;32m      1\u001b[0m \u001b[0;31m# To get functions associated with list(object)\u001b[0m\u001b[0;34m\u001b[0m\u001b[0;34m\u001b[0m\u001b[0m\n\u001b[1;32m      2\u001b[0m \u001b[0mprint\u001b[0m\u001b[0;34m(\u001b[0m\u001b[0mdir\u001b[0m\u001b[0;34m(\u001b[0m\u001b[0mlst\u001b[0m\u001b[0;34m)\u001b[0m\u001b[0;34m)\u001b[0m\u001b[0;34m\u001b[0m\u001b[0;34m\u001b[0m\u001b[0m\n\u001b[0;32m----> 3\u001b[0;31m \u001b[0;32mfor\u001b[0m \u001b[0mi\u001b[0m \u001b[0;32min\u001b[0m \u001b[0mdir\u001b[0m\u001b[0;34m:\u001b[0m\u001b[0;34m\u001b[0m\u001b[0;34m\u001b[0m\u001b[0m\n\u001b[0m\u001b[1;32m      4\u001b[0m     \u001b[0mprint\u001b[0m\u001b[0;34m(\u001b[0m\u001b[0mi\u001b[0m\u001b[0;34m)\u001b[0m\u001b[0;34m\u001b[0m\u001b[0;34m\u001b[0m\u001b[0m\n",
      "\u001b[0;31mTypeError\u001b[0m: 'builtin_function_or_method' object is not iterable"
     ]
    }
   ],
   "source": [
    "# To get functions associated with list(object)\n",
    "print(dir(lst))\n"
   ]
  },
  {
   "cell_type": "code",
   "execution_count": 22,
   "id": "84f08308",
   "metadata": {},
   "outputs": [
    {
     "name": "stdout",
     "output_type": "stream",
     "text": [
      "Insert object before index.\n"
     ]
    }
   ],
   "source": [
    "print(lst.insert.__doc__) #document"
   ]
  },
  {
   "cell_type": "code",
   "execution_count": 30,
   "id": "5726dfb0",
   "metadata": {},
   "outputs": [
    {
     "name": "stdout",
     "output_type": "stream",
     "text": [
      "[12, 34, 56, 60, 78, 87, 99, 90, 100, 200, 300, 400]\n"
     ]
    }
   ],
   "source": [
    "# Insert and delete functions\n",
    "#Insert: append(), insert(), extend()\n",
    "\n",
    "lst = [12,34,56,78,87,99,90]\n",
    "# Append() will add a new item to the end of the list\n",
    "lst.append(100) #takes only one item at a time\n",
    "lst.extend([200,300,400]) # takes multiple items\n",
    "lst.insert(3,60) # takes the index position and the item\n",
    "\n",
    "print(lst)"
   ]
  },
  {
   "cell_type": "code",
   "execution_count": 26,
   "id": "31d222b9",
   "metadata": {},
   "outputs": [
    {
     "name": "stdout",
     "output_type": "stream",
     "text": [
      "[12, 34, 56, 78, 87, 99, 90, 100]\n"
     ]
    }
   ],
   "source": []
  },
  {
   "cell_type": "code",
   "execution_count": 31,
   "id": "63a83837",
   "metadata": {},
   "outputs": [
    {
     "name": "stdout",
     "output_type": "stream",
     "text": [
      "[12, 34, 56, 60, 78, 87, 99, 90, 100, 200, 300, 400]\n"
     ]
    }
   ],
   "source": [
    "# Delete items from a list: pop(), remove()\n",
    "\n",
    "print(lst)"
   ]
  },
  {
   "cell_type": "code",
   "execution_count": 35,
   "id": "112cbde8",
   "metadata": {},
   "outputs": [
    {
     "name": "stdout",
     "output_type": "stream",
     "text": [
      "[12, 34, 56, 78, 87, 99, 90]\n"
     ]
    }
   ],
   "source": [
    "lst.pop() #removes the last item in the list\n",
    "lst.pop(3)\n",
    "print(lst)"
   ]
  },
  {
   "cell_type": "code",
   "execution_count": 36,
   "id": "b4835e07",
   "metadata": {},
   "outputs": [
    {
     "name": "stdout",
     "output_type": "stream",
     "text": [
      "3\n"
     ]
    }
   ],
   "source": [
    "print(lst.index(78))"
   ]
  },
  {
   "cell_type": "code",
   "execution_count": 38,
   "id": "c794f6af",
   "metadata": {},
   "outputs": [
    {
     "name": "stdout",
     "output_type": "stream",
     "text": [
      "[12, 34, 56, 78, 87, 99, 90]\n"
     ]
    }
   ],
   "source": [
    "print(lst)\n",
    "lst.remove(99)"
   ]
  },
  {
   "cell_type": "code",
   "execution_count": 39,
   "id": "496645f4",
   "metadata": {},
   "outputs": [
    {
     "name": "stdout",
     "output_type": "stream",
     "text": [
      "[12, 34, 56, 78, 87, 90]\n"
     ]
    }
   ],
   "source": [
    "print(lst)"
   ]
  },
  {
   "cell_type": "code",
   "execution_count": 40,
   "id": "ec4966a8",
   "metadata": {},
   "outputs": [
    {
     "name": "stdout",
     "output_type": "stream",
     "text": [
      "[12, 34, 56, 78, 87, 90]\n"
     ]
    }
   ],
   "source": [
    "for i in lst:\n",
    "    if i == 99:\n",
    "        lst.remove(99)\n",
    "print(lst)"
   ]
  },
  {
   "cell_type": "code",
   "execution_count": 41,
   "id": "c7c2df25",
   "metadata": {},
   "outputs": [
    {
     "name": "stdout",
     "output_type": "stream",
     "text": [
      "3\n"
     ]
    }
   ],
   "source": [
    "lst = [45,45, 26, 23, 89, 78, 45, 56, 200]\n",
    "print(lst.count(45))"
   ]
  },
  {
   "cell_type": "code",
   "execution_count": 46,
   "id": "ca3bd9e1",
   "metadata": {},
   "outputs": [
    {
     "name": "stdout",
     "output_type": "stream",
     "text": [
      "[23, 26, 45, 45, 45, 56, 78, 89, 200]\n",
      "[200, 89, 78, 56, 45, 45, 45, 26, 23]\n"
     ]
    }
   ],
   "source": [
    "lst.sort() # by default is ascending\n",
    "print(lst)\n",
    "print(lst[::-1])"
   ]
  },
  {
   "cell_type": "code",
   "execution_count": 48,
   "id": "eea07a34",
   "metadata": {},
   "outputs": [
    {
     "name": "stdout",
     "output_type": "stream",
     "text": [
      "<class 'tuple'>\n",
      "45\n"
     ]
    }
   ],
   "source": [
    "# Python Tuple\n",
    "tup = (45,63,98,52,32,63,78,97)\n",
    "print(type(tup))\n",
    "print(tup[0]) #allows indexing\n",
    "\n",
    "#tup[0] = 100\n",
    "#print(tup)\n",
    "# Tuples are immutable. We cannot change the items in tuple and there is nothing much we can do with them. "
   ]
  },
  {
   "cell_type": "code",
   "execution_count": 51,
   "id": "1c0d7b9a",
   "metadata": {},
   "outputs": [
    {
     "name": "stdout",
     "output_type": "stream",
     "text": [
      "__add__\n",
      "__class__\n",
      "__class_getitem__\n",
      "__contains__\n",
      "__delattr__\n",
      "__dir__\n",
      "__doc__\n",
      "__eq__\n",
      "__format__\n",
      "__ge__\n",
      "__getattribute__\n",
      "__getitem__\n",
      "__getnewargs__\n",
      "__gt__\n",
      "__hash__\n",
      "__init__\n",
      "__init_subclass__\n",
      "__iter__\n",
      "__le__\n",
      "__len__\n",
      "__lt__\n",
      "__mul__\n",
      "__ne__\n",
      "__new__\n",
      "__reduce__\n",
      "__reduce_ex__\n",
      "__repr__\n",
      "__rmul__\n",
      "__setattr__\n",
      "__sizeof__\n",
      "__str__\n",
      "__subclasshook__\n",
      "count\n",
      "index\n"
     ]
    }
   ],
   "source": [
    "for i in dir(tup):\n",
    "    print(i) #we can only do count and index() functions for tuples"
   ]
  },
  {
   "cell_type": "code",
   "execution_count": 2,
   "id": "3d742e04",
   "metadata": {},
   "outputs": [
    {
     "name": "stdout",
     "output_type": "stream",
     "text": [
      "<class 'set'>\n",
      "{50, 20, 10, 60, 30}\n"
     ]
    }
   ],
   "source": [
    "# Set{} good for unique set of items.Unordered in nature. No indexing.\n",
    "st = {10,10,20,30,30,30,50,60}\n",
    "print(type(st))\n",
    "print(st) #unordered. No concept of indexing. "
   ]
  },
  {
   "cell_type": "code",
   "execution_count": 3,
   "id": "e01a3682",
   "metadata": {},
   "outputs": [
    {
     "name": "stdout",
     "output_type": "stream",
     "text": [
      "{34, 67, 78, 79, 87, 56, 25}\n"
     ]
    }
   ],
   "source": [
    "# Creating a set using set() function\n",
    "set_a = set([78,34,56,79,25,25,67,87])\n",
    "print(set_a)"
   ]
  },
  {
   "cell_type": "code",
   "execution_count": 6,
   "id": "cc94b115",
   "metadata": {},
   "outputs": [
    {
     "name": "stdout",
     "output_type": "stream",
     "text": [
      "Union of the two sets: {0, 1, 2, 3, 4, 6, 8, 48, 51, 23, 25}\n",
      "The intersection of the two sets: {3, 4}\n",
      "Elements in a but not in set_b: {0, 1, 2, 6, 8, 48}\n"
     ]
    }
   ],
   "source": [
    "# Operations on sets\n",
    "set_a = {0,8,6,3,2,1,4,6,48,0,1}\n",
    "set_b = {4,23,25,23,51,3}\n",
    "print(\"Union of the two sets:\", set_a.union(set_b)) #merging the two sets\n",
    "print(\"The intersection of the two sets:\", set_a.intersection(set_b))\n",
    "print(\"Elements in a but not in set_b:\",set_a-set_b)"
   ]
  },
  {
   "cell_type": "code",
   "execution_count": 11,
   "id": "2d41a2a8",
   "metadata": {},
   "outputs": [
    {
     "name": "stdout",
     "output_type": "stream",
     "text": [
      "{0, 1, 2, 3, 4, 100, 6, 8, 1001, 48}\n",
      "{0, 1, 2, 3, 4, 100, 6, 8, 1001, 48}\n",
      "{0, 1, 2, 3, 4, 100, 6, 66, 8, 1001, 77, 48, 55}\n"
     ]
    }
   ],
   "source": [
    "# Adding new items in a set\n",
    "print(set_a)\n",
    "set_a.add(1001)\n",
    "print(set_a) # we cannot choose the position of the new item. Unordered. \n",
    "set_a.update([55,66,77]) # adding multiple items to a set\n",
    "print(set_a)"
   ]
  },
  {
   "cell_type": "code",
   "execution_count": 14,
   "id": "4f29de13",
   "metadata": {},
   "outputs": [
    {
     "name": "stdout",
     "output_type": "stream",
     "text": [
      "0\n",
      "1\n",
      "2\n",
      "3\n",
      "4\n",
      "100\n",
      "6\n",
      "66\n",
      "8\n",
      "1001\n",
      "77\n",
      "48\n",
      "55\n"
     ]
    }
   ],
   "source": [
    "for i in set_a:\n",
    "    print(i)"
   ]
  },
  {
   "cell_type": "code",
   "execution_count": 23,
   "id": "b54a2f6f",
   "metadata": {},
   "outputs": [
    {
     "name": "stdout",
     "output_type": "stream",
     "text": [
      "25\n",
      "Sasha\n",
      "['p1', 'p2']\n",
      "abc\n"
     ]
    }
   ],
   "source": [
    "# Python Dictionaries {key:value}\n",
    "# Key can be any datatype.\n",
    "\n",
    "emp_data = {'name': 'Sasha', 'age': 25, 'rate':4.6, 'project':['p1','p2'],100:'abc'}\n",
    "print(emp_data['age'])\n",
    "print(emp_data['name'])\n",
    "print(emp_data['project'])\n",
    "print(emp_data[100])"
   ]
  },
  {
   "cell_type": "code",
   "execution_count": 35,
   "id": "db6d9688",
   "metadata": {},
   "outputs": [
    {
     "name": "stdout",
     "output_type": "stream",
     "text": [
      "{'name': 'Piggy', 'age': 20, 'band': 35}\n",
      "{'name': 'Piggy', 'age': 45, 'band': 35}\n"
     ]
    }
   ],
   "source": [
    "emp = {'name': 'Ziggy', 'age': 20,'band':35, 'name':'Piggy'} # we cannot have duplicate keys in a dictionary. Values can be duplicate but not the keys.\n",
    "print(emp)\n",
    "# print(emp('name')) \n",
    "emp['age'] = 45\n",
    "print(emp)"
   ]
  },
  {
   "cell_type": "code",
   "execution_count": 28,
   "id": "3c861026",
   "metadata": {},
   "outputs": [
    {
     "name": "stdout",
     "output_type": "stream",
     "text": [
      "{'name': 'Piggy', 'age': 45, 'band': 35, 'city': 'San Francisco'}\n"
     ]
    }
   ],
   "source": [
    "# Add a new key/value pair. There is no function to do this. We have to do it manually.\n",
    "emp['city'] = 'San Francisco'\n",
    "print(emp)\n"
   ]
  },
  {
   "cell_type": "code",
   "execution_count": 30,
   "id": "fc4fe45c",
   "metadata": {},
   "outputs": [
    {
     "name": "stdout",
     "output_type": "stream",
     "text": [
      "{'name': 'John', 'age': 45, 'band': 35, 'city': 'San Francisco'}\n"
     ]
    }
   ],
   "source": [
    "emp['name'] = 'John'\n",
    "print(emp) # will update the value for the name key"
   ]
  },
  {
   "cell_type": "code",
   "execution_count": 38,
   "id": "7e38842d",
   "metadata": {},
   "outputs": [
    {
     "name": "stdout",
     "output_type": "stream",
     "text": [
      "{'name': 'Piggy', 'band': 35}\n",
      "dict_keys(['name', 'band'])\n",
      "dict_values(['Piggy', 35])\n"
     ]
    }
   ],
   "source": [
    "# Remove key value pair\n",
    "# emp.pop('age')\n",
    "print(emp)\n",
    "print(emp.keys())\n",
    "print(emp.values())"
   ]
  },
  {
   "cell_type": "code",
   "execution_count": null,
   "id": "7dfe8ad1",
   "metadata": {},
   "outputs": [],
   "source": [
    "# dict.fromkeys() explore it yourself"
   ]
  },
  {
   "cell_type": "code",
   "execution_count": null,
   "id": "40e4e95b",
   "metadata": {},
   "outputs": [],
   "source": []
  }
 ],
 "metadata": {
  "kernelspec": {
   "display_name": "Python 3 (ipykernel)",
   "language": "python",
   "name": "python3"
  },
  "language_info": {
   "codemirror_mode": {
    "name": "ipython",
    "version": 3
   },
   "file_extension": ".py",
   "mimetype": "text/x-python",
   "name": "python",
   "nbconvert_exporter": "python",
   "pygments_lexer": "ipython3",
   "version": "3.9.7"
  }
 },
 "nbformat": 4,
 "nbformat_minor": 5
}
