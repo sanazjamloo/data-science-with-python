{
 "cells": [
  {
   "cell_type": "code",
   "execution_count": 6,
   "id": "7ff5a14a",
   "metadata": {},
   "outputs": [
    {
     "name": "stdout",
     "output_type": "stream",
     "text": [
      "{'Emp_name': ['Amit', 'John', 'Tina', 'Amy'], 'Emp_salary': [45000, 56000, 78200, 96300]}\n",
      "  Emp_name  Emp_salary\n",
      "0     Amit       45000\n",
      "1     John       56000\n",
      "2     Tina       78200\n",
      "3      Amy       96300\n",
      "<class 'pandas.core.frame.DataFrame'>\n"
     ]
    }
   ],
   "source": [
    "# Creating DataFrames for a tabular dataset\n",
    "\n",
    "import pandas as pd\n",
    "\n",
    "raw_data = {\n",
    "    \"Emp_name\":['Amit','John','Tina','Amy'],\n",
    "    \"Emp_salary\": [45000,56000,78200,96300]\n",
    "}\n",
    "print(raw_data)\n",
    "\n",
    "# Converting a dictionary to a tabular dataset\n",
    "df_emp = pd.DataFrame(raw_data)\n",
    "print(df_emp)\n",
    "print(type(df_emp))"
   ]
  },
  {
   "cell_type": "code",
   "execution_count": null,
   "id": "e5eab5a2",
   "metadata": {},
   "outputs": [],
   "source": [
    "# Import and export data\n",
    "# Import file---> DF\n",
    "# Export DF---> file\n",
    "# File Types supported by pandas: csv, excel, json, HTML, SQL queries.\n",
    "\n",
    "# Import functions: read_csv(), read_excel(), read_json()\n",
    "# Export functions: to_csv(), to_excel(), to_json()\n"
   ]
  },
  {
   "cell_type": "code",
   "execution_count": 9,
   "id": "b090685a",
   "metadata": {},
   "outputs": [
    {
     "name": "stdout",
     "output_type": "stream",
     "text": [
      "  Emp_name  Emp_salary\n",
      "0     Amit       45000\n",
      "1     John       56000\n",
      "2     Tina       78200\n",
      "3      Amy       96300\n"
     ]
    }
   ],
   "source": [
    "# Export\n",
    "\n",
    "print(df_emp)\n",
    "df_emp.to_csv(\"example.csv\")"
   ]
  },
  {
   "cell_type": "code",
   "execution_count": 10,
   "id": "cd33b679",
   "metadata": {},
   "outputs": [],
   "source": [
    "df_emp.to_excel('example.xlsx')\n",
    "df_emp.to_json('example.js')"
   ]
  },
  {
   "cell_type": "code",
   "execution_count": 32,
   "id": "03adc3eb",
   "metadata": {},
   "outputs": [
    {
     "name": "stdout",
     "output_type": "stream",
     "text": [
      "      Pid  Pregnancies  Glucose  BloodPressure  SkinThickness  Insulin   BMI  \\\n",
      "0    1001            6      148             72             35    250.0  33.6   \n",
      "1    1002            1       85             66             29    300.0  26.6   \n",
      "2    1003            8      183             64              0      NaN  23.3   \n",
      "3    1004            1       89             66             23     94.0  28.1   \n",
      "4    1005            0      137             40             35    168.0  43.1   \n",
      "..    ...          ...      ...            ...            ...      ...   ...   \n",
      "763  1764           10      101             76             48    180.0  32.9   \n",
      "764  1765            2      122             70             27      0.0  36.8   \n",
      "765  1766            5      121             72             23    112.0  26.2   \n",
      "766  1767            1      126             60              0      0.0  30.1   \n",
      "767  1768            1       93             70             31      0.0  30.4   \n",
      "\n",
      "     DiabetesPedigreeFunction  Age  Outcome  \n",
      "0                       0.627   50        1  \n",
      "1                       0.351   31        0  \n",
      "2                       0.672   32        1  \n",
      "3                       0.167   21        0  \n",
      "4                       2.288   33        1  \n",
      "..                        ...  ...      ...  \n",
      "763                     0.171   63        0  \n",
      "764                     0.340   27        0  \n",
      "765                     0.245   30        0  \n",
      "766                     0.349   47        1  \n",
      "767                     0.315   23        0  \n",
      "\n",
      "[768 rows x 10 columns]\n"
     ]
    }
   ],
   "source": [
    "# Reading Data (import)\n",
    "\n",
    "df = pd.read_csv(\"diabetes.csv\")\n",
    "print(df)\n"
   ]
  },
  {
   "cell_type": "code",
   "execution_count": 33,
   "id": "4c917bf5",
   "metadata": {},
   "outputs": [
    {
     "name": "stdout",
     "output_type": "stream",
     "text": [
      "        0            1        2              3              4        5     6  \\\n",
      "0     Pid  Pregnancies  Glucose  BloodPressure  SkinThickness  Insulin   BMI   \n",
      "1    1001            6      148             72             35      250  33.6   \n",
      "2    1002            1       85             66             29      300  26.6   \n",
      "3    1003            8      183             64              0      NaN  23.3   \n",
      "4    1004            1       89             66             23       94  28.1   \n",
      "..    ...          ...      ...            ...            ...      ...   ...   \n",
      "764  1764           10      101             76             48      180  32.9   \n",
      "765  1765            2      122             70             27        0  36.8   \n",
      "766  1766            5      121             72             23      112  26.2   \n",
      "767  1767            1      126             60              0        0  30.1   \n",
      "768  1768            1       93             70             31        0  30.4   \n",
      "\n",
      "                            7    8        9  \n",
      "0    DiabetesPedigreeFunction  Age  Outcome  \n",
      "1                       0.627   50        1  \n",
      "2                       0.351   31        0  \n",
      "3                       0.672   32        1  \n",
      "4                       0.167   21        0  \n",
      "..                        ...  ...      ...  \n",
      "764                     0.171   63        0  \n",
      "765                      0.34   27        0  \n",
      "766                     0.245   30        0  \n",
      "767                     0.349   47        1  \n",
      "768                     0.315   23        0  \n",
      "\n",
      "[769 rows x 10 columns]\n"
     ]
    }
   ],
   "source": [
    "# Header\n",
    "df = pd.read_csv(\"diabetes.csv\", header=None) #default header=0\n",
    "print(df)"
   ]
  },
  {
   "cell_type": "code",
   "execution_count": 35,
   "id": "7b3aa0c1",
   "metadata": {},
   "outputs": [
    {
     "name": "stdout",
     "output_type": "stream",
     "text": [
      "              Pregnancies  BloodPressure  SkinThickness  Insulin   BMI  \\\n",
      "Pid  Glucose                                                             \n",
      "1001 148                6             72             35    250.0  33.6   \n",
      "1002 85                 1             66             29    300.0  26.6   \n",
      "1003 183                8             64              0      NaN  23.3   \n",
      "1004 89                 1             66             23     94.0  28.1   \n",
      "1005 137                0             40             35    168.0  43.1   \n",
      "...                   ...            ...            ...      ...   ...   \n",
      "1764 101               10             76             48    180.0  32.9   \n",
      "1765 122                2             70             27      0.0  36.8   \n",
      "1766 121                5             72             23    112.0  26.2   \n",
      "1767 126                1             60              0      0.0  30.1   \n",
      "1768 93                 1             70             31      0.0  30.4   \n",
      "\n",
      "              DiabetesPedigreeFunction  Age  Outcome  \n",
      "Pid  Glucose                                          \n",
      "1001 148                         0.627   50        1  \n",
      "1002 85                          0.351   31        0  \n",
      "1003 183                         0.672   32        1  \n",
      "1004 89                          0.167   21        0  \n",
      "1005 137                         2.288   33        1  \n",
      "...                                ...  ...      ...  \n",
      "1764 101                         0.171   63        0  \n",
      "1765 122                         0.340   27        0  \n",
      "1766 121                         0.245   30        0  \n",
      "1767 126                         0.349   47        1  \n",
      "1768 93                          0.315   23        0  \n",
      "\n",
      "[768 rows x 8 columns]\n"
     ]
    }
   ],
   "source": [
    "#Index Column (customize index column)---> diabetes file, default header=0\n",
    "df = pd.read_csv(\"diabetes.csv\", index_col=['Pid','Glucose'])\n",
    "print(df)\n"
   ]
  },
  {
   "cell_type": "code",
   "execution_count": null,
   "id": "a60173db",
   "metadata": {},
   "outputs": [],
   "source": [
    "# Selections: selecting specific columns or rows, updating data \n",
    "# Label based selections: at[],loc[]\n",
    "# Index based selections: iloc[]\n",
    "# Conditional selections:df[condition]\n"
   ]
  },
  {
   "cell_type": "code",
   "execution_count": 48,
   "id": "5674b293",
   "metadata": {},
   "outputs": [
    {
     "name": "stdout",
     "output_type": "stream",
     "text": [
      "      Pregnancies  Glucose  BloodPressure  SkinThickness  Insulin   BMI  \\\n",
      "Pid                                                                       \n",
      "1001            6      148             72             35    250.0  33.6   \n",
      "1002            1       85             66             29    300.0  26.6   \n",
      "1003            8      183             64              0      NaN  23.3   \n",
      "1004            1       89             66             23     94.0  28.1   \n",
      "1005            0      137             40             35    168.0  43.1   \n",
      "...           ...      ...            ...            ...      ...   ...   \n",
      "1764           10      101             76             48    180.0  32.9   \n",
      "1765            2      122             70             27      0.0  36.8   \n",
      "1766            5      121             72             23    112.0  26.2   \n",
      "1767            1      126             60              0      0.0  30.1   \n",
      "1768            1       93             70             31      0.0  30.4   \n",
      "\n",
      "      DiabetesPedigreeFunction  Age  Outcome  \n",
      "Pid                                           \n",
      "1001                     0.627   50        1  \n",
      "1002                     0.351   31        0  \n",
      "1003                     0.672   32        1  \n",
      "1004                     0.167   21        0  \n",
      "1005                     2.288   33        1  \n",
      "...                        ...  ...      ...  \n",
      "1764                     0.171   63        0  \n",
      "1765                     0.340   27        0  \n",
      "1766                     0.245   30        0  \n",
      "1767                     0.349   47        1  \n",
      "1768                     0.315   23        0  \n",
      "\n",
      "[768 rows x 9 columns]\n",
      "Age of the patient with ID 1004 is: 21\n"
     ]
    }
   ],
   "source": [
    "# Label based selections: at[],loc[]\n",
    "df = pd.read_csv(\"diabetes.csv\", index_col=['Pid']) #default header=0\n",
    "print(df)\n",
    "print(\"Age of the patient with ID 1004 is:\",df.at[1004,'Age']) #takes only one index and one column."
   ]
  },
  {
   "cell_type": "code",
   "execution_count": 49,
   "id": "3ab33b8e",
   "metadata": {},
   "outputs": [
    {
     "name": "stdout",
     "output_type": "stream",
     "text": [
      "      Pregnancies  Glucose  BloodPressure  SkinThickness  Insulin   BMI  \\\n",
      "Pid                                                                       \n",
      "1001            6      148             72             35    250.0  33.6   \n",
      "1002            1       85             66             29    300.0  26.6   \n",
      "1003            8      183             64              0      NaN  23.3   \n",
      "1004            1       89             66             23     94.0  28.1   \n",
      "1005            0      137             40             35    168.0  43.1   \n",
      "...           ...      ...            ...            ...      ...   ...   \n",
      "1764           10      101             76             48    180.0  32.9   \n",
      "1765            2      122             70             27      0.0  36.8   \n",
      "1766            5      121             72             23    112.0  26.2   \n",
      "1767            1      126             60              0      0.0  30.1   \n",
      "1768            1       93             70             31      0.0  30.4   \n",
      "\n",
      "      DiabetesPedigreeFunction  Age  Outcome  \n",
      "Pid                                           \n",
      "1001                     0.627   50        1  \n",
      "1002                     0.351   31        0  \n",
      "1003                     0.672   32        1  \n",
      "1004                     0.167   35        0  \n",
      "1005                     2.288   33        1  \n",
      "...                        ...  ...      ...  \n",
      "1764                     0.171   63        0  \n",
      "1765                     0.340   27        0  \n",
      "1766                     0.245   30        0  \n",
      "1767                     0.349   47        1  \n",
      "1768                     0.315   23        0  \n",
      "\n",
      "[768 rows x 9 columns]\n"
     ]
    }
   ],
   "source": [
    "df.at[1004,'Age']=35\n",
    "print(df)"
   ]
  },
  {
   "cell_type": "code",
   "execution_count": 50,
   "id": "e226cfd2",
   "metadata": {},
   "outputs": [
    {
     "name": "stdout",
     "output_type": "stream",
     "text": [
      "      Pregnancies  Glucose  BloodPressure  SkinThickness  Insulin   BMI  \\\n",
      "Pid                                                                       \n",
      "1001          6.0    148.0           72.0           35.0    250.0  33.6   \n",
      "1002          1.0     85.0           66.0           29.0    300.0  26.6   \n",
      "1003          8.0    183.0           64.0            0.0      NaN  23.3   \n",
      "1004          1.0     89.0           66.0           23.0     94.0  28.1   \n",
      "1005          0.0    137.0           40.0           35.0    168.0  43.1   \n",
      "...           ...      ...            ...            ...      ...   ...   \n",
      "1765          2.0    122.0           70.0           27.0      0.0  36.8   \n",
      "1766          5.0    121.0           72.0           23.0    112.0  26.2   \n",
      "1767          1.0    126.0           60.0            0.0      0.0  30.1   \n",
      "1768          1.0     93.0           70.0           31.0      0.0  30.4   \n",
      "0             NaN      NaN            NaN            NaN      NaN   NaN   \n",
      "\n",
      "      DiabetesPedigreeFunction   Age  Outcome           City  \n",
      "Pid                                                           \n",
      "1001                     0.627  50.0      1.0            NaN  \n",
      "1002                     0.351  31.0      0.0            NaN  \n",
      "1003                     0.672  32.0      1.0            NaN  \n",
      "1004                     0.167  35.0      0.0            NaN  \n",
      "1005                     2.288  33.0      1.0            NaN  \n",
      "...                        ...   ...      ...            ...  \n",
      "1765                     0.340  27.0      0.0            NaN  \n",
      "1766                     0.245  30.0      0.0            NaN  \n",
      "1767                     0.349  47.0      1.0            NaN  \n",
      "1768                     0.315  23.0      0.0            NaN  \n",
      "0                          NaN   NaN      NaN  San Francisco  \n",
      "\n",
      "[769 rows x 10 columns]\n"
     ]
    }
   ],
   "source": [
    "# Adding a new column \n",
    "df.at[0,'City']='San Francisco' \n",
    "print(df)"
   ]
  },
  {
   "cell_type": "code",
   "execution_count": 57,
   "id": "3c1a2ae9",
   "metadata": {},
   "outputs": [
    {
     "name": "stdout",
     "output_type": "stream",
     "text": [
      "      Pregnancies  BloodPressure  Insulin\n",
      "Pid                                      \n",
      "1001          6.0           72.0    250.0\n",
      "1005          0.0           40.0    168.0\n",
      "1003          8.0           64.0      NaN\n"
     ]
    }
   ],
   "source": [
    "# Adding the value for the City column all the rows \n",
    "#df.loc[row index range, list of columns(multiple columns)]\n",
    "\n",
    "df.loc[1001:1005,[\"Pregnancies\",\"BloodPressure\",\"Insulin\"]] #slicing the df\n",
    "print(df.loc[[1001,1005,1003],[\"Pregnancies\",\"BloodPressure\",\"Insulin\"]]) # selecting a few rows"
   ]
  },
  {
   "cell_type": "code",
   "execution_count": 58,
   "id": "d53efbea",
   "metadata": {},
   "outputs": [
    {
     "name": "stdout",
     "output_type": "stream",
     "text": [
      "      Glucose  BloodPressure  SkinThickness\n",
      "Pid                                        \n",
      "1001    148.0           72.0           35.0\n",
      "1002     85.0           66.0           29.0\n",
      "1003    183.0           64.0            0.0\n",
      "1004     89.0           66.0           23.0\n",
      "1005    137.0           40.0           35.0\n",
      "      SkinThickness  Outcome\n",
      "Pid                         \n",
      "1002           29.0      0.0\n",
      "1046           39.0      1.0\n",
      "1064           34.0      0.0\n"
     ]
    }
   ],
   "source": [
    "# iLoc: index based selection(cannot use customized indices)\n",
    "print(df.iloc[0:5,1:4])\n",
    "print(df.iloc[[1,45,63],[3,8]])"
   ]
  },
  {
   "cell_type": "code",
   "execution_count": 56,
   "id": "8c5b1fe5",
   "metadata": {},
   "outputs": [
    {
     "name": "stdout",
     "output_type": "stream",
     "text": [
      "<class 'pandas.core.frame.DataFrame'>\n",
      "Int64Index: 769 entries, 1001 to 0\n",
      "Data columns (total 10 columns):\n",
      " #   Column                    Non-Null Count  Dtype  \n",
      "---  ------                    --------------  -----  \n",
      " 0   Pregnancies               768 non-null    float64\n",
      " 1   Glucose                   768 non-null    float64\n",
      " 2   BloodPressure             768 non-null    float64\n",
      " 3   SkinThickness             768 non-null    float64\n",
      " 4   Insulin                   766 non-null    float64\n",
      " 5   BMI                       768 non-null    float64\n",
      " 6   DiabetesPedigreeFunction  768 non-null    float64\n",
      " 7   Age                       768 non-null    float64\n",
      " 8   Outcome                   768 non-null    float64\n",
      " 9   City                      1 non-null      object \n",
      "dtypes: float64(9), object(1)\n",
      "memory usage: 82.2+ KB\n",
      "None\n"
     ]
    }
   ],
   "source": [
    "print(df.info())"
   ]
  },
  {
   "cell_type": "code",
   "execution_count": 60,
   "id": "dc1f7d9c",
   "metadata": {},
   "outputs": [
    {
     "name": "stdout",
     "output_type": "stream",
     "text": [
      "      Pregnancies  Glucose  BloodPressure  SkinThickness  Insulin   BMI  \\\n",
      "Pid                                                                       \n",
      "1009          2.0    197.0           70.0           45.0    543.0  30.5   \n",
      "1010          8.0    125.0           96.0            0.0      0.0   0.0   \n",
      "1013         10.0    139.0           80.0            0.0      0.0  27.1   \n",
      "1014          1.0    189.0           60.0           23.0    846.0  30.1   \n",
      "1015          5.0    166.0           72.0           19.0    175.0  25.8   \n",
      "...           ...      ...            ...            ...      ...   ...   \n",
      "1720          5.0     97.0           76.0           27.0      0.0  35.6   \n",
      "1735          2.0    105.0           75.0            0.0      0.0  23.3   \n",
      "1758          0.0    123.0           72.0            0.0      0.0  36.3   \n",
      "1760          6.0    190.0           92.0            0.0      0.0  35.5   \n",
      "1764         10.0    101.0           76.0           48.0    180.0  32.9   \n",
      "\n",
      "      DiabetesPedigreeFunction   Age  Outcome City  \n",
      "Pid                                                 \n",
      "1009                     0.158  53.0      1.0  NaN  \n",
      "1010                     0.232  54.0      1.0  NaN  \n",
      "1013                     1.441  57.0      0.0  NaN  \n",
      "1014                     0.398  59.0      1.0  NaN  \n",
      "1015                     0.587  51.0      1.0  NaN  \n",
      "...                        ...   ...      ...  ...  \n",
      "1720                     0.378  52.0      1.0  NaN  \n",
      "1735                     0.560  53.0      0.0  NaN  \n",
      "1758                     0.258  52.0      1.0  NaN  \n",
      "1760                     0.278  66.0      1.0  NaN  \n",
      "1764                     0.171  63.0      0.0  NaN  \n",
      "\n",
      "[81 rows x 10 columns]\n"
     ]
    }
   ],
   "source": [
    "# Conditional Selections\n",
    "\n",
    "\n",
    "# To get people older than 50\n",
    "df_new=df[df['Age']>50]\n",
    "print(df_new)"
   ]
  },
  {
   "cell_type": "code",
   "execution_count": 61,
   "id": "235d0647",
   "metadata": {},
   "outputs": [
    {
     "name": "stdout",
     "output_type": "stream",
     "text": [
      "      Pregnancies  Glucose  BloodPressure  SkinThickness  Insulin   BMI  \\\n",
      "Pid                                                                       \n",
      "1010          8.0    125.0           96.0            0.0      0.0   0.0   \n",
      "1025         11.0    143.0           94.0           33.0    146.0  36.6   \n",
      "1044          9.0    171.0          110.0           24.0    240.0  45.4   \n",
      "1068          2.0    109.0           92.0            0.0      0.0  42.7   \n",
      "1116          4.0    146.0           92.0            0.0      0.0  31.2   \n",
      "1208          5.0    162.0          104.0            0.0      0.0  37.7   \n",
      "1213          7.0    179.0           95.0           31.0      0.0  34.2   \n",
      "1363          5.0    103.0          108.0           37.0      0.0  39.2   \n",
      "1659         11.0    127.0          106.0            0.0      0.0  39.0   \n",
      "1760          6.0    190.0           92.0            0.0      0.0  35.5   \n",
      "\n",
      "      DiabetesPedigreeFunction   Age  Outcome City  \n",
      "Pid                                                 \n",
      "1010                     0.232  54.0      1.0  NaN  \n",
      "1025                     0.254  51.0      1.0  NaN  \n",
      "1044                     0.721  54.0      1.0  NaN  \n",
      "1068                     0.845  54.0      0.0  NaN  \n",
      "1116                     0.539  61.0      1.0  NaN  \n",
      "1208                     0.151  52.0      1.0  NaN  \n",
      "1213                     0.164  60.0      0.0  NaN  \n",
      "1363                     0.305  65.0      0.0  NaN  \n",
      "1659                     0.190  51.0      0.0  NaN  \n",
      "1760                     0.278  66.0      1.0  NaN  \n"
     ]
    }
   ],
   "source": [
    "# Adding more conditions\n",
    "\n",
    "df_new=df[(df['Age']>50) & (df['BloodPressure']>90)]\n",
    "print(df_new)"
   ]
  },
  {
   "cell_type": "code",
   "execution_count": 62,
   "id": "8ee9c1c5",
   "metadata": {},
   "outputs": [
    {
     "name": "stdout",
     "output_type": "stream",
     "text": [
      "      Pregnancies  Glucose  BloodPressure  SkinThickness  Insulin   BMI  \\\n",
      "Pid                                                                       \n",
      "1009          2.0    197.0           70.0           45.0    543.0  30.5   \n",
      "1010          8.0    125.0           96.0            0.0      0.0   0.0   \n",
      "1011          4.0    110.0           92.0            0.0      0.0  37.6   \n",
      "1013         10.0    139.0           80.0            0.0      0.0  27.1   \n",
      "1014          1.0    189.0           60.0           23.0    846.0  30.1   \n",
      "...           ...      ...            ...            ...      ...   ...   \n",
      "1744          9.0    140.0           94.0            0.0      0.0  32.7   \n",
      "1747          1.0    147.0           94.0           41.0      0.0  49.3   \n",
      "1758          0.0    123.0           72.0            0.0      0.0  36.3   \n",
      "1760          6.0    190.0           92.0            0.0      0.0  35.5   \n",
      "1764         10.0    101.0           76.0           48.0    180.0  32.9   \n",
      "\n",
      "      DiabetesPedigreeFunction   Age  Outcome City  \n",
      "Pid                                                 \n",
      "1009                     0.158  53.0      1.0  NaN  \n",
      "1010                     0.232  54.0      1.0  NaN  \n",
      "1011                     0.191  30.0      0.0  NaN  \n",
      "1013                     1.441  57.0      0.0  NaN  \n",
      "1014                     0.398  59.0      1.0  NaN  \n",
      "...                        ...   ...      ...  ...  \n",
      "1744                     0.734  45.0      1.0  NaN  \n",
      "1747                     0.358  27.0      1.0  NaN  \n",
      "1758                     0.258  52.0      1.0  NaN  \n",
      "1760                     0.278  66.0      1.0  NaN  \n",
      "1764                     0.171  63.0      0.0  NaN  \n",
      "\n",
      "[109 rows x 10 columns]\n"
     ]
    }
   ],
   "source": [
    "df_new=df[(df['Age']>50) | (df['BloodPressure']>90)]\n",
    "print(df_new)"
   ]
  },
  {
   "cell_type": "code",
   "execution_count": 64,
   "id": "5a419e45",
   "metadata": {},
   "outputs": [
    {
     "name": "stdout",
     "output_type": "stream",
     "text": [
      "      Pregnancies  Glucose  BloodPressure  SkinThickness  Insulin   BMI  \\\n",
      "Pid                                                                       \n",
      "1141          3.0    128.0           78.0            0.0      0.0  21.1   \n",
      "\n",
      "      DiabetesPedigreeFunction   Age  Outcome City  \n",
      "Pid                                                 \n",
      "1141                     0.268  55.0      0.0  NaN  \n"
     ]
    }
   ],
   "source": [
    "# Random Selection\n",
    "print(df.sample())"
   ]
  },
  {
   "cell_type": "code",
   "execution_count": 65,
   "id": "7bc81f11",
   "metadata": {},
   "outputs": [
    {
     "name": "stdout",
     "output_type": "stream",
     "text": [
      "      Pregnancies  Glucose  BloodPressure  SkinThickness  Insulin   BMI  \\\n",
      "Pid                                                                       \n",
      "1626          4.0     90.0           88.0           47.0     54.0  37.7   \n",
      "1690          1.0    144.0           82.0           46.0    180.0  46.1   \n",
      "1751          4.0    136.0           70.0            0.0      0.0  31.2   \n",
      "1426          4.0    184.0           78.0           39.0    277.0  37.0   \n",
      "1131          4.0    173.0           70.0           14.0    168.0  29.7   \n",
      "\n",
      "      DiabetesPedigreeFunction   Age  Outcome City  \n",
      "Pid                                                 \n",
      "1626                     0.362  29.0      0.0  NaN  \n",
      "1690                     0.335  46.0      1.0  NaN  \n",
      "1751                     1.182  22.0      1.0  NaN  \n",
      "1426                     0.264  31.0      1.0  NaN  \n",
      "1131                     0.361  33.0      1.0  NaN  \n"
     ]
    }
   ],
   "source": [
    "# Random Selections\n",
    "print(df.sample(5))"
   ]
  },
  {
   "cell_type": "code",
   "execution_count": 67,
   "id": "69ff8f54",
   "metadata": {},
   "outputs": [
    {
     "name": "stdout",
     "output_type": "stream",
     "text": [
      "      Pregnancies  Glucose  BloodPressure  SkinThickness  Insulin   BMI  \\\n",
      "Pid                                                                       \n",
      "1001          6.0    148.0           72.0           35.0    250.0  33.6   \n",
      "1002          1.0     85.0           66.0           29.0    300.0  26.6   \n",
      "1003          8.0    183.0           64.0            0.0      NaN  23.3   \n",
      "1004          1.0     89.0           66.0           23.0     94.0  28.1   \n",
      "1005          0.0    137.0           40.0           35.0    168.0  43.1   \n",
      "...           ...      ...            ...            ...      ...   ...   \n",
      "1765          2.0    122.0           70.0           27.0      0.0  36.8   \n",
      "1766          5.0    121.0           72.0           23.0    112.0  26.2   \n",
      "1767          1.0    126.0           60.0            0.0      0.0  30.1   \n",
      "1768          1.0     93.0           70.0           31.0      0.0  30.4   \n",
      "0             NaN      NaN            NaN            NaN      NaN   NaN   \n",
      "\n",
      "      DiabetesPedigreeFunction   Age  Outcome           City  \n",
      "Pid                                                           \n",
      "1001                     0.627  50.0      1.0            NaN  \n",
      "1002                     0.351  31.0      0.0            NaN  \n",
      "1003                     0.672  32.0      1.0            NaN  \n",
      "1004                     0.167  35.0      0.0            NaN  \n",
      "1005                     2.288  33.0      1.0            NaN  \n",
      "...                        ...   ...      ...            ...  \n",
      "1765                     0.340  27.0      0.0            NaN  \n",
      "1766                     0.245  30.0      0.0            NaN  \n",
      "1767                     0.349  47.0      1.0            NaN  \n",
      "1768                     0.315  23.0      0.0            NaN  \n",
      "0                          NaN   NaN      NaN  San Francisco  \n",
      "\n",
      "[769 rows x 10 columns]\n",
      "      Pregnancies  Glucose  BloodPressure  SkinThickness  Insulin   BMI  \\\n",
      "Pid                                                                       \n",
      "1001          6.0    148.0           72.0           35.0    250.0  33.6   \n",
      "1002          1.0     85.0           66.0           29.0    300.0  26.6   \n",
      "1003          8.0    183.0           64.0            0.0      NaN  23.3   \n",
      "1004          1.0     89.0           66.0           23.0     94.0  28.1   \n",
      "1005          0.0    137.0           40.0           35.0    168.0  43.1   \n",
      "...           ...      ...            ...            ...      ...   ...   \n",
      "1765          2.0    122.0           70.0           27.0      0.0  36.8   \n",
      "1766          5.0    121.0           72.0           23.0    112.0  26.2   \n",
      "1767          1.0    126.0           60.0            0.0      0.0  30.1   \n",
      "1768          1.0     93.0           70.0           31.0      0.0  30.4   \n",
      "0             NaN      NaN            NaN            NaN      NaN   NaN   \n",
      "\n",
      "      DiabetesPedigreeFunction   Age  Outcome  \n",
      "Pid                                            \n",
      "1001                     0.627  50.0      1.0  \n",
      "1002                     0.351  31.0      0.0  \n",
      "1003                     0.672  32.0      1.0  \n",
      "1004                     0.167  35.0      0.0  \n",
      "1005                     2.288  33.0      1.0  \n",
      "...                        ...   ...      ...  \n",
      "1765                     0.340  27.0      0.0  \n",
      "1766                     0.245  30.0      0.0  \n",
      "1767                     0.349  47.0      1.0  \n",
      "1768                     0.315  23.0      0.0  \n",
      "0                          NaN   NaN      NaN  \n",
      "\n",
      "[769 rows x 9 columns]\n"
     ]
    }
   ],
   "source": [
    "# Dropping columns and rows: drop() \n",
    "# To delete column: axis=1\n",
    "# To drop a row: axis=0\n",
    "\n",
    "df.drop(['City'],axis=1)\n",
    "print(df)\n",
    "\n",
    "\n",
    "updated_df = df.drop(['City'],axis=1) #storing the deleted version a new variable to protect the original df\n",
    "print(updated_df)"
   ]
  },
  {
   "cell_type": "code",
   "execution_count": 68,
   "id": "935b4f6a",
   "metadata": {},
   "outputs": [
    {
     "name": "stdout",
     "output_type": "stream",
     "text": [
      "      Pregnancies  Glucose  BloodPressure  SkinThickness  Insulin   BMI  \\\n",
      "Pid                                                                       \n",
      "1001          6.0    148.0           72.0           35.0    250.0  33.6   \n",
      "1002          1.0     85.0           66.0           29.0    300.0  26.6   \n",
      "1003          8.0    183.0           64.0            0.0      NaN  23.3   \n",
      "1004          1.0     89.0           66.0           23.0     94.0  28.1   \n",
      "1005          0.0    137.0           40.0           35.0    168.0  43.1   \n",
      "...           ...      ...            ...            ...      ...   ...   \n",
      "1765          2.0    122.0           70.0           27.0      0.0  36.8   \n",
      "1766          5.0    121.0           72.0           23.0    112.0  26.2   \n",
      "1767          1.0    126.0           60.0            0.0      0.0  30.1   \n",
      "1768          1.0     93.0           70.0           31.0      0.0  30.4   \n",
      "0             NaN      NaN            NaN            NaN      NaN   NaN   \n",
      "\n",
      "      DiabetesPedigreeFunction   Age  Outcome  \n",
      "Pid                                            \n",
      "1001                     0.627  50.0      1.0  \n",
      "1002                     0.351  31.0      0.0  \n",
      "1003                     0.672  32.0      1.0  \n",
      "1004                     0.167  35.0      0.0  \n",
      "1005                     2.288  33.0      1.0  \n",
      "...                        ...   ...      ...  \n",
      "1765                     0.340  27.0      0.0  \n",
      "1766                     0.245  30.0      0.0  \n",
      "1767                     0.349  47.0      1.0  \n",
      "1768                     0.315  23.0      0.0  \n",
      "0                          NaN   NaN      NaN  \n",
      "\n",
      "[769 rows x 9 columns]\n"
     ]
    }
   ],
   "source": [
    "df.drop(['City'],axis=1,inplace=True) #inplace is used to make the deletion permanent\n",
    "print(df)"
   ]
  },
  {
   "cell_type": "code",
   "execution_count": 69,
   "id": "9a244882",
   "metadata": {},
   "outputs": [
    {
     "name": "stdout",
     "output_type": "stream",
     "text": [
      "      Pregnancies  Glucose  BloodPressure  SkinThickness  Insulin   BMI  \\\n",
      "Pid                                                                       \n",
      "1002          1.0     85.0           66.0           29.0    300.0  26.6   \n",
      "1003          8.0    183.0           64.0            0.0      NaN  23.3   \n",
      "1004          1.0     89.0           66.0           23.0     94.0  28.1   \n",
      "1005          0.0    137.0           40.0           35.0    168.0  43.1   \n",
      "1006          5.0    116.0           74.0            0.0      NaN  25.6   \n",
      "...           ...      ...            ...            ...      ...   ...   \n",
      "1765          2.0    122.0           70.0           27.0      0.0  36.8   \n",
      "1766          5.0    121.0           72.0           23.0    112.0  26.2   \n",
      "1767          1.0    126.0           60.0            0.0      0.0  30.1   \n",
      "1768          1.0     93.0           70.0           31.0      0.0  30.4   \n",
      "0             NaN      NaN            NaN            NaN      NaN   NaN   \n",
      "\n",
      "      DiabetesPedigreeFunction   Age  Outcome  \n",
      "Pid                                            \n",
      "1002                     0.351  31.0      0.0  \n",
      "1003                     0.672  32.0      1.0  \n",
      "1004                     0.167  35.0      0.0  \n",
      "1005                     2.288  33.0      1.0  \n",
      "1006                     0.201  30.0      0.0  \n",
      "...                        ...   ...      ...  \n",
      "1765                     0.340  27.0      0.0  \n",
      "1766                     0.245  30.0      0.0  \n",
      "1767                     0.349  47.0      1.0  \n",
      "1768                     0.315  23.0      0.0  \n",
      "0                          NaN   NaN      NaN  \n",
      "\n",
      "[768 rows x 9 columns]\n"
     ]
    }
   ],
   "source": [
    "# Dropping a row\n",
    "df.drop([1001],axis=0,inplace=True)\n",
    "print(df)"
   ]
  },
  {
   "cell_type": "code",
   "execution_count": 72,
   "id": "f88f08b5",
   "metadata": {},
   "outputs": [
    {
     "name": "stdout",
     "output_type": "stream",
     "text": [
      "      Pregnancies  Glucose  BloodPressure  SkinThickness  Insulin   BMI  \\\n",
      "Pid                                                                       \n",
      "1460          9.0    134.0           74.0           33.0     60.0  25.9   \n",
      "1454          2.0    119.0            0.0            0.0      0.0  19.6   \n",
      "1667          4.0    145.0           82.0           18.0      0.0  32.5   \n",
      "1685          5.0    136.0           82.0            0.0      0.0   0.0   \n",
      "1124          5.0    132.0           80.0            0.0      0.0  26.8   \n",
      "...           ...      ...            ...            ...      ...   ...   \n",
      "1383          1.0    109.0           60.0            8.0    182.0  25.4   \n",
      "1393          1.0    131.0           64.0           14.0    415.0  23.7   \n",
      "1146          0.0    102.0           75.0           23.0      0.0   0.0   \n",
      "1274          1.0     71.0           78.0           50.0     45.0  33.2   \n",
      "0             NaN      NaN            NaN            NaN      NaN   NaN   \n",
      "\n",
      "      DiabetesPedigreeFunction   Age  Outcome  \n",
      "Pid                                            \n",
      "1460                     0.460  81.0      0.0  \n",
      "1454                     0.832  72.0      0.0  \n",
      "1667                     0.235  70.0      1.0  \n",
      "1685                     0.640  69.0      0.0  \n",
      "1124                     0.186  69.0      0.0  \n",
      "...                        ...   ...      ...  \n",
      "1383                     0.947  21.0      0.0  \n",
      "1393                     0.389  21.0      0.0  \n",
      "1146                     0.572  21.0      0.0  \n",
      "1274                     0.422  21.0      0.0  \n",
      "0                          NaN   NaN      NaN  \n",
      "\n",
      "[768 rows x 9 columns]\n"
     ]
    }
   ],
   "source": [
    "# Sorting Records\n",
    "\n",
    "print(df.sort_values(by=['Age'],ascending=False)) # default asc"
   ]
  },
  {
   "cell_type": "code",
   "execution_count": 73,
   "id": "600ff0ad",
   "metadata": {},
   "outputs": [
    {
     "name": "stdout",
     "output_type": "stream",
     "text": [
      "      Pregnancies  Glucose  BloodPressure  SkinThickness  Insulin   BMI  \\\n",
      "Pid                                                                       \n",
      "1662          1.0    199.0           76.0           43.0      0.0  42.9   \n",
      "1562          0.0    198.0           66.0           32.0    274.0  41.3   \n",
      "1409          8.0    197.0           74.0            0.0      0.0  25.9   \n",
      "1009          2.0    197.0           70.0           45.0    543.0  30.5   \n",
      "1229          4.0    197.0           70.0           39.0    744.0  36.7   \n",
      "...           ...      ...            ...            ...      ...   ...   \n",
      "1183          1.0      0.0           74.0           20.0     23.0  27.7   \n",
      "1343          1.0      0.0           68.0           35.0      0.0  32.0   \n",
      "1503          6.0      0.0           68.0           41.0      0.0  39.0   \n",
      "1076          1.0      0.0           48.0           20.0      0.0  24.7   \n",
      "0             NaN      NaN            NaN            NaN      NaN   NaN   \n",
      "\n",
      "      DiabetesPedigreeFunction   Age  Outcome  \n",
      "Pid                                            \n",
      "1662                     1.394  22.0      1.0  \n",
      "1562                     0.502  28.0      1.0  \n",
      "1409                     1.191  39.0      1.0  \n",
      "1009                     0.158  53.0      1.0  \n",
      "1229                     2.329  31.0      0.0  \n",
      "...                        ...   ...      ...  \n",
      "1183                     0.299  21.0      0.0  \n",
      "1343                     0.389  22.0      0.0  \n",
      "1503                     0.727  41.0      1.0  \n",
      "1076                     0.140  22.0      0.0  \n",
      "0                          NaN   NaN      NaN  \n",
      "\n",
      "[768 rows x 9 columns]\n"
     ]
    }
   ],
   "source": [
    "print(df.sort_values(by=['Glucose','BloodPressure'],ascending=False))"
   ]
  },
  {
   "cell_type": "code",
   "execution_count": null,
   "id": "58d5d0b1",
   "metadata": {},
   "outputs": [],
   "source": []
  }
 ],
 "metadata": {
  "kernelspec": {
   "display_name": "Python 3 (ipykernel)",
   "language": "python",
   "name": "python3"
  },
  "language_info": {
   "codemirror_mode": {
    "name": "ipython",
    "version": 3
   },
   "file_extension": ".py",
   "mimetype": "text/x-python",
   "name": "python",
   "nbconvert_exporter": "python",
   "pygments_lexer": "ipython3",
   "version": "3.9.7"
  }
 },
 "nbformat": 4,
 "nbformat_minor": 5
}
