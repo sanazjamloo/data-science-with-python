{
 "cells": [
  {
   "cell_type": "code",
   "execution_count": 6,
   "id": "06318289",
   "metadata": {},
   "outputs": [
    {
     "name": "stdout",
     "output_type": "stream",
     "text": [
      "{'Emp_name': ['Amit', 'John', 'Tina', 'Amy'], 'Emp_salary': [45000, 56000, 78200, 96300]}\n",
      "  Emp_name  Emp_salary\n",
      "0     Amit       45000\n",
      "1     John       56000\n",
      "2     Tina       78200\n",
      "3      Amy       96300\n",
      "<class 'pandas.core.frame.DataFrame'>\n"
     ]
    }
   ],
   "source": [
    "# Creating DataFrames for a tabular dataset\n",
    "\n",
    "import pandas as pd\n",
    "\n",
    "raw_data = {\n",
    "    \"Emp_name\":['Amit','John','Tina','Amy'],\n",
    "    \"Emp_salary\": [45000,56000,78200,96300]\n",
    "}\n",
    "print(raw_data)\n",
    "\n",
    "# Converting a dictionary to a tabular dataset\n",
    "df_emp = pd.DataFrame(raw_data)\n",
    "print(df_emp)\n",
    "print(type(df_emp))"
   ]
  },
  {
   "cell_type": "code",
   "execution_count": null,
   "id": "f1c4c3c6",
   "metadata": {},
   "outputs": [],
   "source": [
    "# Import and export data\n",
    "# Import file---> DF\n",
    "# Export DF---> file\n",
    "# File Types supported by pandas: csv, excel, json, HTML, SQL queries.\n",
    "\n",
    "# Import functions: read_csv(), read_excel(), read_json()\n",
    "# Export functions: to_csv(), to_excel(), to_json()\n"
   ]
  },
  {
   "cell_type": "code",
   "execution_count": 9,
   "id": "5fa00e23",
   "metadata": {},
   "outputs": [
    {
     "name": "stdout",
     "output_type": "stream",
     "text": [
      "  Emp_name  Emp_salary\n",
      "0     Amit       45000\n",
      "1     John       56000\n",
      "2     Tina       78200\n",
      "3      Amy       96300\n"
     ]
    }
   ],
   "source": [
    "# Export\n",
    "\n",
    "print(df_emp)\n",
    "df_emp.to_csv(\"example.csv\")"
   ]
  },
  {
   "cell_type": "code",
   "execution_count": 10,
   "id": "38de34df",
   "metadata": {},
   "outputs": [],
   "source": [
    "df_emp.to_excel('example.xlsx')\n",
    "df_emp.to_json('example.js')"
   ]
  },
  {
   "cell_type": "code",
   "execution_count": 12,
   "id": "a71d4315",
   "metadata": {},
   "outputs": [
    {
     "name": "stdout",
     "output_type": "stream",
     "text": [
      "             ID                 Name      Date  Time Event Status Latitude  \\\n",
      "0      EP011949              UNNAMED  19490611     0           TS    20.2N   \n",
      "1      EP011949              UNNAMED  19490611   600           TS    20.2N   \n",
      "2      EP011949              UNNAMED  19490611  1200           TS    20.2N   \n",
      "3      EP011949              UNNAMED  19490611  1800           TS    20.3N   \n",
      "4      EP011949              UNNAMED  19490612     0           TS    20.4N   \n",
      "...         ...                  ...       ...   ...   ...    ...      ...   \n",
      "26132  EP222015               SANDRA  20151128  1200           LO    21.7N   \n",
      "26133  EP222015               SANDRA  20151128  1800           LO    22.4N   \n",
      "26134  EP222015               SANDRA  20151129     0           LO    23.1N   \n",
      "26135  EP222015               SANDRA  20151129   600           LO    23.5N   \n",
      "26136  EP222015               SANDRA  20151129  1200           LO    24.2N   \n",
      "\n",
      "      Longitude  Maximum Wind  Minimum Pressure  ...  Low Wind SW  \\\n",
      "0        106.3W            45              -999  ...         -999   \n",
      "1        106.4W            45              -999  ...         -999   \n",
      "2        106.7W            45              -999  ...         -999   \n",
      "3        107.7W            45              -999  ...         -999   \n",
      "4        108.6W            45              -999  ...         -999   \n",
      "...         ...           ...               ...  ...          ...   \n",
      "26132    109.0W            35              1002  ...            0   \n",
      "26133    108.7W            30              1007  ...            0   \n",
      "26134    108.3W            30              1008  ...            0   \n",
      "26135    107.9W            25              1009  ...            0   \n",
      "26136    107.7W            20              1010  ...            0   \n",
      "\n",
      "       Low Wind NW  Moderate Wind NE  Moderate Wind SE  Moderate Wind SW  \\\n",
      "0             -999              -999              -999              -999   \n",
      "1             -999              -999              -999              -999   \n",
      "2             -999              -999              -999              -999   \n",
      "3             -999              -999              -999              -999   \n",
      "4             -999              -999              -999              -999   \n",
      "...            ...               ...               ...               ...   \n",
      "26132            0                 0                 0                 0   \n",
      "26133            0                 0                 0                 0   \n",
      "26134            0                 0                 0                 0   \n",
      "26135            0                 0                 0                 0   \n",
      "26136            0                 0                 0                 0   \n",
      "\n",
      "       Moderate Wind NW  High Wind NE  High Wind SE  High Wind SW  \\\n",
      "0                  -999          -999          -999          -999   \n",
      "1                  -999          -999          -999          -999   \n",
      "2                  -999          -999          -999          -999   \n",
      "3                  -999          -999          -999          -999   \n",
      "4                  -999          -999          -999          -999   \n",
      "...                 ...           ...           ...           ...   \n",
      "26132                 0             0             0             0   \n",
      "26133                 0             0             0             0   \n",
      "26134                 0             0             0             0   \n",
      "26135                 0             0             0             0   \n",
      "26136                 0             0             0             0   \n",
      "\n",
      "       High Wind NW  \n",
      "0              -999  \n",
      "1              -999  \n",
      "2              -999  \n",
      "3              -999  \n",
      "4              -999  \n",
      "...             ...  \n",
      "26132             0  \n",
      "26133             0  \n",
      "26134             0  \n",
      "26135             0  \n",
      "26136             0  \n",
      "\n",
      "[26137 rows x 22 columns]\n"
     ]
    }
   ],
   "source": [
    "# Reading Data (import)\n",
    "\n",
    "df = pd.read_csv(\"pacific.csv\")\n",
    "print(df)\n"
   ]
  },
  {
   "cell_type": "code",
   "execution_count": 13,
   "id": "6e55c684",
   "metadata": {},
   "outputs": [
    {
     "name": "stdout",
     "output_type": "stream",
     "text": [
      "             0                    1         2     3      4       5         6   \\\n",
      "0            ID                 Name      Date  Time  Event  Status  Latitude   \n",
      "1      EP011949              UNNAMED  19490611     0             TS     20.2N   \n",
      "2      EP011949              UNNAMED  19490611   600             TS     20.2N   \n",
      "3      EP011949              UNNAMED  19490611  1200             TS     20.2N   \n",
      "4      EP011949              UNNAMED  19490611  1800             TS     20.3N   \n",
      "...         ...                  ...       ...   ...    ...     ...       ...   \n",
      "26133  EP222015               SANDRA  20151128  1200             LO     21.7N   \n",
      "26134  EP222015               SANDRA  20151128  1800             LO     22.4N   \n",
      "26135  EP222015               SANDRA  20151129     0             LO     23.1N   \n",
      "26136  EP222015               SANDRA  20151129   600             LO     23.5N   \n",
      "26137  EP222015               SANDRA  20151129  1200             LO     24.2N   \n",
      "\n",
      "              7             8                 9   ...           12  \\\n",
      "0      Longitude  Maximum Wind  Minimum Pressure  ...  Low Wind SW   \n",
      "1         106.3W            45              -999  ...         -999   \n",
      "2         106.4W            45              -999  ...         -999   \n",
      "3         106.7W            45              -999  ...         -999   \n",
      "4         107.7W            45              -999  ...         -999   \n",
      "...          ...           ...               ...  ...          ...   \n",
      "26133     109.0W            35              1002  ...            0   \n",
      "26134     108.7W            30              1007  ...            0   \n",
      "26135     108.3W            30              1008  ...            0   \n",
      "26136     107.9W            25              1009  ...            0   \n",
      "26137     107.7W            20              1010  ...            0   \n",
      "\n",
      "                13                14                15                16  \\\n",
      "0      Low Wind NW  Moderate Wind NE  Moderate Wind SE  Moderate Wind SW   \n",
      "1             -999              -999              -999              -999   \n",
      "2             -999              -999              -999              -999   \n",
      "3             -999              -999              -999              -999   \n",
      "4             -999              -999              -999              -999   \n",
      "...            ...               ...               ...               ...   \n",
      "26133            0                 0                 0                 0   \n",
      "26134            0                 0                 0                 0   \n",
      "26135            0                 0                 0                 0   \n",
      "26136            0                 0                 0                 0   \n",
      "26137            0                 0                 0                 0   \n",
      "\n",
      "                     17            18            19            20  \\\n",
      "0      Moderate Wind NW  High Wind NE  High Wind SE  High Wind SW   \n",
      "1                  -999          -999          -999          -999   \n",
      "2                  -999          -999          -999          -999   \n",
      "3                  -999          -999          -999          -999   \n",
      "4                  -999          -999          -999          -999   \n",
      "...                 ...           ...           ...           ...   \n",
      "26133                 0             0             0             0   \n",
      "26134                 0             0             0             0   \n",
      "26135                 0             0             0             0   \n",
      "26136                 0             0             0             0   \n",
      "26137                 0             0             0             0   \n",
      "\n",
      "                 21  \n",
      "0      High Wind NW  \n",
      "1              -999  \n",
      "2              -999  \n",
      "3              -999  \n",
      "4              -999  \n",
      "...             ...  \n",
      "26133             0  \n",
      "26134             0  \n",
      "26135             0  \n",
      "26136             0  \n",
      "26137             0  \n",
      "\n",
      "[26138 rows x 22 columns]\n"
     ]
    }
   ],
   "source": [
    "# Header\n",
    "df = pd.read_csv(\"pacific.csv\", header=None) #default header=0\n",
    "print(df)"
   ]
  },
  {
   "cell_type": "code",
   "execution_count": 22,
   "id": "9b2f1413",
   "metadata": {},
   "outputs": [],
   "source": [
    "#Index Column (customize index column)---> diabetes file\n",
    "#df = pd.read_csv(\"pacific.csv\", index_col=['id','name'])\n",
    "#print(df)\n"
   ]
  },
  {
   "cell_type": "code",
   "execution_count": null,
   "id": "334cd884",
   "metadata": {},
   "outputs": [],
   "source": [
    "# Selections: selecting specific columns or rows, updating data \n",
    "# Label based selections: at[],loc[]\n",
    "# Index based selections: iloc[]\n",
    "# Conditional selections:df[condition]\n"
   ]
  },
  {
   "cell_type": "code",
   "execution_count": 23,
   "id": "9278b695",
   "metadata": {},
   "outputs": [
    {
     "name": "stdout",
     "output_type": "stream",
     "text": [
      "             0                    1         2     3      4       5         6   \\\n",
      "0            ID                 Name      Date  Time  Event  Status  Latitude   \n",
      "1      EP011949              UNNAMED  19490611     0             TS     20.2N   \n",
      "2      EP011949              UNNAMED  19490611   600             TS     20.2N   \n",
      "3      EP011949              UNNAMED  19490611  1200             TS     20.2N   \n",
      "4      EP011949              UNNAMED  19490611  1800             TS     20.3N   \n",
      "...         ...                  ...       ...   ...    ...     ...       ...   \n",
      "26133  EP222015               SANDRA  20151128  1200             LO     21.7N   \n",
      "26134  EP222015               SANDRA  20151128  1800             LO     22.4N   \n",
      "26135  EP222015               SANDRA  20151129     0             LO     23.1N   \n",
      "26136  EP222015               SANDRA  20151129   600             LO     23.5N   \n",
      "26137  EP222015               SANDRA  20151129  1200             LO     24.2N   \n",
      "\n",
      "              7             8                 9   ...           12  \\\n",
      "0      Longitude  Maximum Wind  Minimum Pressure  ...  Low Wind SW   \n",
      "1         106.3W            45              -999  ...         -999   \n",
      "2         106.4W            45              -999  ...         -999   \n",
      "3         106.7W            45              -999  ...         -999   \n",
      "4         107.7W            45              -999  ...         -999   \n",
      "...          ...           ...               ...  ...          ...   \n",
      "26133     109.0W            35              1002  ...            0   \n",
      "26134     108.7W            30              1007  ...            0   \n",
      "26135     108.3W            30              1008  ...            0   \n",
      "26136     107.9W            25              1009  ...            0   \n",
      "26137     107.7W            20              1010  ...            0   \n",
      "\n",
      "                13                14                15                16  \\\n",
      "0      Low Wind NW  Moderate Wind NE  Moderate Wind SE  Moderate Wind SW   \n",
      "1             -999              -999              -999              -999   \n",
      "2             -999              -999              -999              -999   \n",
      "3             -999              -999              -999              -999   \n",
      "4             -999              -999              -999              -999   \n",
      "...            ...               ...               ...               ...   \n",
      "26133            0                 0                 0                 0   \n",
      "26134            0                 0                 0                 0   \n",
      "26135            0                 0                 0                 0   \n",
      "26136            0                 0                 0                 0   \n",
      "26137            0                 0                 0                 0   \n",
      "\n",
      "                     17            18            19            20  \\\n",
      "0      Moderate Wind NW  High Wind NE  High Wind SE  High Wind SW   \n",
      "1                  -999          -999          -999          -999   \n",
      "2                  -999          -999          -999          -999   \n",
      "3                  -999          -999          -999          -999   \n",
      "4                  -999          -999          -999          -999   \n",
      "...                 ...           ...           ...           ...   \n",
      "26133                 0             0             0             0   \n",
      "26134                 0             0             0             0   \n",
      "26135                 0             0             0             0   \n",
      "26136                 0             0             0             0   \n",
      "26137                 0             0             0             0   \n",
      "\n",
      "                 21  \n",
      "0      High Wind NW  \n",
      "1              -999  \n",
      "2              -999  \n",
      "3              -999  \n",
      "4              -999  \n",
      "...             ...  \n",
      "26133             0  \n",
      "26134             0  \n",
      "26135             0  \n",
      "26136             0  \n",
      "26137             0  \n",
      "\n",
      "[26138 rows x 22 columns]\n"
     ]
    }
   ],
   "source": [
    "# Label based selections: at[],loc[]\n",
    "df = pd.read_csv(\"pacific.csv\", header=None) #default header=0\n",
    "print(df)\n"
   ]
  },
  {
   "cell_type": "code",
   "execution_count": 26,
   "id": "9a54300d",
   "metadata": {},
   "outputs": [
    {
     "ename": "KeyError",
     "evalue": "'Name'",
     "output_type": "error",
     "traceback": [
      "\u001b[0;31m---------------------------------------------------------------------------\u001b[0m",
      "\u001b[0;31mKeyError\u001b[0m                                  Traceback (most recent call last)",
      "\u001b[0;32m~/opt/anaconda3/lib/python3.9/site-packages/pandas/core/indexes/base.py\u001b[0m in \u001b[0;36mget_loc\u001b[0;34m(self, key, method, tolerance)\u001b[0m\n\u001b[1;32m   3360\u001b[0m             \u001b[0;32mtry\u001b[0m\u001b[0;34m:\u001b[0m\u001b[0;34m\u001b[0m\u001b[0;34m\u001b[0m\u001b[0m\n\u001b[0;32m-> 3361\u001b[0;31m                 \u001b[0;32mreturn\u001b[0m \u001b[0mself\u001b[0m\u001b[0;34m.\u001b[0m\u001b[0m_engine\u001b[0m\u001b[0;34m.\u001b[0m\u001b[0mget_loc\u001b[0m\u001b[0;34m(\u001b[0m\u001b[0mcasted_key\u001b[0m\u001b[0;34m)\u001b[0m\u001b[0;34m\u001b[0m\u001b[0;34m\u001b[0m\u001b[0m\n\u001b[0m\u001b[1;32m   3362\u001b[0m             \u001b[0;32mexcept\u001b[0m \u001b[0mKeyError\u001b[0m \u001b[0;32mas\u001b[0m \u001b[0merr\u001b[0m\u001b[0;34m:\u001b[0m\u001b[0;34m\u001b[0m\u001b[0;34m\u001b[0m\u001b[0m\n",
      "\u001b[0;32m~/opt/anaconda3/lib/python3.9/site-packages/pandas/_libs/index.pyx\u001b[0m in \u001b[0;36mpandas._libs.index.IndexEngine.get_loc\u001b[0;34m()\u001b[0m\n",
      "\u001b[0;32mpandas/_libs/index_class_helper.pxi\u001b[0m in \u001b[0;36mpandas._libs.index.Int64Engine._check_type\u001b[0;34m()\u001b[0m\n",
      "\u001b[0;32mpandas/_libs/index_class_helper.pxi\u001b[0m in \u001b[0;36mpandas._libs.index.Int64Engine._check_type\u001b[0;34m()\u001b[0m\n",
      "\u001b[0;31mKeyError\u001b[0m: 'Name'",
      "\nThe above exception was the direct cause of the following exception:\n",
      "\u001b[0;31mKeyError\u001b[0m                                  Traceback (most recent call last)",
      "\u001b[0;32m/var/folders/32/3mlyxgs95z78k4fjtv38hkvw0000gn/T/ipykernel_41462/3025006529.py\u001b[0m in \u001b[0;36m<module>\u001b[0;34m\u001b[0m\n\u001b[0;32m----> 1\u001b[0;31m \u001b[0mprint\u001b[0m\u001b[0;34m(\u001b[0m\u001b[0mdf\u001b[0m\u001b[0;34m.\u001b[0m\u001b[0mat\u001b[0m\u001b[0;34m[\u001b[0m\u001b[0;36m0\u001b[0m\u001b[0;34m,\u001b[0m \u001b[0;34m'Name'\u001b[0m\u001b[0;34m]\u001b[0m\u001b[0;34m)\u001b[0m\u001b[0;34m\u001b[0m\u001b[0;34m\u001b[0m\u001b[0m\n\u001b[0m",
      "\u001b[0;32m~/opt/anaconda3/lib/python3.9/site-packages/pandas/core/indexing.py\u001b[0m in \u001b[0;36m__getitem__\u001b[0;34m(self, key)\u001b[0m\n\u001b[1;32m   2273\u001b[0m             \u001b[0;32mreturn\u001b[0m \u001b[0mself\u001b[0m\u001b[0;34m.\u001b[0m\u001b[0mobj\u001b[0m\u001b[0;34m.\u001b[0m\u001b[0mloc\u001b[0m\u001b[0;34m[\u001b[0m\u001b[0mkey\u001b[0m\u001b[0;34m]\u001b[0m\u001b[0;34m\u001b[0m\u001b[0;34m\u001b[0m\u001b[0m\n\u001b[1;32m   2274\u001b[0m \u001b[0;34m\u001b[0m\u001b[0m\n\u001b[0;32m-> 2275\u001b[0;31m         \u001b[0;32mreturn\u001b[0m \u001b[0msuper\u001b[0m\u001b[0;34m(\u001b[0m\u001b[0;34m)\u001b[0m\u001b[0;34m.\u001b[0m\u001b[0m__getitem__\u001b[0m\u001b[0;34m(\u001b[0m\u001b[0mkey\u001b[0m\u001b[0;34m)\u001b[0m\u001b[0;34m\u001b[0m\u001b[0;34m\u001b[0m\u001b[0m\n\u001b[0m\u001b[1;32m   2276\u001b[0m \u001b[0;34m\u001b[0m\u001b[0m\n\u001b[1;32m   2277\u001b[0m     \u001b[0;32mdef\u001b[0m \u001b[0m__setitem__\u001b[0m\u001b[0;34m(\u001b[0m\u001b[0mself\u001b[0m\u001b[0;34m,\u001b[0m \u001b[0mkey\u001b[0m\u001b[0;34m,\u001b[0m \u001b[0mvalue\u001b[0m\u001b[0;34m)\u001b[0m\u001b[0;34m:\u001b[0m\u001b[0;34m\u001b[0m\u001b[0;34m\u001b[0m\u001b[0m\n",
      "\u001b[0;32m~/opt/anaconda3/lib/python3.9/site-packages/pandas/core/indexing.py\u001b[0m in \u001b[0;36m__getitem__\u001b[0;34m(self, key)\u001b[0m\n\u001b[1;32m   2220\u001b[0m \u001b[0;34m\u001b[0m\u001b[0m\n\u001b[1;32m   2221\u001b[0m         \u001b[0mkey\u001b[0m \u001b[0;34m=\u001b[0m \u001b[0mself\u001b[0m\u001b[0;34m.\u001b[0m\u001b[0m_convert_key\u001b[0m\u001b[0;34m(\u001b[0m\u001b[0mkey\u001b[0m\u001b[0;34m)\u001b[0m\u001b[0;34m\u001b[0m\u001b[0;34m\u001b[0m\u001b[0m\n\u001b[0;32m-> 2222\u001b[0;31m         \u001b[0;32mreturn\u001b[0m \u001b[0mself\u001b[0m\u001b[0;34m.\u001b[0m\u001b[0mobj\u001b[0m\u001b[0;34m.\u001b[0m\u001b[0m_get_value\u001b[0m\u001b[0;34m(\u001b[0m\u001b[0;34m*\u001b[0m\u001b[0mkey\u001b[0m\u001b[0;34m,\u001b[0m \u001b[0mtakeable\u001b[0m\u001b[0;34m=\u001b[0m\u001b[0mself\u001b[0m\u001b[0;34m.\u001b[0m\u001b[0m_takeable\u001b[0m\u001b[0;34m)\u001b[0m\u001b[0;34m\u001b[0m\u001b[0;34m\u001b[0m\u001b[0m\n\u001b[0m\u001b[1;32m   2223\u001b[0m \u001b[0;34m\u001b[0m\u001b[0m\n\u001b[1;32m   2224\u001b[0m     \u001b[0;32mdef\u001b[0m \u001b[0m__setitem__\u001b[0m\u001b[0;34m(\u001b[0m\u001b[0mself\u001b[0m\u001b[0;34m,\u001b[0m \u001b[0mkey\u001b[0m\u001b[0;34m,\u001b[0m \u001b[0mvalue\u001b[0m\u001b[0;34m)\u001b[0m\u001b[0;34m:\u001b[0m\u001b[0;34m\u001b[0m\u001b[0;34m\u001b[0m\u001b[0m\n",
      "\u001b[0;32m~/opt/anaconda3/lib/python3.9/site-packages/pandas/core/frame.py\u001b[0m in \u001b[0;36m_get_value\u001b[0;34m(self, index, col, takeable)\u001b[0m\n\u001b[1;32m   3566\u001b[0m             \u001b[0;32mreturn\u001b[0m \u001b[0mseries\u001b[0m\u001b[0;34m.\u001b[0m\u001b[0m_values\u001b[0m\u001b[0;34m[\u001b[0m\u001b[0mindex\u001b[0m\u001b[0;34m]\u001b[0m\u001b[0;34m\u001b[0m\u001b[0;34m\u001b[0m\u001b[0m\n\u001b[1;32m   3567\u001b[0m \u001b[0;34m\u001b[0m\u001b[0m\n\u001b[0;32m-> 3568\u001b[0;31m         \u001b[0mseries\u001b[0m \u001b[0;34m=\u001b[0m \u001b[0mself\u001b[0m\u001b[0;34m.\u001b[0m\u001b[0m_get_item_cache\u001b[0m\u001b[0;34m(\u001b[0m\u001b[0mcol\u001b[0m\u001b[0;34m)\u001b[0m\u001b[0;34m\u001b[0m\u001b[0;34m\u001b[0m\u001b[0m\n\u001b[0m\u001b[1;32m   3569\u001b[0m         \u001b[0mengine\u001b[0m \u001b[0;34m=\u001b[0m \u001b[0mself\u001b[0m\u001b[0;34m.\u001b[0m\u001b[0mindex\u001b[0m\u001b[0;34m.\u001b[0m\u001b[0m_engine\u001b[0m\u001b[0;34m\u001b[0m\u001b[0;34m\u001b[0m\u001b[0m\n\u001b[1;32m   3570\u001b[0m \u001b[0;34m\u001b[0m\u001b[0m\n",
      "\u001b[0;32m~/opt/anaconda3/lib/python3.9/site-packages/pandas/core/frame.py\u001b[0m in \u001b[0;36m_get_item_cache\u001b[0;34m(self, item)\u001b[0m\n\u001b[1;32m   3882\u001b[0m             \u001b[0;31m#  pending resolution of GH#33047\u001b[0m\u001b[0;34m\u001b[0m\u001b[0;34m\u001b[0m\u001b[0m\n\u001b[1;32m   3883\u001b[0m \u001b[0;34m\u001b[0m\u001b[0m\n\u001b[0;32m-> 3884\u001b[0;31m             \u001b[0mloc\u001b[0m \u001b[0;34m=\u001b[0m \u001b[0mself\u001b[0m\u001b[0;34m.\u001b[0m\u001b[0mcolumns\u001b[0m\u001b[0;34m.\u001b[0m\u001b[0mget_loc\u001b[0m\u001b[0;34m(\u001b[0m\u001b[0mitem\u001b[0m\u001b[0;34m)\u001b[0m\u001b[0;34m\u001b[0m\u001b[0;34m\u001b[0m\u001b[0m\n\u001b[0m\u001b[1;32m   3885\u001b[0m             \u001b[0mvalues\u001b[0m \u001b[0;34m=\u001b[0m \u001b[0mself\u001b[0m\u001b[0;34m.\u001b[0m\u001b[0m_mgr\u001b[0m\u001b[0;34m.\u001b[0m\u001b[0miget\u001b[0m\u001b[0;34m(\u001b[0m\u001b[0mloc\u001b[0m\u001b[0;34m)\u001b[0m\u001b[0;34m\u001b[0m\u001b[0;34m\u001b[0m\u001b[0m\n\u001b[1;32m   3886\u001b[0m             \u001b[0mres\u001b[0m \u001b[0;34m=\u001b[0m \u001b[0mself\u001b[0m\u001b[0;34m.\u001b[0m\u001b[0m_box_col_values\u001b[0m\u001b[0;34m(\u001b[0m\u001b[0mvalues\u001b[0m\u001b[0;34m,\u001b[0m \u001b[0mloc\u001b[0m\u001b[0;34m)\u001b[0m\u001b[0;34m.\u001b[0m\u001b[0m__finalize__\u001b[0m\u001b[0;34m(\u001b[0m\u001b[0mself\u001b[0m\u001b[0;34m)\u001b[0m\u001b[0;34m\u001b[0m\u001b[0;34m\u001b[0m\u001b[0m\n",
      "\u001b[0;32m~/opt/anaconda3/lib/python3.9/site-packages/pandas/core/indexes/base.py\u001b[0m in \u001b[0;36mget_loc\u001b[0;34m(self, key, method, tolerance)\u001b[0m\n\u001b[1;32m   3361\u001b[0m                 \u001b[0;32mreturn\u001b[0m \u001b[0mself\u001b[0m\u001b[0;34m.\u001b[0m\u001b[0m_engine\u001b[0m\u001b[0;34m.\u001b[0m\u001b[0mget_loc\u001b[0m\u001b[0;34m(\u001b[0m\u001b[0mcasted_key\u001b[0m\u001b[0;34m)\u001b[0m\u001b[0;34m\u001b[0m\u001b[0;34m\u001b[0m\u001b[0m\n\u001b[1;32m   3362\u001b[0m             \u001b[0;32mexcept\u001b[0m \u001b[0mKeyError\u001b[0m \u001b[0;32mas\u001b[0m \u001b[0merr\u001b[0m\u001b[0;34m:\u001b[0m\u001b[0;34m\u001b[0m\u001b[0;34m\u001b[0m\u001b[0m\n\u001b[0;32m-> 3363\u001b[0;31m                 \u001b[0;32mraise\u001b[0m \u001b[0mKeyError\u001b[0m\u001b[0;34m(\u001b[0m\u001b[0mkey\u001b[0m\u001b[0;34m)\u001b[0m \u001b[0;32mfrom\u001b[0m \u001b[0merr\u001b[0m\u001b[0;34m\u001b[0m\u001b[0;34m\u001b[0m\u001b[0m\n\u001b[0m\u001b[1;32m   3364\u001b[0m \u001b[0;34m\u001b[0m\u001b[0m\n\u001b[1;32m   3365\u001b[0m         \u001b[0;32mif\u001b[0m \u001b[0mis_scalar\u001b[0m\u001b[0;34m(\u001b[0m\u001b[0mkey\u001b[0m\u001b[0;34m)\u001b[0m \u001b[0;32mand\u001b[0m \u001b[0misna\u001b[0m\u001b[0;34m(\u001b[0m\u001b[0mkey\u001b[0m\u001b[0;34m)\u001b[0m \u001b[0;32mand\u001b[0m \u001b[0;32mnot\u001b[0m \u001b[0mself\u001b[0m\u001b[0;34m.\u001b[0m\u001b[0mhasnans\u001b[0m\u001b[0;34m:\u001b[0m\u001b[0;34m\u001b[0m\u001b[0;34m\u001b[0m\u001b[0m\n",
      "\u001b[0;31mKeyError\u001b[0m: 'Name'"
     ]
    }
   ],
   "source": [
    "print(df.at[0, 'Name'])"
   ]
  },
  {
   "cell_type": "code",
   "execution_count": null,
   "id": "4bdf5ed4",
   "metadata": {},
   "outputs": [],
   "source": []
  }
 ],
 "metadata": {
  "kernelspec": {
   "display_name": "Python 3 (ipykernel)",
   "language": "python",
   "name": "python3"
  },
  "language_info": {
   "codemirror_mode": {
    "name": "ipython",
    "version": 3
   },
   "file_extension": ".py",
   "mimetype": "text/x-python",
   "name": "python",
   "nbconvert_exporter": "python",
   "pygments_lexer": "ipython3",
   "version": "3.9.7"
  }
 },
 "nbformat": 4,
 "nbformat_minor": 5
}
