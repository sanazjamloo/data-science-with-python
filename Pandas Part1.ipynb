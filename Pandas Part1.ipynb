{
 "cells": [
  {
   "cell_type": "code",
   "execution_count": 6,
   "id": "a2b799b7",
   "metadata": {},
   "outputs": [
    {
     "name": "stdout",
     "output_type": "stream",
     "text": [
      "{'Emp_name': ['Amit', 'John', 'Tina', 'Amy'], 'Emp_salary': [45000, 56000, 78200, 96300]}\n",
      "  Emp_name  Emp_salary\n",
      "0     Amit       45000\n",
      "1     John       56000\n",
      "2     Tina       78200\n",
      "3      Amy       96300\n",
      "<class 'pandas.core.frame.DataFrame'>\n"
     ]
    }
   ],
   "source": [
    "# Creating DataFrames for a tabular dataset\n",
    "\n",
    "import pandas as pd\n",
    "\n",
    "raw_data = {\n",
    "    \"Emp_name\":['Amit','John','Tina','Amy'],\n",
    "    \"Emp_salary\": [45000,56000,78200,96300]\n",
    "}\n",
    "print(raw_data)\n",
    "\n",
    "# Converting a dictionary to a tabular dataset\n",
    "df_emp = pd.DataFrame(raw_data)\n",
    "print(df_emp)\n",
    "print(type(df_emp))"
   ]
  },
  {
   "cell_type": "code",
   "execution_count": null,
   "id": "abff6407",
   "metadata": {},
   "outputs": [],
   "source": [
    "# Import and export data\n",
    "# Import file---> DF\n",
    "# Export DF---> file\n",
    "# File Types supported by pandas: csv, excel, json, HTML, SQL queries.\n",
    "\n",
    "# Import functions: read_csv(), read_excel(), read_json()\n",
    "# Export functions: to_csv(), to_excel(), to_json()\n"
   ]
  },
  {
   "cell_type": "code",
   "execution_count": 9,
   "id": "c07c4336",
   "metadata": {},
   "outputs": [
    {
     "name": "stdout",
     "output_type": "stream",
     "text": [
      "  Emp_name  Emp_salary\n",
      "0     Amit       45000\n",
      "1     John       56000\n",
      "2     Tina       78200\n",
      "3      Amy       96300\n"
     ]
    }
   ],
   "source": [
    "# Export\n",
    "\n",
    "print(df_emp)\n",
    "df_emp.to_csv(\"example.csv\")"
   ]
  },
  {
   "cell_type": "code",
   "execution_count": 10,
   "id": "1ba69b08",
   "metadata": {},
   "outputs": [],
   "source": [
    "df_emp.to_excel('example.xlsx')\n",
    "df_emp.to_json('example.js')"
   ]
  },
  {
   "cell_type": "code",
   "execution_count": 32,
   "id": "e52ea65c",
   "metadata": {},
   "outputs": [
    {
     "name": "stdout",
     "output_type": "stream",
     "text": [
      "      Pid  Pregnancies  Glucose  BloodPressure  SkinThickness  Insulin   BMI  \\\n",
      "0    1001            6      148             72             35    250.0  33.6   \n",
      "1    1002            1       85             66             29    300.0  26.6   \n",
      "2    1003            8      183             64              0      NaN  23.3   \n",
      "3    1004            1       89             66             23     94.0  28.1   \n",
      "4    1005            0      137             40             35    168.0  43.1   \n",
      "..    ...          ...      ...            ...            ...      ...   ...   \n",
      "763  1764           10      101             76             48    180.0  32.9   \n",
      "764  1765            2      122             70             27      0.0  36.8   \n",
      "765  1766            5      121             72             23    112.0  26.2   \n",
      "766  1767            1      126             60              0      0.0  30.1   \n",
      "767  1768            1       93             70             31      0.0  30.4   \n",
      "\n",
      "     DiabetesPedigreeFunction  Age  Outcome  \n",
      "0                       0.627   50        1  \n",
      "1                       0.351   31        0  \n",
      "2                       0.672   32        1  \n",
      "3                       0.167   21        0  \n",
      "4                       2.288   33        1  \n",
      "..                        ...  ...      ...  \n",
      "763                     0.171   63        0  \n",
      "764                     0.340   27        0  \n",
      "765                     0.245   30        0  \n",
      "766                     0.349   47        1  \n",
      "767                     0.315   23        0  \n",
      "\n",
      "[768 rows x 10 columns]\n"
     ]
    }
   ],
   "source": [
    "# Reading Data (import)\n",
    "\n",
    "df = pd.read_csv(\"diabetes.csv\")\n",
    "print(df)\n"
   ]
  },
  {
   "cell_type": "code",
   "execution_count": 33,
   "id": "84c62096",
   "metadata": {},
   "outputs": [
    {
     "name": "stdout",
     "output_type": "stream",
     "text": [
      "        0            1        2              3              4        5     6  \\\n",
      "0     Pid  Pregnancies  Glucose  BloodPressure  SkinThickness  Insulin   BMI   \n",
      "1    1001            6      148             72             35      250  33.6   \n",
      "2    1002            1       85             66             29      300  26.6   \n",
      "3    1003            8      183             64              0      NaN  23.3   \n",
      "4    1004            1       89             66             23       94  28.1   \n",
      "..    ...          ...      ...            ...            ...      ...   ...   \n",
      "764  1764           10      101             76             48      180  32.9   \n",
      "765  1765            2      122             70             27        0  36.8   \n",
      "766  1766            5      121             72             23      112  26.2   \n",
      "767  1767            1      126             60              0        0  30.1   \n",
      "768  1768            1       93             70             31        0  30.4   \n",
      "\n",
      "                            7    8        9  \n",
      "0    DiabetesPedigreeFunction  Age  Outcome  \n",
      "1                       0.627   50        1  \n",
      "2                       0.351   31        0  \n",
      "3                       0.672   32        1  \n",
      "4                       0.167   21        0  \n",
      "..                        ...  ...      ...  \n",
      "764                     0.171   63        0  \n",
      "765                      0.34   27        0  \n",
      "766                     0.245   30        0  \n",
      "767                     0.349   47        1  \n",
      "768                     0.315   23        0  \n",
      "\n",
      "[769 rows x 10 columns]\n"
     ]
    }
   ],
   "source": [
    "# Header\n",
    "df = pd.read_csv(\"diabetes.csv\", header=None) #default header=0\n",
    "print(df)"
   ]
  },
  {
   "cell_type": "code",
   "execution_count": 35,
   "id": "1e6231ed",
   "metadata": {},
   "outputs": [
    {
     "name": "stdout",
     "output_type": "stream",
     "text": [
      "              Pregnancies  BloodPressure  SkinThickness  Insulin   BMI  \\\n",
      "Pid  Glucose                                                             \n",
      "1001 148                6             72             35    250.0  33.6   \n",
      "1002 85                 1             66             29    300.0  26.6   \n",
      "1003 183                8             64              0      NaN  23.3   \n",
      "1004 89                 1             66             23     94.0  28.1   \n",
      "1005 137                0             40             35    168.0  43.1   \n",
      "...                   ...            ...            ...      ...   ...   \n",
      "1764 101               10             76             48    180.0  32.9   \n",
      "1765 122                2             70             27      0.0  36.8   \n",
      "1766 121                5             72             23    112.0  26.2   \n",
      "1767 126                1             60              0      0.0  30.1   \n",
      "1768 93                 1             70             31      0.0  30.4   \n",
      "\n",
      "              DiabetesPedigreeFunction  Age  Outcome  \n",
      "Pid  Glucose                                          \n",
      "1001 148                         0.627   50        1  \n",
      "1002 85                          0.351   31        0  \n",
      "1003 183                         0.672   32        1  \n",
      "1004 89                          0.167   21        0  \n",
      "1005 137                         2.288   33        1  \n",
      "...                                ...  ...      ...  \n",
      "1764 101                         0.171   63        0  \n",
      "1765 122                         0.340   27        0  \n",
      "1766 121                         0.245   30        0  \n",
      "1767 126                         0.349   47        1  \n",
      "1768 93                          0.315   23        0  \n",
      "\n",
      "[768 rows x 8 columns]\n"
     ]
    }
   ],
   "source": [
    "#Index Column (customize index column)---> diabetes file, default header=0\n",
    "df = pd.read_csv(\"diabetes.csv\", index_col=['Pid','Glucose'])\n",
    "print(df)\n"
   ]
  },
  {
   "cell_type": "code",
   "execution_count": null,
   "id": "fb5d66fe",
   "metadata": {},
   "outputs": [],
   "source": [
    "# Selections: selecting specific columns or rows, updating data \n",
    "# Label based selections: at[],loc[]\n",
    "# Index based selections: iloc[]\n",
    "# Conditional selections:df[condition]\n"
   ]
  },
  {
   "cell_type": "code",
   "execution_count": 48,
   "id": "92278de6",
   "metadata": {},
   "outputs": [
    {
     "name": "stdout",
     "output_type": "stream",
     "text": [
      "      Pregnancies  Glucose  BloodPressure  SkinThickness  Insulin   BMI  \\\n",
      "Pid                                                                       \n",
      "1001            6      148             72             35    250.0  33.6   \n",
      "1002            1       85             66             29    300.0  26.6   \n",
      "1003            8      183             64              0      NaN  23.3   \n",
      "1004            1       89             66             23     94.0  28.1   \n",
      "1005            0      137             40             35    168.0  43.1   \n",
      "...           ...      ...            ...            ...      ...   ...   \n",
      "1764           10      101             76             48    180.0  32.9   \n",
      "1765            2      122             70             27      0.0  36.8   \n",
      "1766            5      121             72             23    112.0  26.2   \n",
      "1767            1      126             60              0      0.0  30.1   \n",
      "1768            1       93             70             31      0.0  30.4   \n",
      "\n",
      "      DiabetesPedigreeFunction  Age  Outcome  \n",
      "Pid                                           \n",
      "1001                     0.627   50        1  \n",
      "1002                     0.351   31        0  \n",
      "1003                     0.672   32        1  \n",
      "1004                     0.167   21        0  \n",
      "1005                     2.288   33        1  \n",
      "...                        ...  ...      ...  \n",
      "1764                     0.171   63        0  \n",
      "1765                     0.340   27        0  \n",
      "1766                     0.245   30        0  \n",
      "1767                     0.349   47        1  \n",
      "1768                     0.315   23        0  \n",
      "\n",
      "[768 rows x 9 columns]\n",
      "Age of the patient with ID 1004 is: 21\n"
     ]
    }
   ],
   "source": [
    "# Label based selections: at[],loc[]\n",
    "df = pd.read_csv(\"diabetes.csv\", index_col=['Pid']) #default header=0\n",
    "print(df)\n",
    "print(\"Age of the patient with ID 1004 is:\",df.at[1004,'Age']) #takes only one index and one column."
   ]
  },
  {
   "cell_type": "code",
   "execution_count": 49,
   "id": "ab1d9f81",
   "metadata": {},
   "outputs": [
    {
     "name": "stdout",
     "output_type": "stream",
     "text": [
      "      Pregnancies  Glucose  BloodPressure  SkinThickness  Insulin   BMI  \\\n",
      "Pid                                                                       \n",
      "1001            6      148             72             35    250.0  33.6   \n",
      "1002            1       85             66             29    300.0  26.6   \n",
      "1003            8      183             64              0      NaN  23.3   \n",
      "1004            1       89             66             23     94.0  28.1   \n",
      "1005            0      137             40             35    168.0  43.1   \n",
      "...           ...      ...            ...            ...      ...   ...   \n",
      "1764           10      101             76             48    180.0  32.9   \n",
      "1765            2      122             70             27      0.0  36.8   \n",
      "1766            5      121             72             23    112.0  26.2   \n",
      "1767            1      126             60              0      0.0  30.1   \n",
      "1768            1       93             70             31      0.0  30.4   \n",
      "\n",
      "      DiabetesPedigreeFunction  Age  Outcome  \n",
      "Pid                                           \n",
      "1001                     0.627   50        1  \n",
      "1002                     0.351   31        0  \n",
      "1003                     0.672   32        1  \n",
      "1004                     0.167   35        0  \n",
      "1005                     2.288   33        1  \n",
      "...                        ...  ...      ...  \n",
      "1764                     0.171   63        0  \n",
      "1765                     0.340   27        0  \n",
      "1766                     0.245   30        0  \n",
      "1767                     0.349   47        1  \n",
      "1768                     0.315   23        0  \n",
      "\n",
      "[768 rows x 9 columns]\n"
     ]
    }
   ],
   "source": [
    "df.at[1004,'Age']=35\n",
    "print(df)"
   ]
  },
  {
   "cell_type": "code",
   "execution_count": 50,
   "id": "7d0a08e5",
   "metadata": {},
   "outputs": [
    {
     "name": "stdout",
     "output_type": "stream",
     "text": [
      "      Pregnancies  Glucose  BloodPressure  SkinThickness  Insulin   BMI  \\\n",
      "Pid                                                                       \n",
      "1001          6.0    148.0           72.0           35.0    250.0  33.6   \n",
      "1002          1.0     85.0           66.0           29.0    300.0  26.6   \n",
      "1003          8.0    183.0           64.0            0.0      NaN  23.3   \n",
      "1004          1.0     89.0           66.0           23.0     94.0  28.1   \n",
      "1005          0.0    137.0           40.0           35.0    168.0  43.1   \n",
      "...           ...      ...            ...            ...      ...   ...   \n",
      "1765          2.0    122.0           70.0           27.0      0.0  36.8   \n",
      "1766          5.0    121.0           72.0           23.0    112.0  26.2   \n",
      "1767          1.0    126.0           60.0            0.0      0.0  30.1   \n",
      "1768          1.0     93.0           70.0           31.0      0.0  30.4   \n",
      "0             NaN      NaN            NaN            NaN      NaN   NaN   \n",
      "\n",
      "      DiabetesPedigreeFunction   Age  Outcome           City  \n",
      "Pid                                                           \n",
      "1001                     0.627  50.0      1.0            NaN  \n",
      "1002                     0.351  31.0      0.0            NaN  \n",
      "1003                     0.672  32.0      1.0            NaN  \n",
      "1004                     0.167  35.0      0.0            NaN  \n",
      "1005                     2.288  33.0      1.0            NaN  \n",
      "...                        ...   ...      ...            ...  \n",
      "1765                     0.340  27.0      0.0            NaN  \n",
      "1766                     0.245  30.0      0.0            NaN  \n",
      "1767                     0.349  47.0      1.0            NaN  \n",
      "1768                     0.315  23.0      0.0            NaN  \n",
      "0                          NaN   NaN      NaN  San Francisco  \n",
      "\n",
      "[769 rows x 10 columns]\n"
     ]
    }
   ],
   "source": [
    "# Adding a new column \n",
    "df.at[0,'City']='San Francisco' \n",
    "print(df)"
   ]
  },
  {
   "cell_type": "code",
   "execution_count": 57,
   "id": "96641101",
   "metadata": {},
   "outputs": [
    {
     "name": "stdout",
     "output_type": "stream",
     "text": [
      "      Pregnancies  BloodPressure  Insulin\n",
      "Pid                                      \n",
      "1001          6.0           72.0    250.0\n",
      "1005          0.0           40.0    168.0\n",
      "1003          8.0           64.0      NaN\n"
     ]
    }
   ],
   "source": [
    "# Adding the value for the City column all the rows \n",
    "#df.loc[row index range, list of columns(multiple columns)]\n",
    "\n",
    "df.loc[1001:1005,[\"Pregnancies\",\"BloodPressure\",\"Insulin\"]] #slicing the df\n",
    "print(df.loc[[1001,1005,1003],[\"Pregnancies\",\"BloodPressure\",\"Insulin\"]]) # selecting a few rows"
   ]
  },
  {
   "cell_type": "code",
   "execution_count": 58,
   "id": "59e7b013",
   "metadata": {},
   "outputs": [
    {
     "name": "stdout",
     "output_type": "stream",
     "text": [
      "      Glucose  BloodPressure  SkinThickness\n",
      "Pid                                        \n",
      "1001    148.0           72.0           35.0\n",
      "1002     85.0           66.0           29.0\n",
      "1003    183.0           64.0            0.0\n",
      "1004     89.0           66.0           23.0\n",
      "1005    137.0           40.0           35.0\n",
      "      SkinThickness  Outcome\n",
      "Pid                         \n",
      "1002           29.0      0.0\n",
      "1046           39.0      1.0\n",
      "1064           34.0      0.0\n"
     ]
    }
   ],
   "source": [
    "# iLoc: index based selection(cannot use customized indices)\n",
    "print(df.iloc[0:5,1:4])\n",
    "print(df.iloc[[1,45,63],[3,8]])"
   ]
  },
  {
   "cell_type": "code",
   "execution_count": 56,
   "id": "9c9f8974",
   "metadata": {},
   "outputs": [
    {
     "name": "stdout",
     "output_type": "stream",
     "text": [
      "<class 'pandas.core.frame.DataFrame'>\n",
      "Int64Index: 769 entries, 1001 to 0\n",
      "Data columns (total 10 columns):\n",
      " #   Column                    Non-Null Count  Dtype  \n",
      "---  ------                    --------------  -----  \n",
      " 0   Pregnancies               768 non-null    float64\n",
      " 1   Glucose                   768 non-null    float64\n",
      " 2   BloodPressure             768 non-null    float64\n",
      " 3   SkinThickness             768 non-null    float64\n",
      " 4   Insulin                   766 non-null    float64\n",
      " 5   BMI                       768 non-null    float64\n",
      " 6   DiabetesPedigreeFunction  768 non-null    float64\n",
      " 7   Age                       768 non-null    float64\n",
      " 8   Outcome                   768 non-null    float64\n",
      " 9   City                      1 non-null      object \n",
      "dtypes: float64(9), object(1)\n",
      "memory usage: 82.2+ KB\n",
      "None\n"
     ]
    }
   ],
   "source": [
    "print(df.info())"
   ]
  },
  {
   "cell_type": "code",
   "execution_count": 60,
   "id": "9bae5da3",
   "metadata": {},
   "outputs": [
    {
     "name": "stdout",
     "output_type": "stream",
     "text": [
      "      Pregnancies  Glucose  BloodPressure  SkinThickness  Insulin   BMI  \\\n",
      "Pid                                                                       \n",
      "1009          2.0    197.0           70.0           45.0    543.0  30.5   \n",
      "1010          8.0    125.0           96.0            0.0      0.0   0.0   \n",
      "1013         10.0    139.0           80.0            0.0      0.0  27.1   \n",
      "1014          1.0    189.0           60.0           23.0    846.0  30.1   \n",
      "1015          5.0    166.0           72.0           19.0    175.0  25.8   \n",
      "...           ...      ...            ...            ...      ...   ...   \n",
      "1720          5.0     97.0           76.0           27.0      0.0  35.6   \n",
      "1735          2.0    105.0           75.0            0.0      0.0  23.3   \n",
      "1758          0.0    123.0           72.0            0.0      0.0  36.3   \n",
      "1760          6.0    190.0           92.0            0.0      0.0  35.5   \n",
      "1764         10.0    101.0           76.0           48.0    180.0  32.9   \n",
      "\n",
      "      DiabetesPedigreeFunction   Age  Outcome City  \n",
      "Pid                                                 \n",
      "1009                     0.158  53.0      1.0  NaN  \n",
      "1010                     0.232  54.0      1.0  NaN  \n",
      "1013                     1.441  57.0      0.0  NaN  \n",
      "1014                     0.398  59.0      1.0  NaN  \n",
      "1015                     0.587  51.0      1.0  NaN  \n",
      "...                        ...   ...      ...  ...  \n",
      "1720                     0.378  52.0      1.0  NaN  \n",
      "1735                     0.560  53.0      0.0  NaN  \n",
      "1758                     0.258  52.0      1.0  NaN  \n",
      "1760                     0.278  66.0      1.0  NaN  \n",
      "1764                     0.171  63.0      0.0  NaN  \n",
      "\n",
      "[81 rows x 10 columns]\n"
     ]
    }
   ],
   "source": [
    "# Conditional Selections\n",
    "\n",
    "\n",
    "# To get people older than 50\n",
    "df_new=df[df['Age']>50]\n",
    "print(df_new)\n"
   ]
  },
  {
   "cell_type": "code",
   "execution_count": 61,
   "id": "04c839ea",
   "metadata": {},
   "outputs": [
    {
     "name": "stdout",
     "output_type": "stream",
     "text": [
      "      Pregnancies  Glucose  BloodPressure  SkinThickness  Insulin   BMI  \\\n",
      "Pid                                                                       \n",
      "1010          8.0    125.0           96.0            0.0      0.0   0.0   \n",
      "1025         11.0    143.0           94.0           33.0    146.0  36.6   \n",
      "1044          9.0    171.0          110.0           24.0    240.0  45.4   \n",
      "1068          2.0    109.0           92.0            0.0      0.0  42.7   \n",
      "1116          4.0    146.0           92.0            0.0      0.0  31.2   \n",
      "1208          5.0    162.0          104.0            0.0      0.0  37.7   \n",
      "1213          7.0    179.0           95.0           31.0      0.0  34.2   \n",
      "1363          5.0    103.0          108.0           37.0      0.0  39.2   \n",
      "1659         11.0    127.0          106.0            0.0      0.0  39.0   \n",
      "1760          6.0    190.0           92.0            0.0      0.0  35.5   \n",
      "\n",
      "      DiabetesPedigreeFunction   Age  Outcome City  \n",
      "Pid                                                 \n",
      "1010                     0.232  54.0      1.0  NaN  \n",
      "1025                     0.254  51.0      1.0  NaN  \n",
      "1044                     0.721  54.0      1.0  NaN  \n",
      "1068                     0.845  54.0      0.0  NaN  \n",
      "1116                     0.539  61.0      1.0  NaN  \n",
      "1208                     0.151  52.0      1.0  NaN  \n",
      "1213                     0.164  60.0      0.0  NaN  \n",
      "1363                     0.305  65.0      0.0  NaN  \n",
      "1659                     0.190  51.0      0.0  NaN  \n",
      "1760                     0.278  66.0      1.0  NaN  \n"
     ]
    }
   ],
   "source": [
    "# Adding more conditions\n",
    "\n",
    "df_new=df[(df['Age']>50) & (df['BloodPressure']>90)]\n",
    "print(df_new)"
   ]
  },
  {
   "cell_type": "code",
   "execution_count": 62,
   "id": "b7593a9a",
   "metadata": {},
   "outputs": [
    {
     "name": "stdout",
     "output_type": "stream",
     "text": [
      "      Pregnancies  Glucose  BloodPressure  SkinThickness  Insulin   BMI  \\\n",
      "Pid                                                                       \n",
      "1009          2.0    197.0           70.0           45.0    543.0  30.5   \n",
      "1010          8.0    125.0           96.0            0.0      0.0   0.0   \n",
      "1011          4.0    110.0           92.0            0.0      0.0  37.6   \n",
      "1013         10.0    139.0           80.0            0.0      0.0  27.1   \n",
      "1014          1.0    189.0           60.0           23.0    846.0  30.1   \n",
      "...           ...      ...            ...            ...      ...   ...   \n",
      "1744          9.0    140.0           94.0            0.0      0.0  32.7   \n",
      "1747          1.0    147.0           94.0           41.0      0.0  49.3   \n",
      "1758          0.0    123.0           72.0            0.0      0.0  36.3   \n",
      "1760          6.0    190.0           92.0            0.0      0.0  35.5   \n",
      "1764         10.0    101.0           76.0           48.0    180.0  32.9   \n",
      "\n",
      "      DiabetesPedigreeFunction   Age  Outcome City  \n",
      "Pid                                                 \n",
      "1009                     0.158  53.0      1.0  NaN  \n",
      "1010                     0.232  54.0      1.0  NaN  \n",
      "1011                     0.191  30.0      0.0  NaN  \n",
      "1013                     1.441  57.0      0.0  NaN  \n",
      "1014                     0.398  59.0      1.0  NaN  \n",
      "...                        ...   ...      ...  ...  \n",
      "1744                     0.734  45.0      1.0  NaN  \n",
      "1747                     0.358  27.0      1.0  NaN  \n",
      "1758                     0.258  52.0      1.0  NaN  \n",
      "1760                     0.278  66.0      1.0  NaN  \n",
      "1764                     0.171  63.0      0.0  NaN  \n",
      "\n",
      "[109 rows x 10 columns]\n"
     ]
    }
   ],
   "source": [
    "df_new=df[(df['Age']>50) | (df['BloodPressure']>90)]\n",
    "print(df_new)"
   ]
  },
  {
   "cell_type": "code",
   "execution_count": 64,
   "id": "ea6d3826",
   "metadata": {},
   "outputs": [
    {
     "name": "stdout",
     "output_type": "stream",
     "text": [
      "      Pregnancies  Glucose  BloodPressure  SkinThickness  Insulin   BMI  \\\n",
      "Pid                                                                       \n",
      "1141          3.0    128.0           78.0            0.0      0.0  21.1   \n",
      "\n",
      "      DiabetesPedigreeFunction   Age  Outcome City  \n",
      "Pid                                                 \n",
      "1141                     0.268  55.0      0.0  NaN  \n"
     ]
    }
   ],
   "source": [
    "# Random Selection\n",
    "print(df.sample())"
   ]
  },
  {
   "cell_type": "code",
   "execution_count": null,
   "id": "dfc53666",
   "metadata": {},
   "outputs": [],
   "source": [
    "# Random Selection\n",
    "print(df.sample())"
   ]
  }
 ],
 "metadata": {
  "kernelspec": {
   "display_name": "Python 3 (ipykernel)",
   "language": "python",
   "name": "python3"
  },
  "language_info": {
   "codemirror_mode": {
    "name": "ipython",
    "version": 3
   },
   "file_extension": ".py",
   "mimetype": "text/x-python",
   "name": "python",
   "nbconvert_exporter": "python",
   "pygments_lexer": "ipython3",
   "version": "3.9.7"
  }
 },
 "nbformat": 4,
 "nbformat_minor": 5
}
