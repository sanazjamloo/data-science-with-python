{
 "cells": [
  {
   "cell_type": "code",
   "execution_count": 1,
   "id": "05bc9787",
   "metadata": {},
   "outputs": [],
   "source": [
    "#Python Basics"
   ]
  },
  {
   "cell_type": "code",
   "execution_count": 2,
   "id": "9bfb37d7",
   "metadata": {},
   "outputs": [
    {
     "name": "stdout",
     "output_type": "stream",
     "text": [
      "Welcome to Python Programming!\n"
     ]
    }
   ],
   "source": [
    "print(\"Welcome to Python Programming!\")"
   ]
  },
  {
   "cell_type": "code",
   "execution_count": 3,
   "id": "14f75426",
   "metadata": {},
   "outputs": [
    {
     "name": "stdout",
     "output_type": "stream",
     "text": [
      "Try Again!\n"
     ]
    }
   ],
   "source": [
    "print(\"Try Again!\")"
   ]
  },
  {
   "cell_type": "code",
   "execution_count": 5,
   "id": "52da2afe",
   "metadata": {},
   "outputs": [],
   "source": [
    "#This is a single line comment"
   ]
  },
  {
   "cell_type": "code",
   "execution_count": 7,
   "id": "5af3bd07",
   "metadata": {},
   "outputs": [
    {
     "data": {
      "text/plain": [
       "'\\nThis is a multiline comment'"
      ]
     },
     "execution_count": 7,
     "metadata": {},
     "output_type": "execute_result"
    }
   ],
   "source": [
    "\"\"\"\n",
    "This is a multiline comment\n",
    "\"\"\""
   ]
  },
  {
   "cell_type": "code",
   "execution_count": 8,
   "id": "dbd2adbd",
   "metadata": {},
   "outputs": [],
   "source": [
    "# Python Data Types\n",
    "# Numerical Data: int, float(decimal)\n",
    "# String: str, bool\n",
    "# Dynamic Typing"
   ]
  },
  {
   "cell_type": "code",
   "execution_count": 9,
   "id": "b5ebaa89",
   "metadata": {},
   "outputs": [
    {
     "name": "stdout",
     "output_type": "stream",
     "text": [
      "<class 'int'>\n"
     ]
    }
   ],
   "source": [
    "age = 35\n",
    "print(type(age))"
   ]
  },
  {
   "cell_type": "code",
   "execution_count": 10,
   "id": "37225845",
   "metadata": {},
   "outputs": [
    {
     "name": "stdout",
     "output_type": "stream",
     "text": [
      "<class 'float'>\n"
     ]
    }
   ],
   "source": [
    "roi = 149.98\n",
    "print(type(roi))"
   ]
  },
  {
   "cell_type": "code",
   "execution_count": 15,
   "id": "e1d4c669",
   "metadata": {},
   "outputs": [
    {
     "name": "stdout",
     "output_type": "stream",
     "text": [
      "<class 'int'>\n",
      "<class 'float'>\n",
      "<class 'str'>\n",
      "<class 'bool'>\n"
     ]
    }
   ],
   "source": [
    "# Dynamic Typing\n",
    "var = 100\n",
    "print(type(var))\n",
    "var = 45.5\n",
    "print(type(var))\n",
    "var = \"Sanaz\"\n",
    "print(type(var))\n",
    "var  = True\n",
    "print(type(var))"
   ]
  },
  {
   "cell_type": "code",
   "execution_count": 20,
   "id": "8967841c",
   "metadata": {},
   "outputs": [
    {
     "name": "stdout",
     "output_type": "stream",
     "text": [
      "<class 'str'>\n",
      " The 'sun' rises in the East\n"
     ]
    }
   ],
   "source": [
    "# Pyhton Strings - Alphanumerical values - We can use a combinition of single and double quotes for strings.\n",
    "\n",
    "name = \"Sanaz\"\n",
    "name = 'Sasha'\n",
    "str = \" The 'sun' rises in the East\"\n",
    "print(type(str))\n",
    "print(str)\n"
   ]
  },
  {
   "cell_type": "code",
   "execution_count": 21,
   "id": "f6418d25",
   "metadata": {},
   "outputs": [],
   "source": [
    "# Rules of variables in Python\n",
    "# You cannot name a variable a number or start with number.\n"
   ]
  },
  {
   "cell_type": "code",
   "execution_count": 25,
   "id": "3a4522d5",
   "metadata": {},
   "outputs": [
    {
     "name": "stdout",
     "output_type": "stream",
     "text": [
      "33.333333333333336\n",
      "33\n",
      "1\n",
      "125\n"
     ]
    }
   ],
   "source": [
    "# Operators in Pyhton\n",
    "# Arithmetical Operators: +,-, /, // floor division which gives you only integer, *, %(remainder which gives you the remainder part of the division only), ** power\n",
    "var = 100\n",
    "print(var/3)\n",
    "print(var//3) #floor div\n",
    "print(var % 3)\n",
    "print(5**3)"
   ]
  },
  {
   "cell_type": "code",
   "execution_count": 29,
   "id": "832ad32a",
   "metadata": {},
   "outputs": [
    {
     "name": "stdout",
     "output_type": "stream",
     "text": [
      "True\n",
      "False\n",
      "True\n"
     ]
    }
   ],
   "source": [
    "# Relational Operators or Conditional Operators: <,>,<=, >=, = assigning, == checking condition, !=\n",
    "# used in conditions\n",
    "age = 36\n",
    "print(age>30)\n",
    "print(age == 40)\n",
    "print(age != 40)"
   ]
  },
  {
   "cell_type": "code",
   "execution_count": 33,
   "id": "f46bd8b9",
   "metadata": {},
   "outputs": [
    {
     "name": "stdout",
     "output_type": "stream",
     "text": [
      "31\n"
     ]
    }
   ],
   "source": [
    "# Assignement Operators: =,+=,-=\n",
    "age = 36\n",
    "age += 5\n",
    "age -= 10\n",
    "print(age)"
   ]
  },
  {
   "cell_type": "code",
   "execution_count": 35,
   "id": "bfa226ab",
   "metadata": {},
   "outputs": [
    {
     "name": "stdout",
     "output_type": "stream",
     "text": [
      "True\n",
      "True\n"
     ]
    }
   ],
   "source": [
    "# Logical Operators: and, or, not\n",
    "age = 25\n",
    "print(age>=18 and age<=40)\n",
    "print(age>=18 or age<=40)"
   ]
  },
  {
   "cell_type": "code",
   "execution_count": 36,
   "id": "c402c174",
   "metadata": {},
   "outputs": [],
   "source": [
    "# Conditional /Flow control statements\n",
    "# if, elif, else\n",
    "# loops: while, for"
   ]
  },
  {
   "cell_type": "code",
   "execution_count": 39,
   "id": "578ad715",
   "metadata": {},
   "outputs": [
    {
     "name": "stdout",
     "output_type": "stream",
     "text": [
      "num is odd.\n"
     ]
    }
   ],
   "source": [
    "# Check if the number is even or odd\n",
    "num = 45\n",
    "if num % 2 == 0:\n",
    "    print(\"num is even.\")\n",
    "else: \n",
    "    print(\"num is odd.\")"
   ]
  },
  {
   "cell_type": "code",
   "execution_count": 43,
   "id": "f3baed62",
   "metadata": {},
   "outputs": [
    {
     "name": "stdout",
     "output_type": "stream",
     "text": [
      "Enter any character G\n",
      "Character is consonent.\n"
     ]
    }
   ],
   "source": [
    "# Check if the character is vowel\n",
    "char = input(\"Enter any character\")\n",
    "if char == 'a' or char == 'A':\n",
    "    print(\"Character is vowel.\")\n",
    "elif char == 'e' or char =='E':\n",
    "    print(\"Character is vowel.\")\n",
    "elif char == 'i' or char == 'I':\n",
    "    print(\"Character is vowel.\")\n",
    "elif char == 'o' or char == 'O':\n",
    "    print(\"Character is vowel.\")\n",
    "elif char == 'u' or char == 'U':\n",
    "    print(\"Character is vowel.\")\n",
    "else: \n",
    "    print(\"Character is consonent.\")"
   ]
  },
  {
   "cell_type": "code",
   "execution_count": 48,
   "id": "66a111fe",
   "metadata": {},
   "outputs": [
    {
     "name": "stdout",
     "output_type": "stream",
     "text": [
      "Enter your mark:300\n",
      "Invalid Marks\n"
     ]
    }
   ],
   "source": [
    "# Nested Statements\n",
    "# marks < 80 then B\n",
    "# markes > 80 and marks <100 then A\n",
    "# marks > 90 then A+\n",
    "marks = int(input(\"Enter your mark:\"))\n",
    "if marks <= 80:\n",
    "    print(\" Your grade is B!\")\n",
    "elif marks > 80 and marks <= 100:\n",
    "    if marks >= 90: # nested condition\n",
    "        print(\"Your grade is A+!\")\n",
    "    else:\n",
    "        print(\"You got A!\")\n",
    "elif marks > 100:\n",
    "    print(\"Invalid Marks\")\n",
    "    "
   ]
  },
  {
   "cell_type": "code",
   "execution_count": 52,
   "id": "42683228",
   "metadata": {},
   "outputs": [
    {
     "name": "stdout",
     "output_type": "stream",
     "text": [
      "Enter your age:36\n",
      "36\n",
      "<class 'int'>\n"
     ]
    }
   ],
   "source": [
    "# Type casting int(), float(), str()\n",
    "# input() function by default returns a string data type\n",
    "age = int(input(\"Enter your age:\"))\n",
    "print(age)\n",
    "print(type(age))"
   ]
  },
  {
   "cell_type": "code",
   "execution_count": 56,
   "id": "8f93f23b",
   "metadata": {},
   "outputs": [
    {
     "name": "stdout",
     "output_type": "stream",
     "text": [
      "Hi, Sanaz your age is 25!\n",
      "Hi, Sanaz your age is 25!\n"
     ]
    }
   ],
   "source": [
    "# String formatting or interpolations\n",
    "# Embeding a value inside a string collection\n",
    "# Format() function\n",
    "name = \"Sanaz\"\n",
    "age = 25\n",
    "print(\"Hi, {} your age is {}!\".format(name,age)) #the order of the arguments is imporatnt.\n",
    "print(\"Hi, {0} your age is {1}!\".format(name,age))\n"
   ]
  },
  {
   "cell_type": "code",
   "execution_count": 57,
   "id": "9f061258",
   "metadata": {},
   "outputs": [
    {
     "name": "stdout",
     "output_type": "stream",
     "text": [
      "Hi, Sanaz your age is 25!\n"
     ]
    }
   ],
   "source": [
    "# f-string\n",
    "name = \"Sanaz\"\n",
    "age = 25\n",
    "print(f\"Hi, {name} your age is {age}!\")\n"
   ]
  },
  {
   "cell_type": "code",
   "execution_count": 59,
   "id": "f38d5175",
   "metadata": {},
   "outputs": [
    {
     "name": "stdout",
     "output_type": "stream",
     "text": [
      "Rate of interest 14.24\n"
     ]
    }
   ],
   "source": [
    "# Module % f%\n",
    "roi = 14.236597845\n",
    "print(\"Rate of interest %.2f\"%roi)"
   ]
  },
  {
   "cell_type": "code",
   "execution_count": 61,
   "id": "fff416f5",
   "metadata": {},
   "outputs": [
    {
     "name": "stdout",
     "output_type": "stream",
     "text": [
      "var1 %d,var2%d (45, 63)\n"
     ]
    }
   ],
   "source": [
    "var1 = 45\n",
    "var2 = 63\n",
    "print(\"var1 %d,var2%d\",(var1,var2))"
   ]
  },
  {
   "cell_type": "code",
   "execution_count": 62,
   "id": "175981ab",
   "metadata": {},
   "outputs": [],
   "source": [
    "# Iterative Statements (Loops): while, for\n"
   ]
  },
  {
   "cell_type": "code",
   "execution_count": 66,
   "id": "5a422d14",
   "metadata": {},
   "outputs": [
    {
     "name": "stdout",
     "output_type": "stream",
     "text": [
      "[1, 2, 3, 4, 5, 6, 7, 8, 9, 10, 11, 12, 13, 14, 15, 16, 17, 18, 19, 20]\n",
      "[1, 3, 5, 7, 9, 11, 13, 15, 17, 19]\n"
     ]
    }
   ],
   "source": [
    "# range() function returns a sequence of given values within a range\n",
    "# range(start, stop, step) start is always included but stop is never included. \n",
    "print(list(range(1,21)))\n",
    "print(list(range(1,21,2)))"
   ]
  },
  {
   "cell_type": "code",
   "execution_count": 68,
   "id": "ac6be89f",
   "metadata": {},
   "outputs": [
    {
     "name": "stdout",
     "output_type": "stream",
     "text": [
      "Enter any number:3\n",
      "3*1=3\n",
      "3*2=6\n",
      "3*3=9\n",
      "3*4=12\n",
      "3*5=15\n",
      "3*6=18\n",
      "3*7=21\n",
      "3*8=24\n",
      "3*9=27\n",
      "3*10=30\n",
      "Loop Ends\n"
     ]
    }
   ],
   "source": [
    "# print a table of given numbers with for loop\n",
    "num = int(input(\"Enter any number:\"))\n",
    "for n in range(1,11):\n",
    "    print(f\"{num}*{n}={num*n}\")\n",
    "else: \n",
    "    print(\"Loop Ends\")"
   ]
  },
  {
   "cell_type": "code",
   "execution_count": 72,
   "id": "4970ad7c",
   "metadata": {},
   "outputs": [
    {
     "name": "stdout",
     "output_type": "stream",
     "text": [
      "Enter any number:4\n",
      "4*1=4\n",
      "4*2=8\n",
      "4*3=12\n",
      "4*4=16\n",
      "4*5=20\n",
      "4*6=24\n",
      "4*7=28\n",
      "4*8=32\n",
      "4*9=36\n",
      "4*10=40\n",
      "Loop Ends\n"
     ]
    }
   ],
   "source": [
    "# print a table of given numbers with while loop which uses a condition\n",
    "num = int(input(\"Enter any number:\"))\n",
    "n = 1\n",
    "while  n <= 10:\n",
    "    print(f\"{num}*{n}={num*n}\")\n",
    "    n+= 1\n",
    "else:\n",
    "    print(\"Loop Ends\")"
   ]
  },
  {
   "cell_type": "code",
   "execution_count": 78,
   "id": "4b8f2e4e",
   "metadata": {},
   "outputs": [
    {
     "name": "stdout",
     "output_type": "stream",
     "text": [
      "Enter a number to search in the list:50\n",
      "14\n",
      "26\n",
      "36\n",
      "98\n",
      "78\n",
      "45\n",
      "12\n",
      "33\n",
      "23\n",
      "21\n",
      "Item not found.\n"
     ]
    }
   ],
   "source": [
    "# Jump Statements: break, continue, pass. They terminate a loop.  \n",
    "lst = [14, 26, 36, 98, 78, 45, 12, 33, 23, 21]\n",
    "num = int(input(\"Enter a number to search in the list:\"))\n",
    "for item in lst:\n",
    "    print(item)\n",
    "    if item == num:\n",
    "        print(\"Item found!\")\n",
    "        break\n",
    "else:\n",
    "    print(\"Item not found.\")"
   ]
  },
  {
   "cell_type": "code",
   "execution_count": 79,
   "id": "408f84cd",
   "metadata": {},
   "outputs": [
    {
     "name": "stdout",
     "output_type": "stream",
     "text": [
      "Enter a number to search in the list:78\n",
      "14\n",
      "26\n",
      "36\n",
      "98\n",
      "78\n",
      "Item found!\n",
      "45\n",
      "12\n",
      "33\n",
      "23\n",
      "21\n",
      "33\n",
      "36\n",
      "Item not found.\n"
     ]
    }
   ],
   "source": [
    "# By default it is continue so we don't really need to write it. Continue is used when we have duplicate values in the list.\n",
    "lst = [14, 26, 36, 98, 78, 45, 12, 33, 23, 21, 33, 36]\n",
    "num = int(input(\"Enter a number to search in the list:\"))\n",
    "for item in lst:\n",
    "    print(item)\n",
    "    if item == num:\n",
    "        print(\"Item found!\")\n",
    "        continue \n",
    "else:\n",
    "    print(\"Item not found.\")"
   ]
  },
  {
   "cell_type": "code",
   "execution_count": null,
   "id": "b02cb659",
   "metadata": {},
   "outputs": [],
   "source": []
  }
 ],
 "metadata": {
  "kernelspec": {
   "display_name": "Python 3 (ipykernel)",
   "language": "python",
   "name": "python3"
  },
  "language_info": {
   "codemirror_mode": {
    "name": "ipython",
    "version": 3
   },
   "file_extension": ".py",
   "mimetype": "text/x-python",
   "name": "python",
   "nbconvert_exporter": "python",
   "pygments_lexer": "ipython3",
   "version": "3.9.7"
  }
 },
 "nbformat": 4,
 "nbformat_minor": 5
}
