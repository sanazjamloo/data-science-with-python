{
 "cells": [
  {
   "cell_type": "code",
   "execution_count": null,
   "id": "3fa328ab",
   "metadata": {},
   "outputs": [],
   "source": [
    "# Concepts in OOPs\n",
    "# 1. Classes and Objects\n",
    "# 2. Encapsulation\n",
    "# 3. Data Abstraction(to hide data), implemented by encapsulation\n",
    "# 4. Inheritence (reusing the code)\n",
    "# 5. Polymorphism"
   ]
  },
  {
   "cell_type": "code",
   "execution_count": 3,
   "id": "1dcf441f",
   "metadata": {},
   "outputs": [],
   "source": [
    "# Defining a class\n",
    "\n",
    "class Python:\n",
    "    \"This is a sample docc string for this class.\"\n",
    "    name = \"\"                # Member/class variable\n",
    "    def method1(self, name): #Member function. No limit in number of memebrs.\n",
    "        print('Hello Python, Welcome:', name)\n",
    "        "
   ]
  },
  {
   "cell_type": "code",
   "execution_count": 4,
   "id": "83291405",
   "metadata": {},
   "outputs": [
    {
     "name": "stdout",
     "output_type": "stream",
     "text": [
      "Hello Python, Welcome: Sasha\n"
     ]
    }
   ],
   "source": [
    "# Creating objects after creating a class\n",
    "\n",
    "obj = Python()\n",
    "obj.method1(\"Sasha\")"
   ]
  },
  {
   "cell_type": "code",
   "execution_count": 4,
   "id": "d73eeb31",
   "metadata": {},
   "outputs": [
    {
     "name": "stdout",
     "output_type": "stream",
     "text": [
      "Hello Python, Welcome: Nika\n"
     ]
    }
   ],
   "source": [
    "# Self is the object itself\n",
    "obj1 = Python()\n",
    "obj.method1(\"Nika\") # Nika is object-specific value #obj.method1(obj,'Nika')"
   ]
  },
  {
   "cell_type": "code",
   "execution_count": 8,
   "id": "a677226c",
   "metadata": {},
   "outputs": [
    {
     "name": "stdout",
     "output_type": "stream",
     "text": [
      "<__main__.Edureka object at 0x7fbe8a9335b0>\n",
      "<class '__main__.Edureka'>\n",
      "memory ID of self is: 140456345417136\n",
      "memory ID of Object:  140456345417136\n",
      "<__main__.Edureka object at 0x7fbe8a796280>\n",
      "<class '__main__.Edureka'>\n",
      "memory ID of self is: 140456343724672\n",
      "memory ID of Object: 140456343724672\n"
     ]
    }
   ],
   "source": [
    "# When you create an object, a member is being assigned to it. \n",
    "# Understanding Self. Self is a default parameter or a reference to the object memory. \n",
    "# Self always points to the current object. \n",
    "\n",
    "class Edureka:\n",
    "    def method2(self):\n",
    "        print(self)\n",
    "        print(type(self))\n",
    "        print(\"memory ID of self is:\", id(self))\n",
    "        \n",
    "object1 = Edureka()\n",
    "object1.method2()\n",
    "print(\"memory ID of Object: \", id(object1)) # the memory address of the self and the object should the same.\n",
    "\n",
    "object2 = Edureka()\n",
    "object2.method2()       #object.method2(object2)\n",
    "print(\"memory ID of Object:\", id(object2))\n"
   ]
  },
  {
   "cell_type": "code",
   "execution_count": 11,
   "id": "4da05fb6",
   "metadata": {},
   "outputs": [
    {
     "name": "stdout",
     "output_type": "stream",
     "text": [
      " I am Public.\n",
      "I am Protected.\n",
      "I am private.\n"
     ]
    }
   ],
   "source": [
    "# 2. Encapsulation = to combine the data and function in a single unit called class. \n",
    "# Encapsulation is a method for restricting the access to some of an object's components, which means the internal representation of an object can not be seen from outiside of the object definition. \n",
    "\n",
    "# 3. Data Abstraction(to hide the data) = to separate class implementation from the use of the class.\n",
    "\n",
    "# Access specifiers/modifiers, trying to specify the access of the particular class: public, private,protected\n",
    "# Public var_name\n",
    "# Private __var_name\n",
    "# Protected _var_name\n",
    "\n",
    "class Edureka:\n",
    "    def __init__(self): \n",
    "        self.__pri = \"I am private.\"\n",
    "        self._pro = \"I am Protected.\"\n",
    "        self.pub = \" I am Public.\"\n",
    "        \n",
    "    def func(self):\n",
    "        print(self.__pri)\n",
    "        \n",
    "ob = Edureka()\n",
    "print(ob.pub) # access in outside the class\n",
    "print(ob._pro)\n",
    "#print(ob.__pri) # will throw an error because private members cannot be accessed outside the class.\n",
    "ob.func()\n"
   ]
  },
  {
   "cell_type": "code",
   "execution_count": 12,
   "id": "bdd47cf9",
   "metadata": {},
   "outputs": [
    {
     "name": "stdout",
     "output_type": "stream",
     "text": [
      "constructor called, object created.\n",
      "constructor called, object created.\n",
      "constructor called, object created.\n",
      "destructor\n",
      "constructor called, object created.\n",
      "destructor\n"
     ]
    }
   ],
   "source": [
    "# Constructors and destructors: special functions that are used to build the memory of the object.\n",
    "# 1. Always public\n",
    "# 2. Called when the object is created\n",
    "# 3. Name of the constructor is same as class name\n",
    "\n",
    "\n",
    "class TestClass:\n",
    "    def __init__(self): # initilizing the memory/ function\n",
    "        print(\"constructor called, object created.\")\n",
    "    def __del__(self):\n",
    "        print(\"destructor\")\n",
    "        \n",
    "obj = TestClass() #---> pointing to the constructor\n",
    "obj1 = TestClass()\n",
    "obj2 = TestClass()\n",
    "del obj\n",
    "obj3 = TestClass()\n",
    "del obj3\n",
    "    "
   ]
  },
  {
   "cell_type": "code",
   "execution_count": 14,
   "id": "b1db2026",
   "metadata": {},
   "outputs": [
    {
     "name": "stdout",
     "output_type": "stream",
     "text": [
      "This is parent class constructor\n",
      "This is child class constructor\n",
      "This is parent method\n",
      "This is child method\n"
     ]
    }
   ],
   "source": [
    "#4. Inheritence. One powerful feature of OOP. Deriving a class from the base class with little or no modification in it. \n",
    "\n",
    "# Single inheritence- Code reusablity\n",
    "\n",
    "class Parent:           #base\n",
    "    def __init__(self):\n",
    "        print(\"This is parent class constructor\")\n",
    "    def parent_method(self):\n",
    "        print(\"This is parent method\")\n",
    "        \n",
    "class Child(Parent):    #derived\n",
    "    def __init__(self):\n",
    "        print(\"This is child class constructor\")\n",
    "    def child_method(self):\n",
    "        print(\"This is child method\")\n",
    "        \n",
    "Parent_Object = Parent() #parent object creation\n",
    "Child_Object = Child()   #child object creation\n",
    "\n",
    "Parent_Object.parent_method()\n",
    "Child_Object.child_method()\n",
    "    "
   ]
  },
  {
   "cell_type": "code",
   "execution_count": null,
   "id": "f6e05eba",
   "metadata": {},
   "outputs": [],
   "source": [
    "# Polymorphism is overriding or overloading."
   ]
  },
  {
   "cell_type": "code",
   "execution_count": 1,
   "id": "12e10086",
   "metadata": {},
   "outputs": [],
   "source": [
    "class foo(object):\n",
    "    def math(self):\n",
    "        pass"
   ]
  },
  {
   "cell_type": "code",
   "execution_count": null,
   "id": "236c0012",
   "metadata": {},
   "outputs": [],
   "source": []
  }
 ],
 "metadata": {
  "kernelspec": {
   "display_name": "Python 3 (ipykernel)",
   "language": "python",
   "name": "python3"
  },
  "language_info": {
   "codemirror_mode": {
    "name": "ipython",
    "version": 3
   },
   "file_extension": ".py",
   "mimetype": "text/x-python",
   "name": "python",
   "nbconvert_exporter": "python",
   "pygments_lexer": "ipython3",
   "version": "3.9.7"
  }
 },
 "nbformat": 4,
 "nbformat_minor": 5
}
