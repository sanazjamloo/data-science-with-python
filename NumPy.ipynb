{
 "cells": [
  {
   "cell_type": "code",
   "execution_count": 3,
   "id": "07ed5598",
   "metadata": {},
   "outputs": [
    {
     "name": "stdout",
     "output_type": "stream",
     "text": [
      "['45' '36' '98' '75' '23' '41' '52' '63' 'abc' '45.3']\n",
      "<class 'numpy.ndarray'>\n",
      "<U32\n"
     ]
    }
   ],
   "source": [
    "# Creating NumPy array--> will contain the data.\n",
    "# Numpy array follow the concept of indexing.\n",
    "\n",
    "import numpy as np\n",
    "\n",
    "#ar = np.array([45,36,98,75,23,41,52,63])\n",
    "ar = np.array([45,36,98,75,23,41,52,63,'abc',45.3])\n",
    "print(ar)\n",
    "print(type(ar))\n",
    "print(ar.dtype)\n"
   ]
  },
  {
   "cell_type": "code",
   "execution_count": 6,
   "id": "8936c740",
   "metadata": {},
   "outputs": [
    {
     "name": "stdout",
     "output_type": "stream",
     "text": [
      "[10 11 12 13 14 15 16 17 18 19]\n",
      "<class 'numpy.ndarray'>\n",
      "[10 12 14 16 18]\n",
      "<class 'numpy.ndarray'>\n"
     ]
    }
   ],
   "source": [
    "# arange(start. stop, step)\n",
    "\n",
    "ar = np.arange(10,20)\n",
    "print(ar)\n",
    "print(type(ar))\n",
    "\n",
    "\n",
    "ar = np.arange(10,20,2)\n",
    "print(ar)\n",
    "print(type(ar))"
   ]
  },
  {
   "cell_type": "code",
   "execution_count": 9,
   "id": "28543ae1",
   "metadata": {},
   "outputs": [
    {
     "name": "stdout",
     "output_type": "stream",
     "text": [
      "[10 12 14 16 18]\n",
      "14\n"
     ]
    }
   ],
   "source": [
    "# One dimentional array= the data is expanded in one direction.\n",
    "print(ar)\n",
    "print(ar[2])"
   ]
  },
  {
   "cell_type": "code",
   "execution_count": 14,
   "id": "fec16535",
   "metadata": {},
   "outputs": [
    {
     "name": "stdout",
     "output_type": "stream",
     "text": [
      "[[ 10  20  30 100]\n",
      " [ 40  50  60 200]\n",
      " [ 70  80  90 300]]\n",
      "Number of dim is: 2\n",
      "Shape: rows and cols: (3, 4)\n",
      "Size the number of elements inside the array: 12\n"
     ]
    }
   ],
   "source": [
    "# 2D array: [rows and columns]\n",
    "\n",
    "ar = np.array([[10,20,30,100],[40,50,60,200],[70,80,90,300]])\n",
    "print(ar)\n",
    "print(\"Number of dim is:\", ar.ndim)\n",
    "print(\"Shape: rows and cols:\", ar.shape)\n",
    "print(\"Size the number of elements inside the array:\", ar.size)\n"
   ]
  },
  {
   "cell_type": "code",
   "execution_count": 15,
   "id": "2da08fdd",
   "metadata": {},
   "outputs": [
    {
     "name": "stdout",
     "output_type": "stream",
     "text": [
      "60\n"
     ]
    }
   ],
   "source": [
    "# Indexing in 2D arrays: always row comes first.\n",
    "print(ar[1][2])"
   ]
  },
  {
   "cell_type": "code",
   "execution_count": 16,
   "id": "73556b8b",
   "metadata": {},
   "outputs": [
    {
     "name": "stdout",
     "output_type": "stream",
     "text": [
      "[ 10  20  30 100]\n",
      "[ 40  50  60 200]\n",
      "[ 70  80  90 300]\n"
     ]
    }
   ],
   "source": [
    "for i in ar:\n",
    "    print(i)"
   ]
  },
  {
   "cell_type": "code",
   "execution_count": 21,
   "id": "9aedd5d0",
   "metadata": {},
   "outputs": [
    {
     "name": "stdout",
     "output_type": "stream",
     "text": [
      "Index:0 Item:10\n",
      "Index:1 Item:20\n",
      "Index:2 Item:30\n",
      "Index:3 Item:100\n",
      "Index:4 Item:40\n",
      "Index:5 Item:50\n",
      "Index:6 Item:60\n",
      "Index:7 Item:200\n",
      "Index:8 Item:70\n",
      "Index:9 Item:80\n",
      "Index:10 Item:90\n",
      "Index:11 Item:300\n"
     ]
    }
   ],
   "source": [
    "# nditer will iterate through the array one by one\n",
    "ind = 0\n",
    "for i in np.nditer(ar):\n",
    "    print(f\"Index:{ind} Item:{i}\")\n",
    "    ind+=1"
   ]
  },
  {
   "cell_type": "code",
   "execution_count": 23,
   "id": "6ebad91f",
   "metadata": {},
   "outputs": [
    {
     "name": "stdout",
     "output_type": "stream",
     "text": [
      "[[1 2 3]\n",
      " [4 5 6]]\n",
      "[[140 146]\n",
      " [320 335]]\n"
     ]
    }
   ],
   "source": [
    "# Matrix\n",
    "ar1 = np.array([[1,2,3],[4,5,6]])\n",
    "ar2 = np.array([[10,11],[20,21],[30,31]])\n",
    "print(ar1)\n",
    "ar3 = np.dot(ar1,ar2)\n",
    "print(ar3)"
   ]
  },
  {
   "cell_type": "code",
   "execution_count": 25,
   "id": "f3f12c71",
   "metadata": {},
   "outputs": [
    {
     "name": "stdout",
     "output_type": "stream",
     "text": [
      "[420 280 350 269 317 470 333 365 305 350 460 474 409 377 415 382 298 462\n",
      " 370 313 464 302 252 259 308 392 424 403 370 328 398 434 291 472 263 439\n",
      " 464 449 401 364 296 292 438 357 331 317 429 407 321 274 447 274 437 411\n",
      " 257 310 396 270 311 459 378 316 283 266 381 409 313 306 448 348 292 400\n",
      " 352 441 428 309 441 439 264 281 302 432 423 336 383 321 469 270 341 281\n",
      " 403 333 323 348 345 397 449 261 456 370 322 379 446 404 301 254 351 444\n",
      " 264 286 463 273 316 324 465 398 324 340 414 346 408 332 394 474 398 262\n",
      " 410 391 444 461]\n"
     ]
    }
   ],
   "source": [
    "# Import/export data from a csv file:loadtxt(), savetxt()\n",
    "# Numpy can only work with csv files.\n",
    "# To load only one column, we have to pass the index number of the column\n",
    "\n",
    "data = np.loadtxt(\"marks.csv\", delimiter=',',usecols=(5),skiprows=1, dtype='int')\n",
    "print(data)\n",
    "\n",
    "\n",
    "\n",
    "\n"
   ]
  },
  {
   "cell_type": "code",
   "execution_count": 30,
   "id": "79b2c11c",
   "metadata": {},
   "outputs": [
    {
     "name": "stdout",
     "output_type": "stream",
     "text": [
      "Sum: 47356\n",
      "Max: 474\n",
      "Min: 252\n",
      "Average: 364.2769230769231\n",
      "Standard Deviation: 66.17947803971762\n",
      "Variance: 4379.723313609467\n"
     ]
    }
   ],
   "source": [
    "# Useful functions in Numpy\n",
    "\n",
    "print(\"Sum:\", data.sum())          #adds up all the values in the dataset.\n",
    "print(\"Max:\", data.max())\n",
    "print(\"Min:\", data.min())\n",
    "print(\"Average:\", data.mean())\n",
    "print(\"Standard Deviation:\", data.std())\n",
    "print(\"Variance:\", data.var())     #Square root of the variance"
   ]
  },
  {
   "cell_type": "code",
   "execution_count": 35,
   "id": "dc0f5791",
   "metadata": {},
   "outputs": [
    {
     "name": "stdout",
     "output_type": "stream",
     "text": [
      "(6,)\n",
      "[[36 87 51]\n",
      " [21 96 32]]\n"
     ]
    }
   ],
   "source": [
    "# Reshaping in Numpy array\n",
    "\n",
    "ar = np.array([36,87,51,21,96,32])\n",
    "print(ar.shape)\n",
    "#2,3\n",
    "\n",
    "ar_new = ar.reshape(2,3)\n",
    "print(ar_new)\n",
    "\n",
    "#ar_new = ar.reshape(3,3) error!\n",
    "#print(ar_new)"
   ]
  },
  {
   "cell_type": "code",
   "execution_count": 39,
   "id": "081f79be",
   "metadata": {},
   "outputs": [
    {
     "name": "stdout",
     "output_type": "stream",
     "text": [
      "[[10 11]\n",
      " [20 21]\n",
      " [30 31]]\n",
      "<built-in method transpose of numpy.ndarray object at 0x7fa46f183870>\n"
     ]
    }
   ],
   "source": [
    "# Transpose\n",
    "ar = np.array([[10,11],[20,21],[30,31]])\n",
    "print(ar)\n",
    "print(ar.transpose)\n"
   ]
  },
  {
   "cell_type": "code",
   "execution_count": 38,
   "id": "9eba5813",
   "metadata": {},
   "outputs": [
    {
     "name": "stdout",
     "output_type": "stream",
     "text": [
      "[36 87 51 21 96 32]\n",
      "[[36]\n",
      " [87]\n",
      " [51]\n",
      " [21]\n",
      " [96]\n",
      " [32]]\n"
     ]
    }
   ],
   "source": [
    "ar = np.array([36,87,51,21,96,32])\n",
    "print(ar)\n",
    "print(ar.reshape(-1,1))  #converting into one dimensioal array"
   ]
  },
  {
   "cell_type": "code",
   "execution_count": null,
   "id": "6f4d6621",
   "metadata": {},
   "outputs": [],
   "source": [
    "# Explore stack() function and fancy indexing\n"
   ]
  },
  {
   "cell_type": "code",
   "execution_count": 42,
   "id": "e6c8db79",
   "metadata": {},
   "outputs": [
    {
     "name": "stdout",
     "output_type": "stream",
     "text": [
      "[10, 20, 30, 40, 50, 10, 20, 30, 40, 50]\n",
      "[ 20  40  60  80 100]\n",
      "[  1000   8000  27000  64000 125000]\n"
     ]
    }
   ],
   "source": [
    "# Broadcasting operations\n",
    "\n",
    "lst = [10,20,30,40,50]\n",
    "print(lst*2)     # will repeat the array items.\n",
    "\n",
    "ar = np.array([10,20,30,40,50])\n",
    "print(ar*2)      # will perform the operation directly on the object.\n",
    "print(ar**3)"
   ]
  },
  {
   "cell_type": "code",
   "execution_count": null,
   "id": "52f76a4d",
   "metadata": {},
   "outputs": [],
   "source": []
  }
 ],
 "metadata": {
  "kernelspec": {
   "display_name": "Python 3 (ipykernel)",
   "language": "python",
   "name": "python3"
  },
  "language_info": {
   "codemirror_mode": {
    "name": "ipython",
    "version": 3
   },
   "file_extension": ".py",
   "mimetype": "text/x-python",
   "name": "python",
   "nbconvert_exporter": "python",
   "pygments_lexer": "ipython3",
   "version": "3.9.7"
  }
 },
 "nbformat": 4,
 "nbformat_minor": 5
}
