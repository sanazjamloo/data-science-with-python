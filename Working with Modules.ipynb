{
 "cells": [
  {
   "cell_type": "code",
   "execution_count": null,
   "id": "7de3f319",
   "metadata": {},
   "outputs": [],
   "source": [
    "# Libraries(modules):\n",
    "# Built-in, Third party libraries (such as NumPy, panadas, need to be imported first), user defined \n",
    "# Bulit-in modules: https://docs.python.org/3/py-modindex.html\n",
    "# Libraries are .py files"
   ]
  },
  {
   "cell_type": "code",
   "execution_count": 7,
   "id": "4abbd933",
   "metadata": {},
   "outputs": [
    {
     "name": "stdout",
     "output_type": "stream",
     "text": [
      "8.0\n",
      "46\n",
      "45\n",
      "3.141592653589793\n"
     ]
    }
   ],
   "source": [
    "# Import statements\n",
    "\n",
    "import math\n",
    "print(math.sqrt(64))\n",
    "print(math.ceil(45.36987))\n",
    "print(math.floor(45.36987))\n",
    "print(math.pi)\n"
   ]
  },
  {
   "cell_type": "code",
   "execution_count": 9,
   "id": "520940c5",
   "metadata": {},
   "outputs": [
    {
     "name": "stdout",
     "output_type": "stream",
     "text": [
      "10.0\n"
     ]
    }
   ],
   "source": [
    "from math import sqrt,factorial  #only import two modules\n",
    "print(sqrt(100))"
   ]
  },
  {
   "cell_type": "code",
   "execution_count": 13,
   "id": "25bc1cc4",
   "metadata": {},
   "outputs": [
    {
     "name": "stdout",
     "output_type": "stream",
     "text": [
      "120\n"
     ]
    }
   ],
   "source": [
    "# Alias for each module\n",
    "import pandas as pd\n",
    "from math import factorial as fc\n",
    "print(fc(5))"
   ]
  },
  {
   "cell_type": "code",
   "execution_count": null,
   "id": "6697b844",
   "metadata": {},
   "outputs": [],
   "source": [
    "# Explore math,re,datetime modules on your own. "
   ]
  },
  {
   "cell_type": "code",
   "execution_count": 14,
   "id": "e94ab336",
   "metadata": {},
   "outputs": [
    {
     "name": "stdout",
     "output_type": "stream",
     "text": [
      "Hi, Sasha from userdefined module!\n",
      "None\n",
      "120\n"
     ]
    }
   ],
   "source": [
    "# Packages: Combining modules\n",
    "\n",
    "# Creating your own libraries: creating a file that contains a function in it. This file should be saved in the current working directory.\n",
    "import Mymodule\n",
    "print(Mymodule.greet(\"Sasha\"))\n",
    "print(Mymodule.fact(5))"
   ]
  },
  {
   "cell_type": "code",
   "execution_count": 15,
   "id": "733acae9",
   "metadata": {},
   "outputs": [
    {
     "name": "stdout",
     "output_type": "stream",
     "text": [
      "[78, 36, 98, 52, 12]\n"
     ]
    }
   ],
   "source": [
    "import Mymodule as mm\n",
    "print(mm.even([78,36,98,52,45,12,63]))"
   ]
  },
  {
   "cell_type": "code",
   "execution_count": null,
   "id": "def0180c",
   "metadata": {},
   "outputs": [],
   "source": []
  }
 ],
 "metadata": {
  "kernelspec": {
   "display_name": "Python 3 (ipykernel)",
   "language": "python",
   "name": "python3"
  },
  "language_info": {
   "codemirror_mode": {
    "name": "ipython",
    "version": 3
   },
   "file_extension": ".py",
   "mimetype": "text/x-python",
   "name": "python",
   "nbconvert_exporter": "python",
   "pygments_lexer": "ipython3",
   "version": "3.9.7"
  }
 },
 "nbformat": 4,
 "nbformat_minor": 5
}
